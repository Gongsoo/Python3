{
  "nbformat": 4,
  "nbformat_minor": 0,
  "metadata": {
    "colab": {
      "provenance": [],
      "mount_file_id": "1myP_vWxiEuJjrHO52PRcEERE9AYvV2P9",
      "authorship_tag": "ABX9TyMb5hzU3PnAn42izubuaB/Z",
      "include_colab_link": true
    },
    "kernelspec": {
      "name": "python3",
      "display_name": "Python 3"
    },
    "language_info": {
      "name": "python"
    },
    "accelerator": "GPU",
    "gpuClass": "standard"
  },
  "cells": [
    {
      "cell_type": "markdown",
      "metadata": {
        "id": "view-in-github",
        "colab_type": "text"
      },
      "source": [
        "<a href=\"https://colab.research.google.com/github/Gongsoo/Python3/blob/main/CIFAR-10.ipynb\" target=\"_parent\"><img src=\"https://colab.research.google.com/assets/colab-badge.svg\" alt=\"Open In Colab\"/></a>"
      ]
    },
    {
      "cell_type": "code",
      "execution_count": 1,
      "metadata": {
        "colab": {
          "base_uri": "https://localhost:8080/"
        },
        "id": "nTn2Xw_wa6dM",
        "outputId": "e3c723c2-d8cc-47ae-ec5f-2b688717d378"
      },
      "outputs": [
        {
          "output_type": "stream",
          "name": "stdout",
          "text": [
            "Mounted at /gdrive\n"
          ]
        }
      ],
      "source": [
        "from google.colab import drive\n",
        "drive.mount('/gdrive',force_remount=True)"
      ]
    },
    {
      "cell_type": "code",
      "source": [
        "#packages\n",
        "import torch\n",
        "import torch.nn as nn\n",
        "import torch.nn.functional as F\n",
        "import torchvision\n",
        "import torchvision.transforms as transforms\n",
        "import torchvision.datasets as datasets\n",
        "import numpy as np\n",
        "import pandas as pd\n",
        "\n",
        "import matplotlib.pyplot as plt\n",
        "from google.colab import files\n",
        "import PIL\n",
        "import shutil\n",
        "import zipfile\n",
        "import glob\n",
        "import os\n",
        "import time"
      ],
      "metadata": {
        "id": "yfcm03IUc1UO"
      },
      "execution_count": 2,
      "outputs": []
    },
    {
      "cell_type": "code",
      "source": [
        "transform = transforms.Compose(\n",
        "    [transforms.ToTensor()]\n",
        ")\n",
        "train = datasets.CIFAR10(root='/gdrive/MyDrive/CIFAR10', train = True, download = 'True', transform=transform)\n",
        "test = datasets.CIFAR10(root='/gdrive/MyDrive/CIFAR10', train = False, download = 'True', transform=transform)"
      ],
      "metadata": {
        "id": "m8MXrqfPi9vJ",
        "outputId": "c0b8ced5-d4e5-46e2-af5b-2872d26982c7",
        "colab": {
          "base_uri": "https://localhost:8080/"
        }
      },
      "execution_count": 3,
      "outputs": [
        {
          "output_type": "stream",
          "name": "stdout",
          "text": [
            "Files already downloaded and verified\n",
            "Files already downloaded and verified\n"
          ]
        }
      ]
    },
    {
      "cell_type": "code",
      "source": [
        "classes = ('plane', 'car', 'bird', 'cat',\n",
        "           'deer', 'dog', 'frog', 'horse', 'ship', 'truck')"
      ],
      "metadata": {
        "id": "lNLRbcItmET4"
      },
      "execution_count": 4,
      "outputs": []
    },
    {
      "cell_type": "code",
      "source": [
        "def view_image(sample,label):\n",
        "  sample = sample.permute(1,2,0)\n",
        "  fig, ax = plt.subplots(1)\n",
        "  ax.axis('off')\n",
        "  ax.set_title(classes[label])\n",
        "  ax.imshow(sample)\n",
        "  plt.show()"
      ],
      "metadata": {
        "id": "xedu0rV6lkLI"
      },
      "execution_count": 5,
      "outputs": []
    },
    {
      "cell_type": "code",
      "source": [
        "def calculate_norm(dataset):\n",
        "    # dataset의 axis=1, 2에 대한 평균 산출\n",
        "    mean_ = np.array([np.mean(x.numpy(), axis=(1, 2)) for x, _ in dataset])\n",
        "    # r, g, b 채널에 대한 각각의 평균 산출\n",
        "    mean_r = mean_[:, 0].mean()\n",
        "    mean_g = mean_[:, 1].mean()\n",
        "    mean_b = mean_[:, 2].mean()\n",
        "\n",
        "    # dataset의 axis=1, 2에 대한 표준편차 산출\n",
        "    std_ = np.array([np.std(x.numpy(), axis=(1, 2)) for x, _ in dataset])\n",
        "    # r, g, b 채널에 대한 각각의 표준편차 산출\n",
        "    std_r = std_[:, 0].mean()\n",
        "    std_g = std_[:, 1].mean()\n",
        "    std_b = std_[:, 2].mean()\n",
        "    \n",
        "    return (mean_r, mean_g, mean_b), (std_r, std_g, std_b)"
      ],
      "metadata": {
        "id": "E2mt5qLzsLkw"
      },
      "execution_count": 6,
      "outputs": []
    },
    {
      "cell_type": "code",
      "source": [
        "mean_train, std_train = calculate_norm(train)"
      ],
      "metadata": {
        "id": "t5e7df91sUGo"
      },
      "execution_count": 7,
      "outputs": []
    },
    {
      "cell_type": "code",
      "source": [
        "print(mean_train,std_train)"
      ],
      "metadata": {
        "id": "X8ieSHshsq9e",
        "outputId": "797865b9-34b2-4892-963d-2747049ff1a4",
        "colab": {
          "base_uri": "https://localhost:8080/"
        }
      },
      "execution_count": null,
      "outputs": [
        {
          "output_type": "stream",
          "name": "stdout",
          "text": [
            "(0.49139965, 0.48215845, 0.4465309) (0.20220213, 0.19931543, 0.20086348)\n"
          ]
        }
      ]
    },
    {
      "cell_type": "code",
      "source": [
        "transform_pre = transforms.Compose(\n",
        "    [transforms.ToTensor(),\n",
        "     transforms.Normalize(mean_train,std_train)]\n",
        ")\n",
        "train = datasets.CIFAR10(root='/gdrive/MyDrive/CIFAR10', train = True, download = 'False', transform=transform)\n",
        "test = datasets.CIFAR10(root='/gdrive/MyDrive/CIFAR10', train = False, download = 'False', transform=transform)"
      ],
      "metadata": {
        "id": "3hXYoHmLsue-",
        "outputId": "f834ea5e-3114-49ff-a1fa-f4bb26d2e75d",
        "colab": {
          "base_uri": "https://localhost:8080/"
        }
      },
      "execution_count": 8,
      "outputs": [
        {
          "output_type": "stream",
          "name": "stdout",
          "text": [
            "Files already downloaded and verified\n",
            "Files already downloaded and verified\n"
          ]
        }
      ]
    },
    {
      "cell_type": "code",
      "source": [
        "view_image(train[0][0],train[0][1])"
      ],
      "metadata": {
        "id": "waIrpWHTkZWG",
        "outputId": "61b0c41f-4f82-4eec-dd54-4be62bccc1e4",
        "colab": {
          "base_uri": "https://localhost:8080/",
          "height": 264
        }
      },
      "execution_count": 11,
      "outputs": [
        {
          "output_type": "display_data",
          "data": {
            "text/plain": [
              "<Figure size 432x288 with 1 Axes>"
            ],
            "image/png": "[encoded data removed]"
          },
          "metadata": {
            "needs_background": "light"
          }
        }
      ]
    },
    {
      "cell_type": "code",
      "source": [
        "batch_size = 32\n",
        "train_data_loader = torch.utils.data.DataLoader(train,batch_size=batch_size,shuffle = True)\n",
        "test_data_loader = torch.utils.data.DataLoader(test,batch_size=batch_size,shuffle = True)"
      ],
      "metadata": {
        "id": "6zFl6cpgtF2i"
      },
      "execution_count": 10,
      "outputs": []
    },
    {
      "cell_type": "code",
      "source": [
        "class CNN(nn.module) :\n",
        "  def __init__(self) :\n",
        "    super().__init__()\n",
        "    self.features = nn.Sequential(\n",
        "      nn.Conv2d(in_channels=3, out_channels = 64, stride = 1, padding = 1),\n",
        "      nn.BatchNorm2d(64),\n",
        "      nn.ReLU(),\n",
        "      nn.Conv2d(in_channels=64, out_channels = 256, stride = 1, padding = 1),\n",
        "      nn.BatchNorm2d(256),\n",
        "      nn.ReLU(),\n",
        "      nn.MaxPool2d(2,2),\n",
        "      nn.Conv2d(in_channels=256, out_channels = 512, stride = 1, padding = 1),\n",
        "      nn.BatchNorm2d(512),\n",
        "      nn.ReLU(),\n",
        "      nn.Conv2d(in_channels=512, out_channels = 256, stride = 1, padding = 1),\n",
        "      nn.BatchNorm2d(256),\n",
        "      nn.ReLU(),\n",
        "      nn.AvgPool2d(2,2)\n",
        "    )\n",
        "    self.classifier = nn.Sequential(\n",
        "      nn.Linear(256*2*2,4096),\n",
        "      nn.Linear(4096,2048),\n",
        "      nn.Linear(2048,10),\n",
        "      nn.SoftMax(10)\n",
        "\n",
        "    )\n",
        "\n",
        "  def forward(self, x) :\n",
        "    x = self.features(x)\n",
        "    x = self.flatten(x,1)\n",
        "    x = self.classifier(x)\n"
      ],
      "metadata": {
        "id": "-Sc-B_YKtZk7"
      },
      "execution_count": null,
      "outputs": []
    }
  ]
}