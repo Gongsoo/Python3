{
  "nbformat": 4,
  "nbformat_minor": 0,
  "metadata": {
    "colab": {
      "provenance": [],
      "authorship_tag": "ABX9TyNQL5gEwrd/8od/LwQlnNsK",
      "include_colab_link": true
    },
    "kernelspec": {
      "name": "python3",
      "display_name": "Python 3"
    },
    "language_info": {
      "name": "python"
    },
    "accelerator": "GPU",
    "gpuClass": "standard"
  },
  "cells": [
    {
      "cell_type": "markdown",
      "metadata": {
        "id": "view-in-github",
        "colab_type": "text"
      },
      "source": [
        "<a href=\"https://colab.research.google.com/github/Gongsoo/Python3/blob/main/MNIST_CNN_STUDY.ipynb\" target=\"_parent\"><img src=\"https://colab.research.google.com/assets/colab-badge.svg\" alt=\"Open In Colab\"/></a>"
      ]
    },
    {
      "cell_type": "code",
      "execution_count": 15,
      "metadata": {
        "id": "YK0D9iRL9Cuh"
      },
      "outputs": [],
      "source": [
        "import torch\n",
        "import torch.nn as nn\n",
        "\n",
        "inputs = torch.Tensor(1,1,28,28)\n",
        "\n",
        "conv1 = nn.Conv2d(1,32,3,padding=1)\n",
        "conv2 = nn.Conv2d(32,64,kernel_size = 3,padding=1)\n",
        "pool = nn.MaxPool2d(2)\n",
        "fc = nn.Linear(3136,10)\n",
        "out = conv1(inputs)\n",
        "out = pool(out)\n",
        "out = conv2(out)\n",
        "out = pool(out)\n",
        "\n",
        "out = out.view(out.size(0),-1)\n",
        "out = fc(out)"
      ]
    },
    {
      "cell_type": "code",
      "source": [
        "import torch\n",
        "import torchvision.datasets as dsets\n",
        "import torchvision.transforms as transforms\n",
        "import torch.nn.init\n",
        "\n",
        "device = 'cuda' if torch.cuda.is_available() else 'cpu'\n",
        "print(device)\n",
        "\n",
        "torch.manual_seed(777)\n",
        "\n",
        "if device == 'cuda' :\n",
        "  torch.cuda.manual_seed_all(777)"
      ],
      "metadata": {
        "colab": {
          "base_uri": "https://localhost:8080/"
        },
        "id": "ycIv8XV1_bFu",
        "outputId": "5613bff3-3170-4cef-fe25-c5d046056bb7"
      },
      "execution_count": 16,
      "outputs": [
        {
          "output_type": "stream",
          "name": "stdout",
          "text": [
            "cuda\n"
          ]
        }
      ]
    },
    {
      "cell_type": "code",
      "source": [
        "lr = 0.01\n",
        "epochs = 15\n",
        "batch_size = 100\n",
        "\n",
        "mnist_train = dsets.MNIST(root = 'MNIST_data', train = True, transform = transforms.ToTensor(),download=True)\n",
        "mnist_test = dsets.MNIST(root = 'MNIST_data', train = False, transform = transforms.ToTensor(),download=True)\n",
        "data_loader = torch.utils.data.DataLoader(dataset = mnist_train,batch_size = batch_size,shuffle = True,drop_last = True)\n",
        "\n"
      ],
      "metadata": {
        "id": "AGInlZIKAMU-"
      },
      "execution_count": 17,
      "outputs": []
    },
    {
      "cell_type": "code",
      "source": [
        "class CNN(torch.nn.Module) :\n",
        "  def __init__(self) :\n",
        "    super(CNN, self).__init__()\n",
        "    self.keep_prob = 0.5\n",
        "    self.layer1 = torch.nn.Sequential(\n",
        "        torch.nn.Conv2d(1,32,kernel_size = 3, stride = 1, padding = 1),\n",
        "        torch.nn.ReLU(),\n",
        "        torch.nn.MaxPool2d(kernel_size=2, stride=2)\n",
        "    )\n",
        "    self.layer2 = torch.nn.Sequential(\n",
        "        torch.nn.Conv2d(32,64,kernel_size = 3, stride = 1, padding = 1),\n",
        "        torch.nn.ReLU(),\n",
        "        torch.nn.MaxPool2d(kernel_size=2, stride=2)\n",
        "    )\n",
        "    self.layer3 = torch.nn.Sequential(\n",
        "        torch.nn.Conv2d(64,128,kernel_size = 3, stride = 1, padding = 1),\n",
        "        torch.nn.ReLU(),\n",
        "        torch.nn.MaxPool2d(kernel_size=2, stride=2,padding=1)\n",
        "    )\n",
        "    self.fc1 = torch.nn.Linear(4*4*128,625,bias=True)\n",
        "    torch.nn.init.xavier_uniform_(self.fc1.weight)\n",
        "    self.layer4 = torch.nn.Sequential(\n",
        "        self.fc1,\n",
        "        torch.nn.ReLU(),\n",
        "        torch.nn.Dropout(p=1-self.keep_prob)\n",
        "    )\n",
        "    self.fc2 = torch.nn.Linear(625,10,bias = True)\n",
        "    torch.nn.init.xavier_uniform_(self.fc2.weight)\n",
        "\n",
        "  def forward(self, x) :\n",
        "    out = self.layer1(x)\n",
        "    out = self.layer2(out)\n",
        "    out = self.layer3(out)\n",
        "    out = out.view(out.size(0),-1)\n",
        "    out = self.layer4(out)\n",
        "    out = self.fc2(out)\n",
        "    return out"
      ],
      "metadata": {
        "id": "pwnJB9hpBNEO"
      },
      "execution_count": 18,
      "outputs": []
    },
    {
      "cell_type": "code",
      "source": [
        "model = CNN().to(device)\n",
        "\n",
        "criterion = torch.nn.CrossEntropyLoss().to(device)\n",
        "optimizer = torch.optim.Adam(model.parameters(), lr = lr)"
      ],
      "metadata": {
        "id": "GTXw8_AWCaMe"
      },
      "execution_count": 19,
      "outputs": []
    },
    {
      "cell_type": "code",
      "source": [
        "for epoch in range(epochs) :\n",
        "  avg_cost = 0\n",
        "\n",
        "  for X,Y in data_loader :\n",
        "    X = X.to(device)\n",
        "    Y = Y.to(device)\n",
        "\n",
        "    optimizer.zero_grad()\n",
        "    hypothesis = model(X)\n",
        "    cost = criterion(hypothesis,Y)\n",
        "    cost.backward()\n",
        "    optimizer.step()\n",
        "\n",
        "    avg_cost += cost/len(data_loader)\n",
        "  \n",
        "  print('[Epoch: {:>4} cost = {:>.9}'.format(epoch+1,avg_cost))"
      ],
      "metadata": {
        "colab": {
          "base_uri": "https://localhost:8080/"
        },
        "id": "IzeQocw2Cuuw",
        "outputId": "1d4b42e2-aefc-4ef8-a7a5-bac0f4a38771"
      },
      "execution_count": 20,
      "outputs": [
        {
          "output_type": "stream",
          "name": "stdout",
          "text": [
            "[Epoch:    1 cost = 0.393967003\n",
            "[Epoch:    2 cost = 0.202635407\n",
            "[Epoch:    3 cost = 0.17179437\n",
            "[Epoch:    4 cost = 0.158677757\n",
            "[Epoch:    5 cost = 0.14911063\n",
            "[Epoch:    6 cost = 0.144889668\n",
            "[Epoch:    7 cost = 0.142894909\n",
            "[Epoch:    8 cost = 0.140646517\n",
            "[Epoch:    9 cost = 0.13554661\n",
            "[Epoch:   10 cost = 0.1383733\n",
            "[Epoch:   11 cost = 0.14045015\n",
            "[Epoch:   12 cost = 0.140136912\n",
            "[Epoch:   13 cost = 0.14092733\n",
            "[Epoch:   14 cost = 0.130244896\n",
            "[Epoch:   15 cost = 0.135087296\n"
          ]
        }
      ]
    },
    {
      "cell_type": "code",
      "source": [
        "# 학습을 진행하지 않을 것이므로 torch.no_grad()\n",
        "with torch.no_grad():\n",
        "    X_test = mnist_test.test_data.view(len(mnist_test), 1, 28, 28).float().to(device)\n",
        "    Y_test = mnist_test.test_labels.to(device)\n",
        "\n",
        "    prediction = model(X_test)\n",
        "    correct_prediction = torch.argmax(prediction, 1) == Y_test\n",
        "    accuracy = correct_prediction.float().mean()\n",
        "    print('Accuracy:', accuracy.item())"
      ],
      "metadata": {
        "colab": {
          "base_uri": "https://localhost:8080/"
        },
        "id": "icP0pycsFKa0",
        "outputId": "789bb8aa-2100-4eb7-b8b7-f497f830d7c0"
      },
      "execution_count": 22,
      "outputs": [
        {
          "output_type": "stream",
          "name": "stdout",
          "text": [
            "Accuracy: 0.7865999937057495\n"
          ]
        }
      ]
    }
  ]
}