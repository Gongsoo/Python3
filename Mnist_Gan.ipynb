{
  "nbformat": 4,
  "nbformat_minor": 0,
  "metadata": {
    "colab": {
      "provenance": [],
      "include_colab_link": true
    },
    "kernelspec": {
      "name": "python3",
      "display_name": "Python 3"
    },
    "accelerator": "GPU",
    "gpuClass": "standard"
  },
  "cells": [
    {
      "cell_type": "markdown",
      "metadata": {
        "id": "view-in-github",
        "colab_type": "text"
      },
      "source": [
        "<a href=\"https://colab.research.google.com/github/Gongsoo/Python3/blob/main/Mnist_Gan.ipynb\" target=\"_parent\"><img src=\"https://colab.research.google.com/assets/colab-badge.svg\" alt=\"Open In Colab\"/></a>"
      ]
    },
    {
      "cell_type": "code",
      "source": [
        "from google.colab import drive\n",
        "drive.mount('/content/drive')"
      ],
      "metadata": {
        "id": "lLCzSxpF5TNW",
        "outputId": "c244a86a-3f6c-41a8-baa8-cbd91d59571f",
        "colab": {
          "base_uri": "https://localhost:8080/"
        }
      },
      "execution_count": 32,
      "outputs": [
        {
          "output_type": "stream",
          "name": "stdout",
          "text": [
            "Mounted at /content/drive\n"
          ]
        }
      ]
    },
    {
      "cell_type": "code",
      "source": [
        "import os\n",
        "import torch\n",
        "import torch.nn as nn\n",
        "import torch.optim as optim\n",
        "import torchvision.utils as utils\n",
        "from torchvision.utils import save_image\n",
        "import torchvision.datasets as dsets\n",
        "import torchvision.transforms as transforms\n",
        "device = 'cuda' if torch.cuda.is_available() else 'cpu'\n",
        "print(device)"
      ],
      "metadata": {
        "id": "aC-EYuNLscyT",
        "outputId": "6dcd9734-4971-4fed-a2d4-b57166149879",
        "colab": {
          "base_uri": "https://localhost:8080/"
        }
      },
      "execution_count": 36,
      "outputs": [
        {
          "output_type": "stream",
          "name": "stdout",
          "text": [
            "cuda\n"
          ]
        }
      ]
    },
    {
      "cell_type": "code",
      "source": [
        "standardizator = transforms.Compose([transforms.ToTensor(),transforms.Normalize(mean=(0.5,),std=(0.5,))])#무엇?\n",
        "\n",
        "train_data = dsets.MNIST(root='data/',train=True,transform=standardizator, download=True)\n",
        "test_data = dsets.MNIST(root='data/',train=False,transform=standardizator, download=True)\n",
        "\n",
        "batch_size = 200\n",
        "train_data_loader = torch.utils.data.DataLoader(train_data,batch_size, shuffle = True)\n",
        "test_data_loader = torch.utils.data.DataLoader(test_data,batch_size, shuffle = True)\n",
        "\n"
      ],
      "metadata": {
        "id": "9TAdn6olTbwA"
      },
      "execution_count": 49,
      "outputs": []
    },
    {
      "cell_type": "code",
      "source": [
        "import numpy as np\n",
        "import matplotlib.pyplot as plt\n",
        "\n",
        "def imshow(img) :\n",
        "  img = (img+1)/2\n",
        "  img = img.squeeze()\n",
        "  np_img = img.numpy()\n",
        "  plt.imshow(np_img,cmap='gray')\n",
        "  plt.show()\n",
        "\n",
        "def imshow_grid(img) :\n",
        "  img = utils.make_grid(img.cpu().detach())\n",
        "  img = (img+1)/2\n",
        "  npimg = img.numpy()\n",
        "  plt.imshow(np.transpose(npimg,(1,2,0)))\n",
        "  plt.show()\n",
        "\n",
        "'''for i, img in enumerate(train_data_loader) :\n",
        "  print(i,len(img))\n",
        "  print(img[0].size())'''\n",
        "ex_x,ex_y=next(iter(train_data_loader))\n",
        "imshow_grid(ex_x[:16,:,:])"
      ],
      "metadata": {
        "id": "MnJC-hjXpXWJ",
        "outputId": "017602ca-b55d-425c-8e56-bb6a9ba071bd",
        "colab": {
          "base_uri": "https://localhost:8080/",
          "height": 137
        }
      },
      "execution_count": 50,
      "outputs": [
        {
          "output_type": "display_data",
          "data": {
            "text/plain": [
              "<Figure size 432x288 with 1 Axes>"
            ],
            "image/png": "[encoded data removed]"
          },
          "metadata": {
            "needs_background": "light"
          }
        }
      ]
    },
    {
      "cell_type": "code",
      "source": [
        "def denorm(x):\n",
        "    out = (x + 1) / 2\n",
        "    return out.clamp(0, 1)\n",
        "\n",
        "def reset_grad():\n",
        "    d_optimizer.zero_grad()\n",
        "    g_optimizer.zero_grad()"
      ],
      "metadata": {
        "id": "uj4ydxk45l0z"
      },
      "execution_count": 51,
      "outputs": []
    },
    {
      "cell_type": "code",
      "source": [
        "latent_size = 64\n",
        "hidden_size = 256\n",
        "image_size = 784\n",
        "num_epochs = 200"
      ],
      "metadata": {
        "id": "-yMHzHLjuNLH"
      },
      "execution_count": 52,
      "outputs": []
    },
    {
      "cell_type": "code",
      "source": [
        "# Discriminator\n",
        "\n",
        "D = nn.Sequential(\n",
        "    nn.Linear(image_size,hidden_size),\n",
        "    nn.LeakyReLU(0.2),\n",
        "    nn.Linear(hidden_size,hidden_size),\n",
        "    nn.LeakyReLU(0.2),\n",
        "    nn.Linear(hidden_size, 1),\n",
        "    nn.Sigmoid()\n",
        ")\n",
        "\n",
        "G = nn.Sequential(\n",
        "    nn.Linear(latent_size,hidden_size),\n",
        "    nn.ReLU(),\n",
        "    nn.Linear(hidden_size,hidden_size),\n",
        "    nn.ReLU(),\n",
        "    nn.Linear(hidden_size, image_size),\n",
        "    nn.Tanh()\n",
        ")\n",
        "\n",
        "D = D.to(device)\n",
        "G = G.to(device)\n",
        "\n",
        "criterion = nn.BCELoss()\n",
        "d_optimizer = torch.optim.Adam(D.parameters(),lr=0.0002)\n",
        "g_optimizer = torch.optim.Adam(G.parameters(),lr=0.0002)"
      ],
      "metadata": {
        "id": "kVFKZeKct3On"
      },
      "execution_count": 53,
      "outputs": []
    },
    {
      "cell_type": "code",
      "source": [
        "def sample_z(batch_size = 1, d_noise=64) :\n",
        "  return torch.randn(batch_size, d_noise, device = device)\n",
        "\n",
        "z = sample_z()\n",
        "'''\n",
        "img_fake = G(z).view(-1,28,28)\n",
        "\n",
        "imshow(img_fake.squeeze().cpu().detach())\n",
        "'''\n",
        "z = sample_z(batch_size)\n",
        "img_fake = G(z)\n",
        "imshow_grid(img_fake)\n",
        "                     "
      ],
      "metadata": {
        "id": "H4olWX_dpndP",
        "outputId": "160d0f2e-54e9-42cf-aac1-1a97711b081e",
        "colab": {
          "base_uri": "https://localhost:8080/",
          "height": 137
        }
      },
      "execution_count": 54,
      "outputs": [
        {
          "output_type": "display_data",
          "data": {
            "text/plain": [
              "<Figure size 432x288 with 1 Axes>"
            ],
            "image/png": "[encoded data removed]"
          },
          "metadata": {
            "needs_background": "light"
          }
        }
      ]
    },
    {
      "cell_type": "code",
      "source": [
        "total_step = len(train_data_loader)\n",
        "\n",
        "for epoch in range(num_epochs) :\n",
        "  for i, (images,_) in enumerate(train_data_loader) :\n",
        "    images = images.reshape(batch_size,-1).to(device)\n",
        "\n",
        "    real_labels = torch.ones(batch_size,1).to(device)\n",
        "    fake_labels = torch.zeros(batch_size,1).to(device)\n",
        "\n",
        "    #train D\n",
        "    outputs = D(images)\n",
        "    d_loss_real = criterion(outputs, real_labels)\n",
        "    real_score = outputs\n",
        "\n",
        "    z = torch.randn(batch_size, latent_size).to(device)\n",
        "    fake_images = G(z)\n",
        "    outputs = D(fake_images)\n",
        "    d_loss_fake = criterion(outputs, fake_labels)\n",
        "    fake_score = outputs\n",
        "\n",
        "    #Backprop\n",
        "    d_loss = d_loss_real + d_loss_fake\n",
        "    reset_grad()\n",
        "    d_loss.backward()\n",
        "    d_optimizer.step()\n",
        "\n",
        "    #train G\n",
        "    z = torch.randn(batch_size,latent_size).to(device)\n",
        "    fake_images = G(z)\n",
        "    outputs = D(fake_images)\n",
        "\n",
        "    g_loss = criterion(outputs,real_labels)\n",
        "\n",
        "    reset_grad()\n",
        "    g_loss.backward()\n",
        "    g_optimizer.step()\n",
        "\n",
        "  print('Epoch [{}/{}], Step [{}/{}], d_loss: {:.4f}, g_loss: {:.4f}, D(x): {:.2f}, D(G(z)): {:.2f}' \n",
        "                  .format(epoch, num_epochs, i+1, total_step, d_loss.item(), g_loss.item(), \n",
        "                          real_score.mean().item(), fake_score.mean().item()))\n",
        "  if (epoch+1) == 1 :\n",
        "    images = images.reshape(images.size(0),1,28,28)\n",
        "    save_image(denorm(images),os.path.join('/content/drive/MyDrive/jj','real_images.png'))\n",
        "  fake_images = fake_images.reshape(fake_images.size(0),1,28,28)\n",
        "  save_image(denorm(fake_images), os.path.join('/content/drive/MyDrive/jj','fake_images-{}.png'.format(epoch+1)))\n",
        "\n"
      ],
      "metadata": {
        "id": "Va-lmHhS0jpG",
        "outputId": "2a0371de-f526-4647-a73a-451894cfdc27",
        "colab": {
          "base_uri": "https://localhost:8080/"
        }
      },
      "execution_count": 61,
      "outputs": [
        {
          "output_type": "stream",
          "name": "stdout",
          "text": [
            "Epoch [0/200], Step [300/300], d_loss: 0.4357, g_loss: 3.5740, D(x): 0.88, D(G(z)): 0.16\n",
            "Epoch [1/200], Step [300/300], d_loss: 0.5711, g_loss: 2.7377, D(x): 0.81, D(G(z)): 0.16\n",
            "Epoch [2/200], Step [300/300], d_loss: 0.6453, g_loss: 2.6786, D(x): 0.80, D(G(z)): 0.16\n",
            "Epoch [3/200], Step [300/300], d_loss: 0.3917, g_loss: 3.6683, D(x): 0.85, D(G(z)): 0.09\n",
            "Epoch [4/200], Step [300/300], d_loss: 0.4752, g_loss: 2.8866, D(x): 0.87, D(G(z)): 0.17\n",
            "Epoch [5/200], Step [300/300], d_loss: 0.6369, g_loss: 2.2832, D(x): 0.82, D(G(z)): 0.20\n",
            "Epoch [6/200], Step [300/300], d_loss: 0.4266, g_loss: 3.3922, D(x): 0.85, D(G(z)): 0.13\n",
            "Epoch [7/200], Step [300/300], d_loss: 0.4679, g_loss: 3.5084, D(x): 0.85, D(G(z)): 0.13\n",
            "Epoch [8/200], Step [300/300], d_loss: 0.5919, g_loss: 2.9879, D(x): 0.89, D(G(z)): 0.23\n",
            "Epoch [9/200], Step [300/300], d_loss: 0.4449, g_loss: 3.5520, D(x): 0.85, D(G(z)): 0.16\n",
            "Epoch [10/200], Step [300/300], d_loss: 0.4412, g_loss: 3.0053, D(x): 0.86, D(G(z)): 0.15\n",
            "Epoch [11/200], Step [300/300], d_loss: 0.4414, g_loss: 3.0338, D(x): 0.90, D(G(z)): 0.21\n",
            "Epoch [12/200], Step [300/300], d_loss: 0.4800, g_loss: 2.7767, D(x): 0.81, D(G(z)): 0.11\n",
            "Epoch [13/200], Step [300/300], d_loss: 0.7039, g_loss: 2.8744, D(x): 0.76, D(G(z)): 0.16\n",
            "Epoch [14/200], Step [300/300], d_loss: 0.5670, g_loss: 3.1372, D(x): 0.86, D(G(z)): 0.24\n",
            "Epoch [15/200], Step [300/300], d_loss: 0.4004, g_loss: 2.9554, D(x): 0.87, D(G(z)): 0.16\n",
            "Epoch [16/200], Step [300/300], d_loss: 0.5764, g_loss: 2.4745, D(x): 0.85, D(G(z)): 0.22\n",
            "Epoch [17/200], Step [300/300], d_loss: 0.6583, g_loss: 2.2404, D(x): 0.80, D(G(z)): 0.23\n",
            "Epoch [18/200], Step [300/300], d_loss: 0.4881, g_loss: 2.6853, D(x): 0.78, D(G(z)): 0.08\n",
            "Epoch [19/200], Step [300/300], d_loss: 0.7520, g_loss: 1.8823, D(x): 0.75, D(G(z)): 0.20\n",
            "Epoch [20/200], Step [300/300], d_loss: 0.7706, g_loss: 1.9880, D(x): 0.78, D(G(z)): 0.27\n",
            "Epoch [21/200], Step [300/300], d_loss: 0.4616, g_loss: 3.0843, D(x): 0.83, D(G(z)): 0.16\n",
            "Epoch [22/200], Step [300/300], d_loss: 0.5360, g_loss: 2.8274, D(x): 0.82, D(G(z)): 0.17\n",
            "Epoch [23/200], Step [300/300], d_loss: 0.5990, g_loss: 2.8529, D(x): 0.79, D(G(z)): 0.14\n",
            "Epoch [24/200], Step [300/300], d_loss: 0.5219, g_loss: 2.6014, D(x): 0.79, D(G(z)): 0.13\n",
            "Epoch [25/200], Step [300/300], d_loss: 0.7180, g_loss: 2.4881, D(x): 0.80, D(G(z)): 0.24\n",
            "Epoch [26/200], Step [300/300], d_loss: 0.6195, g_loss: 2.1762, D(x): 0.80, D(G(z)): 0.18\n",
            "Epoch [27/200], Step [300/300], d_loss: 0.4934, g_loss: 3.2030, D(x): 0.83, D(G(z)): 0.16\n",
            "Epoch [28/200], Step [300/300], d_loss: 0.6188, g_loss: 3.0685, D(x): 0.77, D(G(z)): 0.14\n",
            "Epoch [29/200], Step [300/300], d_loss: 0.5639, g_loss: 2.4594, D(x): 0.87, D(G(z)): 0.23\n",
            "Epoch [30/200], Step [300/300], d_loss: 0.4683, g_loss: 3.0978, D(x): 0.90, D(G(z)): 0.21\n",
            "Epoch [31/200], Step [300/300], d_loss: 0.4091, g_loss: 3.0268, D(x): 0.89, D(G(z)): 0.17\n",
            "Epoch [32/200], Step [300/300], d_loss: 0.4346, g_loss: 2.8140, D(x): 0.83, D(G(z)): 0.13\n",
            "Epoch [33/200], Step [300/300], d_loss: 0.7190, g_loss: 3.0036, D(x): 0.83, D(G(z)): 0.27\n",
            "Epoch [34/200], Step [300/300], d_loss: 0.6806, g_loss: 2.2044, D(x): 0.83, D(G(z)): 0.26\n",
            "Epoch [35/200], Step [300/300], d_loss: 0.5775, g_loss: 2.4954, D(x): 0.89, D(G(z)): 0.27\n",
            "Epoch [36/200], Step [300/300], d_loss: 0.6049, g_loss: 2.6849, D(x): 0.80, D(G(z)): 0.20\n",
            "Epoch [37/200], Step [300/300], d_loss: 0.6234, g_loss: 2.5528, D(x): 0.77, D(G(z)): 0.17\n",
            "Epoch [38/200], Step [300/300], d_loss: 0.5976, g_loss: 2.4745, D(x): 0.83, D(G(z)): 0.22\n",
            "Epoch [39/200], Step [300/300], d_loss: 0.6972, g_loss: 2.6301, D(x): 0.73, D(G(z)): 0.16\n",
            "Epoch [40/200], Step [300/300], d_loss: 0.7819, g_loss: 2.6106, D(x): 0.80, D(G(z)): 0.27\n",
            "Epoch [41/200], Step [300/300], d_loss: 0.7477, g_loss: 2.2333, D(x): 0.75, D(G(z)): 0.21\n",
            "Epoch [42/200], Step [300/300], d_loss: 0.6660, g_loss: 2.4118, D(x): 0.82, D(G(z)): 0.24\n",
            "Epoch [43/200], Step [300/300], d_loss: 0.5800, g_loss: 2.2719, D(x): 0.85, D(G(z)): 0.23\n",
            "Epoch [44/200], Step [300/300], d_loss: 0.5987, g_loss: 2.5729, D(x): 0.85, D(G(z)): 0.25\n",
            "Epoch [45/200], Step [300/300], d_loss: 0.5554, g_loss: 2.4765, D(x): 0.80, D(G(z)): 0.18\n",
            "Epoch [46/200], Step [300/300], d_loss: 0.7052, g_loss: 2.5661, D(x): 0.79, D(G(z)): 0.23\n",
            "Epoch [47/200], Step [300/300], d_loss: 0.7329, g_loss: 2.1254, D(x): 0.85, D(G(z)): 0.31\n",
            "Epoch [48/200], Step [300/300], d_loss: 0.7871, g_loss: 1.9773, D(x): 0.78, D(G(z)): 0.27\n",
            "Epoch [49/200], Step [300/300], d_loss: 0.8049, g_loss: 1.8938, D(x): 0.77, D(G(z)): 0.28\n",
            "Epoch [50/200], Step [300/300], d_loss: 0.6967, g_loss: 2.3612, D(x): 0.80, D(G(z)): 0.26\n",
            "Epoch [51/200], Step [300/300], d_loss: 0.6259, g_loss: 2.5986, D(x): 0.81, D(G(z)): 0.22\n",
            "Epoch [52/200], Step [300/300], d_loss: 0.5931, g_loss: 2.1236, D(x): 0.79, D(G(z)): 0.19\n",
            "Epoch [53/200], Step [300/300], d_loss: 0.5478, g_loss: 2.5792, D(x): 0.81, D(G(z)): 0.17\n",
            "Epoch [54/200], Step [300/300], d_loss: 0.6573, g_loss: 1.9388, D(x): 0.81, D(G(z)): 0.25\n",
            "Epoch [55/200], Step [300/300], d_loss: 0.5937, g_loss: 2.3818, D(x): 0.81, D(G(z)): 0.21\n",
            "Epoch [56/200], Step [300/300], d_loss: 0.5823, g_loss: 2.3121, D(x): 0.81, D(G(z)): 0.21\n",
            "Epoch [57/200], Step [300/300], d_loss: 0.8418, g_loss: 2.0294, D(x): 0.74, D(G(z)): 0.24\n",
            "Epoch [58/200], Step [300/300], d_loss: 0.6152, g_loss: 2.5226, D(x): 0.81, D(G(z)): 0.19\n",
            "Epoch [59/200], Step [300/300], d_loss: 0.6736, g_loss: 2.3855, D(x): 0.85, D(G(z)): 0.29\n",
            "Epoch [60/200], Step [300/300], d_loss: 0.9266, g_loss: 1.7596, D(x): 0.68, D(G(z)): 0.20\n",
            "Epoch [61/200], Step [300/300], d_loss: 0.8709, g_loss: 1.9300, D(x): 0.70, D(G(z)): 0.23\n",
            "Epoch [62/200], Step [300/300], d_loss: 0.6556, g_loss: 2.0284, D(x): 0.78, D(G(z)): 0.23\n",
            "Epoch [63/200], Step [300/300], d_loss: 0.9316, g_loss: 1.9528, D(x): 0.78, D(G(z)): 0.34\n",
            "Epoch [64/200], Step [300/300], d_loss: 0.7193, g_loss: 1.8511, D(x): 0.76, D(G(z)): 0.24\n",
            "Epoch [65/200], Step [300/300], d_loss: 0.7604, g_loss: 2.4463, D(x): 0.73, D(G(z)): 0.19\n",
            "Epoch [66/200], Step [300/300], d_loss: 0.7340, g_loss: 1.8854, D(x): 0.76, D(G(z)): 0.22\n",
            "Epoch [67/200], Step [300/300], d_loss: 0.6157, g_loss: 2.2232, D(x): 0.78, D(G(z)): 0.20\n",
            "Epoch [68/200], Step [300/300], d_loss: 0.8050, g_loss: 2.3054, D(x): 0.76, D(G(z)): 0.26\n",
            "Epoch [69/200], Step [300/300], d_loss: 0.6692, g_loss: 2.1741, D(x): 0.83, D(G(z)): 0.27\n",
            "Epoch [70/200], Step [300/300], d_loss: 0.7477, g_loss: 2.0633, D(x): 0.78, D(G(z)): 0.25\n",
            "Epoch [71/200], Step [300/300], d_loss: 0.7474, g_loss: 1.5809, D(x): 0.78, D(G(z)): 0.26\n",
            "Epoch [72/200], Step [300/300], d_loss: 0.8514, g_loss: 1.6822, D(x): 0.74, D(G(z)): 0.28\n",
            "Epoch [73/200], Step [300/300], d_loss: 0.7720, g_loss: 2.6366, D(x): 0.79, D(G(z)): 0.26\n",
            "Epoch [74/200], Step [300/300], d_loss: 0.8442, g_loss: 1.7942, D(x): 0.74, D(G(z)): 0.23\n",
            "Epoch [75/200], Step [300/300], d_loss: 0.7406, g_loss: 2.0245, D(x): 0.73, D(G(z)): 0.20\n",
            "Epoch [76/200], Step [300/300], d_loss: 0.8415, g_loss: 1.9179, D(x): 0.75, D(G(z)): 0.30\n",
            "Epoch [77/200], Step [300/300], d_loss: 0.8701, g_loss: 1.7181, D(x): 0.76, D(G(z)): 0.32\n",
            "Epoch [78/200], Step [300/300], d_loss: 0.7095, g_loss: 2.0838, D(x): 0.77, D(G(z)): 0.22\n",
            "Epoch [79/200], Step [300/300], d_loss: 0.8393, g_loss: 1.4920, D(x): 0.74, D(G(z)): 0.28\n",
            "Epoch [80/200], Step [300/300], d_loss: 0.7532, g_loss: 2.1425, D(x): 0.74, D(G(z)): 0.25\n",
            "Epoch [81/200], Step [300/300], d_loss: 0.7483, g_loss: 1.6064, D(x): 0.79, D(G(z)): 0.29\n",
            "Epoch [82/200], Step [300/300], d_loss: 0.9590, g_loss: 1.7445, D(x): 0.63, D(G(z)): 0.22\n",
            "Epoch [83/200], Step [300/300], d_loss: 0.8649, g_loss: 1.9309, D(x): 0.80, D(G(z)): 0.34\n",
            "Epoch [84/200], Step [300/300], d_loss: 0.7905, g_loss: 2.0033, D(x): 0.68, D(G(z)): 0.15\n",
            "Epoch [85/200], Step [300/300], d_loss: 0.8891, g_loss: 1.6839, D(x): 0.74, D(G(z)): 0.31\n",
            "Epoch [86/200], Step [300/300], d_loss: 0.8475, g_loss: 1.6328, D(x): 0.74, D(G(z)): 0.28\n",
            "Epoch [87/200], Step [300/300], d_loss: 0.7290, g_loss: 1.9498, D(x): 0.76, D(G(z)): 0.26\n",
            "Epoch [88/200], Step [300/300], d_loss: 0.6074, g_loss: 2.2638, D(x): 0.79, D(G(z)): 0.22\n",
            "Epoch [89/200], Step [300/300], d_loss: 0.6587, g_loss: 2.0905, D(x): 0.80, D(G(z)): 0.25\n",
            "Epoch [90/200], Step [300/300], d_loss: 0.7100, g_loss: 2.3690, D(x): 0.75, D(G(z)): 0.23\n",
            "Epoch [91/200], Step [300/300], d_loss: 0.8454, g_loss: 1.9624, D(x): 0.72, D(G(z)): 0.24\n",
            "Epoch [92/200], Step [300/300], d_loss: 0.8316, g_loss: 1.5369, D(x): 0.70, D(G(z)): 0.22\n",
            "Epoch [93/200], Step [300/300], d_loss: 0.6185, g_loss: 2.0950, D(x): 0.81, D(G(z)): 0.23\n",
            "Epoch [94/200], Step [300/300], d_loss: 0.5282, g_loss: 2.2206, D(x): 0.85, D(G(z)): 0.22\n",
            "Epoch [95/200], Step [300/300], d_loss: 0.9191, g_loss: 1.5683, D(x): 0.71, D(G(z)): 0.31\n",
            "Epoch [96/200], Step [300/300], d_loss: 0.9382, g_loss: 1.9388, D(x): 0.72, D(G(z)): 0.30\n",
            "Epoch [97/200], Step [300/300], d_loss: 0.9691, g_loss: 1.8128, D(x): 0.68, D(G(z)): 0.27\n",
            "Epoch [98/200], Step [300/300], d_loss: 0.8248, g_loss: 1.4834, D(x): 0.80, D(G(z)): 0.32\n",
            "Epoch [99/200], Step [300/300], d_loss: 0.8164, g_loss: 2.2880, D(x): 0.75, D(G(z)): 0.27\n",
            "Epoch [100/200], Step [300/300], d_loss: 0.8924, g_loss: 1.6601, D(x): 0.77, D(G(z)): 0.31\n",
            "Epoch [101/200], Step [300/300], d_loss: 0.8699, g_loss: 2.0124, D(x): 0.71, D(G(z)): 0.25\n",
            "Epoch [102/200], Step [300/300], d_loss: 0.8616, g_loss: 1.7061, D(x): 0.76, D(G(z)): 0.30\n",
            "Epoch [103/200], Step [300/300], d_loss: 0.8869, g_loss: 1.8890, D(x): 0.71, D(G(z)): 0.26\n",
            "Epoch [104/200], Step [300/300], d_loss: 0.8265, g_loss: 1.8144, D(x): 0.74, D(G(z)): 0.29\n",
            "Epoch [105/200], Step [300/300], d_loss: 0.8990, g_loss: 2.2084, D(x): 0.72, D(G(z)): 0.25\n",
            "Epoch [106/200], Step [300/300], d_loss: 0.7643, g_loss: 1.5607, D(x): 0.77, D(G(z)): 0.25\n",
            "Epoch [107/200], Step [300/300], d_loss: 0.8636, g_loss: 2.1684, D(x): 0.71, D(G(z)): 0.26\n",
            "Epoch [108/200], Step [300/300], d_loss: 1.0087, g_loss: 2.2841, D(x): 0.71, D(G(z)): 0.29\n",
            "Epoch [109/200], Step [300/300], d_loss: 0.9254, g_loss: 1.9447, D(x): 0.74, D(G(z)): 0.32\n",
            "Epoch [110/200], Step [300/300], d_loss: 0.7888, g_loss: 2.0296, D(x): 0.74, D(G(z)): 0.25\n",
            "Epoch [111/200], Step [300/300], d_loss: 0.7242, g_loss: 2.2458, D(x): 0.71, D(G(z)): 0.19\n",
            "Epoch [112/200], Step [300/300], d_loss: 0.9957, g_loss: 1.7346, D(x): 0.71, D(G(z)): 0.31\n",
            "Epoch [113/200], Step [300/300], d_loss: 0.6752, g_loss: 1.6805, D(x): 0.79, D(G(z)): 0.26\n",
            "Epoch [114/200], Step [300/300], d_loss: 0.7548, g_loss: 1.7284, D(x): 0.72, D(G(z)): 0.20\n",
            "Epoch [115/200], Step [300/300], d_loss: 0.8172, g_loss: 1.5917, D(x): 0.75, D(G(z)): 0.30\n",
            "Epoch [116/200], Step [300/300], d_loss: 0.5959, g_loss: 2.0587, D(x): 0.76, D(G(z)): 0.18\n",
            "Epoch [117/200], Step [300/300], d_loss: 0.7288, g_loss: 2.2825, D(x): 0.76, D(G(z)): 0.23\n",
            "Epoch [118/200], Step [300/300], d_loss: 0.8610, g_loss: 2.1098, D(x): 0.72, D(G(z)): 0.27\n",
            "Epoch [119/200], Step [300/300], d_loss: 0.7762, g_loss: 1.5866, D(x): 0.78, D(G(z)): 0.29\n",
            "Epoch [120/200], Step [300/300], d_loss: 1.0450, g_loss: 2.1112, D(x): 0.73, D(G(z)): 0.35\n",
            "Epoch [121/200], Step [300/300], d_loss: 0.7957, g_loss: 1.5088, D(x): 0.79, D(G(z)): 0.32\n",
            "Epoch [122/200], Step [300/300], d_loss: 0.7252, g_loss: 2.0820, D(x): 0.75, D(G(z)): 0.25\n",
            "Epoch [123/200], Step [300/300], d_loss: 0.7634, g_loss: 2.0190, D(x): 0.75, D(G(z)): 0.25\n",
            "Epoch [124/200], Step [300/300], d_loss: 0.9589, g_loss: 1.8027, D(x): 0.68, D(G(z)): 0.29\n",
            "Epoch [125/200], Step [300/300], d_loss: 0.9118, g_loss: 1.5811, D(x): 0.72, D(G(z)): 0.30\n",
            "Epoch [126/200], Step [300/300], d_loss: 0.8249, g_loss: 1.9484, D(x): 0.70, D(G(z)): 0.21\n",
            "Epoch [127/200], Step [300/300], d_loss: 0.8635, g_loss: 1.8350, D(x): 0.78, D(G(z)): 0.34\n",
            "Epoch [128/200], Step [300/300], d_loss: 0.7663, g_loss: 1.6767, D(x): 0.78, D(G(z)): 0.32\n",
            "Epoch [129/200], Step [300/300], d_loss: 0.7537, g_loss: 1.9494, D(x): 0.75, D(G(z)): 0.26\n",
            "Epoch [130/200], Step [300/300], d_loss: 0.7773, g_loss: 1.6002, D(x): 0.74, D(G(z)): 0.26\n",
            "Epoch [131/200], Step [300/300], d_loss: 0.9126, g_loss: 1.3425, D(x): 0.69, D(G(z)): 0.26\n",
            "Epoch [132/200], Step [300/300], d_loss: 1.1406, g_loss: 1.4240, D(x): 0.82, D(G(z)): 0.49\n",
            "Epoch [133/200], Step [300/300], d_loss: 0.8148, g_loss: 1.7325, D(x): 0.72, D(G(z)): 0.26\n",
            "Epoch [134/200], Step [300/300], d_loss: 0.8582, g_loss: 1.5795, D(x): 0.75, D(G(z)): 0.33\n",
            "Epoch [135/200], Step [300/300], d_loss: 0.6718, g_loss: 2.1076, D(x): 0.74, D(G(z)): 0.20\n",
            "Epoch [136/200], Step [300/300], d_loss: 0.7314, g_loss: 2.0050, D(x): 0.73, D(G(z)): 0.23\n",
            "Epoch [137/200], Step [300/300], d_loss: 0.9836, g_loss: 1.4890, D(x): 0.77, D(G(z)): 0.40\n",
            "Epoch [138/200], Step [300/300], d_loss: 0.8894, g_loss: 1.7296, D(x): 0.70, D(G(z)): 0.26\n",
            "Epoch [139/200], Step [300/300], d_loss: 0.8162, g_loss: 1.7387, D(x): 0.80, D(G(z)): 0.34\n",
            "Epoch [140/200], Step [300/300], d_loss: 0.8441, g_loss: 1.7262, D(x): 0.69, D(G(z)): 0.22\n",
            "Epoch [141/200], Step [300/300], d_loss: 0.9090, g_loss: 2.0232, D(x): 0.66, D(G(z)): 0.26\n",
            "Epoch [142/200], Step [300/300], d_loss: 0.9729, g_loss: 1.2943, D(x): 0.64, D(G(z)): 0.26\n",
            "Epoch [143/200], Step [300/300], d_loss: 0.9909, g_loss: 1.4485, D(x): 0.69, D(G(z)): 0.32\n",
            "Epoch [144/200], Step [300/300], d_loss: 0.8219, g_loss: 1.7388, D(x): 0.72, D(G(z)): 0.26\n",
            "Epoch [145/200], Step [300/300], d_loss: 0.9364, g_loss: 1.6642, D(x): 0.69, D(G(z)): 0.27\n",
            "Epoch [146/200], Step [300/300], d_loss: 0.9243, g_loss: 1.9144, D(x): 0.67, D(G(z)): 0.27\n",
            "Epoch [147/200], Step [300/300], d_loss: 0.8159, g_loss: 1.8779, D(x): 0.78, D(G(z)): 0.30\n",
            "Epoch [148/200], Step [300/300], d_loss: 0.8323, g_loss: 1.7435, D(x): 0.76, D(G(z)): 0.31\n",
            "Epoch [149/200], Step [300/300], d_loss: 0.8275, g_loss: 1.8096, D(x): 0.70, D(G(z)): 0.24\n",
            "Epoch [150/200], Step [300/300], d_loss: 0.7294, g_loss: 1.7629, D(x): 0.75, D(G(z)): 0.24\n",
            "Epoch [151/200], Step [300/300], d_loss: 0.9401, g_loss: 1.3708, D(x): 0.67, D(G(z)): 0.24\n",
            "Epoch [152/200], Step [300/300], d_loss: 0.9414, g_loss: 1.7207, D(x): 0.67, D(G(z)): 0.28\n",
            "Epoch [153/200], Step [300/300], d_loss: 0.7845, g_loss: 1.6619, D(x): 0.70, D(G(z)): 0.21\n",
            "Epoch [154/200], Step [300/300], d_loss: 0.7201, g_loss: 2.5815, D(x): 0.72, D(G(z)): 0.19\n",
            "Epoch [155/200], Step [300/300], d_loss: 0.8495, g_loss: 1.7446, D(x): 0.66, D(G(z)): 0.20\n",
            "Epoch [156/200], Step [300/300], d_loss: 0.9793, g_loss: 1.5793, D(x): 0.66, D(G(z)): 0.30\n",
            "Epoch [157/200], Step [300/300], d_loss: 0.8083, g_loss: 1.9053, D(x): 0.69, D(G(z)): 0.24\n",
            "Epoch [158/200], Step [300/300], d_loss: 1.1064, g_loss: 1.3886, D(x): 0.64, D(G(z)): 0.32\n",
            "Epoch [159/200], Step [300/300], d_loss: 0.9416, g_loss: 1.4791, D(x): 0.69, D(G(z)): 0.28\n",
            "Epoch [160/200], Step [300/300], d_loss: 0.9170, g_loss: 1.7672, D(x): 0.73, D(G(z)): 0.32\n",
            "Epoch [161/200], Step [300/300], d_loss: 0.8468, g_loss: 1.6965, D(x): 0.75, D(G(z)): 0.31\n",
            "Epoch [162/200], Step [300/300], d_loss: 0.9760, g_loss: 1.7241, D(x): 0.73, D(G(z)): 0.33\n",
            "Epoch [163/200], Step [300/300], d_loss: 0.8577, g_loss: 1.7481, D(x): 0.73, D(G(z)): 0.32\n",
            "Epoch [164/200], Step [300/300], d_loss: 0.8934, g_loss: 1.8712, D(x): 0.67, D(G(z)): 0.22\n",
            "Epoch [165/200], Step [300/300], d_loss: 1.0826, g_loss: 1.1569, D(x): 0.67, D(G(z)): 0.35\n",
            "Epoch [166/200], Step [300/300], d_loss: 0.7408, g_loss: 1.7708, D(x): 0.75, D(G(z)): 0.24\n",
            "Epoch [167/200], Step [300/300], d_loss: 1.0098, g_loss: 1.4231, D(x): 0.65, D(G(z)): 0.29\n",
            "Epoch [168/200], Step [300/300], d_loss: 0.9419, g_loss: 1.2678, D(x): 0.67, D(G(z)): 0.28\n",
            "Epoch [169/200], Step [300/300], d_loss: 0.8004, g_loss: 1.5155, D(x): 0.72, D(G(z)): 0.27\n",
            "Epoch [170/200], Step [300/300], d_loss: 0.8164, g_loss: 1.5415, D(x): 0.73, D(G(z)): 0.28\n",
            "Epoch [171/200], Step [300/300], d_loss: 0.8882, g_loss: 1.3692, D(x): 0.71, D(G(z)): 0.29\n",
            "Epoch [172/200], Step [300/300], d_loss: 0.8131, g_loss: 1.8146, D(x): 0.76, D(G(z)): 0.29\n",
            "Epoch [173/200], Step [300/300], d_loss: 0.8905, g_loss: 1.7439, D(x): 0.70, D(G(z)): 0.28\n",
            "Epoch [174/200], Step [300/300], d_loss: 0.8815, g_loss: 1.3142, D(x): 0.74, D(G(z)): 0.31\n",
            "Epoch [175/200], Step [300/300], d_loss: 1.0202, g_loss: 2.1851, D(x): 0.59, D(G(z)): 0.21\n",
            "Epoch [176/200], Step [300/300], d_loss: 0.9776, g_loss: 1.9713, D(x): 0.66, D(G(z)): 0.28\n",
            "Epoch [177/200], Step [300/300], d_loss: 1.0480, g_loss: 1.9148, D(x): 0.65, D(G(z)): 0.29\n",
            "Epoch [178/200], Step [300/300], d_loss: 0.9154, g_loss: 1.5109, D(x): 0.74, D(G(z)): 0.34\n",
            "Epoch [179/200], Step [300/300], d_loss: 0.9378, g_loss: 1.4186, D(x): 0.75, D(G(z)): 0.35\n",
            "Epoch [180/200], Step [300/300], d_loss: 0.9391, g_loss: 1.7798, D(x): 0.69, D(G(z)): 0.30\n",
            "Epoch [181/200], Step [300/300], d_loss: 0.9651, g_loss: 1.4891, D(x): 0.73, D(G(z)): 0.34\n",
            "Epoch [182/200], Step [300/300], d_loss: 1.0202, g_loss: 1.6685, D(x): 0.66, D(G(z)): 0.27\n",
            "Epoch [183/200], Step [300/300], d_loss: 0.9745, g_loss: 1.5110, D(x): 0.71, D(G(z)): 0.34\n",
            "Epoch [184/200], Step [300/300], d_loss: 0.9230, g_loss: 1.9793, D(x): 0.73, D(G(z)): 0.33\n",
            "Epoch [185/200], Step [300/300], d_loss: 0.9655, g_loss: 1.6557, D(x): 0.70, D(G(z)): 0.32\n",
            "Epoch [186/200], Step [300/300], d_loss: 0.8528, g_loss: 1.6692, D(x): 0.75, D(G(z)): 0.31\n",
            "Epoch [187/200], Step [300/300], d_loss: 0.9271, g_loss: 1.4955, D(x): 0.67, D(G(z)): 0.27\n",
            "Epoch [188/200], Step [300/300], d_loss: 0.9144, g_loss: 1.6350, D(x): 0.72, D(G(z)): 0.31\n",
            "Epoch [189/200], Step [300/300], d_loss: 0.8949, g_loss: 1.3967, D(x): 0.75, D(G(z)): 0.33\n",
            "Epoch [190/200], Step [300/300], d_loss: 0.8644, g_loss: 1.8113, D(x): 0.72, D(G(z)): 0.29\n",
            "Epoch [191/200], Step [300/300], d_loss: 1.0606, g_loss: 1.6029, D(x): 0.66, D(G(z)): 0.33\n",
            "Epoch [192/200], Step [300/300], d_loss: 0.9674, g_loss: 1.7125, D(x): 0.72, D(G(z)): 0.34\n",
            "Epoch [193/200], Step [300/300], d_loss: 0.9445, g_loss: 1.6181, D(x): 0.65, D(G(z)): 0.27\n",
            "Epoch [194/200], Step [300/300], d_loss: 1.0723, g_loss: 1.2021, D(x): 0.70, D(G(z)): 0.38\n",
            "Epoch [195/200], Step [300/300], d_loss: 1.0162, g_loss: 1.6196, D(x): 0.69, D(G(z)): 0.31\n",
            "Epoch [196/200], Step [300/300], d_loss: 0.7800, g_loss: 1.7755, D(x): 0.71, D(G(z)): 0.24\n",
            "Epoch [197/200], Step [300/300], d_loss: 0.9447, g_loss: 1.3179, D(x): 0.73, D(G(z)): 0.36\n",
            "Epoch [198/200], Step [300/300], d_loss: 1.1221, g_loss: 1.2948, D(x): 0.65, D(G(z)): 0.34\n",
            "Epoch [199/200], Step [300/300], d_loss: 0.8913, g_loss: 1.4914, D(x): 0.74, D(G(z)): 0.33\n"
          ]
        }
      ]
    }
  ]
}