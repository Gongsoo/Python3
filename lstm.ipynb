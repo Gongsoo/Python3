{
  "nbformat": 4,
  "nbformat_minor": 0,
  "metadata": {
    "colab": {
      "provenance": [],
      "include_colab_link": true
    },
    "kernelspec": {
      "name": "python3",
      "display_name": "Python 3"
    },
    "accelerator": "GPU",
    "gpuClass": "standard"
  },
  "cells": [
    {
      "cell_type": "markdown",
      "metadata": {
        "id": "view-in-github",
        "colab_type": "text"
      },
      "source": [
        "<a href=\"https://colab.research.google.com/github/Gongsoo/Python3/blob/main/lstm.ipynb\" target=\"_parent\"><img src=\"https://colab.research.google.com/assets/colab-badge.svg\" alt=\"Open In Colab\"/></a>"
      ]
    },
    {
      "cell_type": "code",
      "metadata": {
        "id": "VhuVZYkUzJQv",
        "colab": {
          "base_uri": "https://localhost:8080/"
        },
        "outputId": "f0d708f8-e574-4607-8438-f940eff96164"
      },
      "source": [
        "#drive mounting\n",
        "from google.colab import drive\n",
        "drive.mount('/content/gdrive')"
      ],
      "execution_count": null,
      "outputs": [
        {
          "output_type": "stream",
          "name": "stdout",
          "text": [
            "Mounted at /content/gdrive\n"
          ]
        }
      ]
    },
    {
      "cell_type": "code",
      "metadata": {
        "colab": {
          "base_uri": "https://localhost:8080/",
          "height": 300
        },
        "id": "3_FkQbZOzVIQ",
        "outputId": "66e539e4-a9cd-4165-f3b1-3759b7ffaf38"
      },
      "source": [
        "#data load\n",
        "import pandas as pd\n",
        "\n",
        "df_cov = pd.read_excel('/content/gdrive/My Drive/data_tx.xlsx')\n",
        "df_cov.describe()"
      ],
      "execution_count": null,
      "outputs": [
        {
          "output_type": "execute_result",
          "data": {
            "text/plain": [
              "             일일 확진자        누적 확진자     감염재생산지수\n",
              "count    252.000000  2.520000e+02  252.000000\n",
              "mean    4056.888889  3.547426e+05    1.177989\n",
              "std     3460.272018  3.384328e+05    0.469323\n",
              "min        1.000000  3.000000e+00    0.729037\n",
              "25%      972.000000  3.575900e+04    0.925234\n",
              "50%     3605.500000  2.307350e+05    1.085735\n",
              "75%     6302.000000  6.679102e+05    1.195910\n",
              "max    21771.000000  1.022336e+06    3.560410"
            ],
            "text/html": [
              "\n",
              "  <div id=\"df-b2c24bb8-03f7-44dd-8ae1-e3a3c7ffc043\">\n",
              "    <div class=\"colab-df-container\">\n",
              "      <div>\n",
              "<style scoped>\n",
              "    .dataframe tbody tr th:only-of-type {\n",
              "        vertical-align: middle;\n",
              "    }\n",
              "\n",
              "    .dataframe tbody tr th {\n",
              "        vertical-align: top;\n",
              "    }\n",
              "\n",
              "    .dataframe thead th {\n",
              "        text-align: right;\n",
              "    }\n",
              "</style>\n",
              "<table border=\"1\" class=\"dataframe\">\n",
              "  <thead>\n",
              "    <tr style=\"text-align: right;\">\n",
              "      <th></th>\n",
              "      <th>일일 확진자</th>\n",
              "      <th>누적 확진자</th>\n",
              "      <th>감염재생산지수</th>\n",
              "    </tr>\n",
              "  </thead>\n",
              "  <tbody>\n",
              "    <tr>\n",
              "      <th>count</th>\n",
              "      <td>252.000000</td>\n",
              "      <td>2.520000e+02</td>\n",
              "      <td>252.000000</td>\n",
              "    </tr>\n",
              "    <tr>\n",
              "      <th>mean</th>\n",
              "      <td>4056.888889</td>\n",
              "      <td>3.547426e+05</td>\n",
              "      <td>1.177989</td>\n",
              "    </tr>\n",
              "    <tr>\n",
              "      <th>std</th>\n",
              "      <td>3460.272018</td>\n",
              "      <td>3.384328e+05</td>\n",
              "      <td>0.469323</td>\n",
              "    </tr>\n",
              "    <tr>\n",
              "      <th>min</th>\n",
              "      <td>1.000000</td>\n",
              "      <td>3.000000e+00</td>\n",
              "      <td>0.729037</td>\n",
              "    </tr>\n",
              "    <tr>\n",
              "      <th>25%</th>\n",
              "      <td>972.000000</td>\n",
              "      <td>3.575900e+04</td>\n",
              "      <td>0.925234</td>\n",
              "    </tr>\n",
              "    <tr>\n",
              "      <th>50%</th>\n",
              "      <td>3605.500000</td>\n",
              "      <td>2.307350e+05</td>\n",
              "      <td>1.085735</td>\n",
              "    </tr>\n",
              "    <tr>\n",
              "      <th>75%</th>\n",
              "      <td>6302.000000</td>\n",
              "      <td>6.679102e+05</td>\n",
              "      <td>1.195910</td>\n",
              "    </tr>\n",
              "    <tr>\n",
              "      <th>max</th>\n",
              "      <td>21771.000000</td>\n",
              "      <td>1.022336e+06</td>\n",
              "      <td>3.560410</td>\n",
              "    </tr>\n",
              "  </tbody>\n",
              "</table>\n",
              "</div>\n",
              "      <button class=\"colab-df-convert\" onclick=\"convertToInteractive('df-b2c24bb8-03f7-44dd-8ae1-e3a3c7ffc043')\"\n",
              "              title=\"Convert this dataframe to an interactive table.\"\n",
              "              style=\"display:none;\">\n",
              "        \n",
              "  <svg xmlns=\"http://www.w3.org/2000/svg\" height=\"24px\"viewBox=\"0 0 24 24\"\n",
              "       width=\"24px\">\n",
              "    <path d=\"M0 0h24v24H0V0z\" fill=\"none\"/>\n",
              "    <path d=\"M18.56 5.44l.94 2.06.94-2.06 2.06-.94-2.06-.94-.94-2.06-.94 2.06-2.06.94zm-11 1L8.5 8.5l.94-2.06 2.06-.94-2.06-.94L8.5 2.5l-.94 2.06-2.06.94zm10 10l.94 2.06.94-2.06 2.06-.94-2.06-.94-.94-2.06-.94 2.06-2.06.94z\"/><path d=\"M17.41 7.96l-1.37-1.37c-.4-.4-.92-.59-1.43-.59-.52 0-1.04.2-1.43.59L10.3 9.45l-7.72 7.72c-.78.78-.78 2.05 0 2.83L4 21.41c.39.39.9.59 1.41.59.51 0 1.02-.2 1.41-.59l7.78-7.78 2.81-2.81c.8-.78.8-2.07 0-2.86zM5.41 20L4 18.59l7.72-7.72 1.47 1.35L5.41 20z\"/>\n",
              "  </svg>\n",
              "      </button>\n",
              "      \n",
              "  <style>\n",
              "    .colab-df-container {\n",
              "      display:flex;\n",
              "      flex-wrap:wrap;\n",
              "      gap: 12px;\n",
              "    }\n",
              "\n",
              "    .colab-df-convert {\n",
              "      background-color: #E8F0FE;\n",
              "      border: none;\n",
              "      border-radius: 50%;\n",
              "      cursor: pointer;\n",
              "      display: none;\n",
              "      fill: #1967D2;\n",
              "      height: 32px;\n",
              "      padding: 0 0 0 0;\n",
              "      width: 32px;\n",
              "    }\n",
              "\n",
              "    .colab-df-convert:hover {\n",
              "      background-color: #E2EBFA;\n",
              "      box-shadow: 0px 1px 2px rgba(60, 64, 67, 0.3), 0px 1px 3px 1px rgba(60, 64, 67, 0.15);\n",
              "      fill: #174EA6;\n",
              "    }\n",
              "\n",
              "    [theme=dark] .colab-df-convert {\n",
              "      background-color: #3B4455;\n",
              "      fill: #D2E3FC;\n",
              "    }\n",
              "\n",
              "    [theme=dark] .colab-df-convert:hover {\n",
              "      background-color: #434B5C;\n",
              "      box-shadow: 0px 1px 3px 1px rgba(0, 0, 0, 0.15);\n",
              "      filter: drop-shadow(0px 1px 2px rgba(0, 0, 0, 0.3));\n",
              "      fill: #FFFFFF;\n",
              "    }\n",
              "  </style>\n",
              "\n",
              "      <script>\n",
              "        const buttonEl =\n",
              "          document.querySelector('#df-b2c24bb8-03f7-44dd-8ae1-e3a3c7ffc043 button.colab-df-convert');\n",
              "        buttonEl.style.display =\n",
              "          google.colab.kernel.accessAllowed ? 'block' : 'none';\n",
              "\n",
              "        async function convertToInteractive(key) {\n",
              "          const element = document.querySelector('#df-b2c24bb8-03f7-44dd-8ae1-e3a3c7ffc043');\n",
              "          const dataTable =\n",
              "            await google.colab.kernel.invokeFunction('convertToInteractive',\n",
              "                                                     [key], {});\n",
              "          if (!dataTable) return;\n",
              "\n",
              "          const docLinkHtml = 'Like what you see? Visit the ' +\n",
              "            '<a target=\"_blank\" href=https://colab.research.google.com/notebooks/data_table.ipynb>data table notebook</a>'\n",
              "            + ' to learn more about interactive tables.';\n",
              "          element.innerHTML = '';\n",
              "          dataTable['output_type'] = 'display_data';\n",
              "          await google.colab.output.renderOutput(dataTable, element);\n",
              "          const docLink = document.createElement('div');\n",
              "          docLink.innerHTML = docLinkHtml;\n",
              "          element.appendChild(docLink);\n",
              "        }\n",
              "      </script>\n",
              "    </div>\n",
              "  </div>\n",
              "  "
            ]
          },
          "metadata": {},
          "execution_count": 2
        }
      ]
    },
    {
      "cell_type": "markdown",
      "metadata": {
        "id": "em15b_3AbGcU"
      },
      "source": [
        "# 새 섹션"
      ]
    },
    {
      "cell_type": "code",
      "metadata": {
        "id": "gsj0emuczYWf"
      },
      "source": [
        "#data making function\n",
        "import numpy as np\n",
        "\n",
        "def monitor_day(x, y, day_size):\n",
        "    x_list = []\n",
        "    y_list = []\n",
        "    for i in range(day_size,len(x)):\n",
        "        x_list.append(np.array(x.iloc[i-day_size:i]))\n",
        "        y_list.append(np.array(y.iloc[i]))\n",
        "    return np.array(x_list), np.array(y_list)"
      ],
      "execution_count": null,
      "outputs": []
    },
    {
      "cell_type": "code",
      "metadata": {
        "id": "z3UMuR5LzZ8H"
      },
      "source": [
        "#data making\n",
        "SIZE = 200\n",
        "train = df_cov[:SIZE]\n",
        "test = df_cov[SIZE:]\n",
        "\n",
        "x_cols = ['일일 확진자', '누적 확진자', '감염재생산지수']\n",
        "y_cols = ['일일 확진자']\n",
        "\n",
        "x_data = train[x_cols]\n",
        "y_data = train[y_cols]\n",
        "\n",
        "x_data, y_data = monitor_day(x_data, y_data, 7)"
      ],
      "execution_count": null,
      "outputs": []
    },
    {
      "cell_type": "code",
      "metadata": {
        "colab": {
          "base_uri": "https://localhost:8080/"
        },
        "id": "7zdYiefizbfC",
        "outputId": "64d2bf4a-0d2f-41e1-ba12-af269a0c19ec"
      },
      "source": [
        "#data split\n",
        "from sklearn.model_selection import train_test_split\n",
        "\n",
        "x_train, x_valid, y_train, y_valid = train_test_split(x_data, y_data, test_size=0.2)\n",
        "\n",
        "x_train.shape, x_valid.shape\n",
        "y_train.shape, y_valid.shape"
      ],
      "execution_count": null,
      "outputs": [
        {
          "output_type": "execute_result",
          "data": {
            "text/plain": [
              "((154, 1), (39, 1))"
            ]
          },
          "metadata": {},
          "execution_count": 5
        }
      ]
    },
    {
      "cell_type": "code",
      "metadata": {
        "colab": {
          "base_uri": "https://localhost:8080/"
        },
        "id": "QXw_IoUzzdF2",
        "outputId": "cfce6835-1bb1-41bc-b76e-b6b9a671ebf9"
      },
      "source": [
        "#lstm model\n",
        "from keras.models import Sequential\n",
        "from keras.layers import Dense, LSTM, BatchNormalization, Dropout\n",
        "from keras.callbacks import EarlyStopping\n",
        "\n",
        "model = Sequential()\n",
        "model.add(LSTM(128, input_shape=(x_train.shape[1], x_train.shape[2]), activation='relu', return_sequences=False))\n",
        "model.add(Dense(1))\n",
        "\n",
        "model.compile(loss='mse', optimizer='adam')\n",
        "early_stop = EarlyStopping(monitor='val_loss', patience=32)\n",
        "history = model.fit(x_train, y_train, epochs=200, batch_size=2,validation_data=(x_valid, y_valid), callbacks=early_stop)"
      ],
      "execution_count": null,
      "outputs": [
        {
          "output_type": "stream",
          "name": "stderr",
          "text": [
            "WARNING:tensorflow:Layer lstm will not use cuDNN kernels since it doesn't meet the criteria. It will use a generic GPU kernel as fallback when running on GPU.\n"
          ]
        },
        {
          "output_type": "stream",
          "name": "stdout",
          "text": [
            "Epoch 1/200\n",
            "77/77 [==============================] - 4s 8ms/step - loss: 888756544.0000 - val_loss: 666740608.0000\n",
            "Epoch 2/200\n",
            "77/77 [==============================] - 0s 5ms/step - loss: 899992256.0000 - val_loss: 1047336704.0000\n",
            "Epoch 3/200\n",
            "77/77 [==============================] - 0s 5ms/step - loss: 897640640.0000 - val_loss: 229852032.0000\n",
            "Epoch 4/200\n",
            "77/77 [==============================] - 1s 10ms/step - loss: 119746760.0000 - val_loss: 93122912.0000\n",
            "Epoch 5/200\n",
            "77/77 [==============================] - 0s 5ms/step - loss: 101663448.0000 - val_loss: 8956486.0000\n",
            "Epoch 6/200\n",
            "77/77 [==============================] - 0s 6ms/step - loss: 13707793.0000 - val_loss: 9341262.0000\n",
            "Epoch 7/200\n",
            "77/77 [==============================] - 0s 5ms/step - loss: 14794496.0000 - val_loss: 18274068.0000\n",
            "Epoch 8/200\n",
            "77/77 [==============================] - 0s 5ms/step - loss: 37811160.0000 - val_loss: 10522609.0000\n",
            "Epoch 9/200\n",
            "77/77 [==============================] - 1s 7ms/step - loss: 54523144.0000 - val_loss: 9469819.0000\n",
            "Epoch 10/200\n",
            "77/77 [==============================] - 0s 5ms/step - loss: 16370695.0000 - val_loss: 21769230.0000\n",
            "Epoch 11/200\n",
            "77/77 [==============================] - 0s 5ms/step - loss: 10295478.0000 - val_loss: 8461612.0000\n",
            "Epoch 12/200\n",
            "77/77 [==============================] - 0s 6ms/step - loss: 13446793.0000 - val_loss: 5079730.0000\n",
            "Epoch 13/200\n",
            "77/77 [==============================] - 0s 5ms/step - loss: 15952464.0000 - val_loss: 36815248.0000\n",
            "Epoch 14/200\n",
            "77/77 [==============================] - 0s 5ms/step - loss: 112286400.0000 - val_loss: 5809711.0000\n",
            "Epoch 15/200\n",
            "77/77 [==============================] - 0s 5ms/step - loss: 16545970.0000 - val_loss: 3819371.5000\n",
            "Epoch 16/200\n",
            "77/77 [==============================] - 0s 5ms/step - loss: 20608250.0000 - val_loss: 22920016.0000\n",
            "Epoch 17/200\n",
            "77/77 [==============================] - 0s 5ms/step - loss: 23778462.0000 - val_loss: 14918498.0000\n",
            "Epoch 18/200\n",
            "77/77 [==============================] - 0s 6ms/step - loss: 13948330.0000 - val_loss: 13696940.0000\n",
            "Epoch 19/200\n",
            "77/77 [==============================] - 0s 5ms/step - loss: 298221568.0000 - val_loss: 45961320.0000\n",
            "Epoch 20/200\n",
            "77/77 [==============================] - 0s 5ms/step - loss: 273871008.0000 - val_loss: 356974528.0000\n",
            "Epoch 21/200\n",
            "77/77 [==============================] - 0s 5ms/step - loss: 127600616.0000 - val_loss: 19303580.0000\n",
            "Epoch 22/200\n",
            "77/77 [==============================] - 0s 5ms/step - loss: 72658376.0000 - val_loss: 16536583.0000\n",
            "Epoch 23/200\n",
            "77/77 [==============================] - 0s 5ms/step - loss: 185373696.0000 - val_loss: 88760120.0000\n",
            "Epoch 24/200\n",
            "77/77 [==============================] - 0s 5ms/step - loss: 80449080.0000 - val_loss: 109982072.0000\n",
            "Epoch 25/200\n",
            "77/77 [==============================] - 0s 5ms/step - loss: 109669384.0000 - val_loss: 6891058.0000\n",
            "Epoch 26/200\n",
            "77/77 [==============================] - 0s 5ms/step - loss: 29044540.0000 - val_loss: 16745825.0000\n",
            "Epoch 27/200\n",
            "77/77 [==============================] - 0s 5ms/step - loss: 40141944.0000 - val_loss: 136452144.0000\n",
            "Epoch 28/200\n",
            "77/77 [==============================] - 0s 5ms/step - loss: 23643814.0000 - val_loss: 7098820.0000\n",
            "Epoch 29/200\n",
            "77/77 [==============================] - 1s 7ms/step - loss: 10648647.0000 - val_loss: 7351739.0000\n",
            "Epoch 30/200\n",
            "77/77 [==============================] - 0s 6ms/step - loss: 18080124.0000 - val_loss: 4912841.0000\n",
            "Epoch 31/200\n",
            "77/77 [==============================] - 0s 5ms/step - loss: 13435579.0000 - val_loss: 5782849.0000\n",
            "Epoch 32/200\n",
            "77/77 [==============================] - 0s 6ms/step - loss: 28901502.0000 - val_loss: 2780340.0000\n",
            "Epoch 33/200\n",
            "77/77 [==============================] - 0s 5ms/step - loss: 11279564.0000 - val_loss: 5148449.0000\n",
            "Epoch 34/200\n",
            "77/77 [==============================] - 0s 5ms/step - loss: 27390592.0000 - val_loss: 7795765.5000\n",
            "Epoch 35/200\n",
            "77/77 [==============================] - 0s 5ms/step - loss: 10724847.0000 - val_loss: 4937401.5000\n",
            "Epoch 36/200\n",
            "77/77 [==============================] - 0s 5ms/step - loss: 22944376.0000 - val_loss: 4704766.0000\n",
            "Epoch 37/200\n",
            "77/77 [==============================] - 0s 5ms/step - loss: 10894142.0000 - val_loss: 5424081.5000\n",
            "Epoch 38/200\n",
            "77/77 [==============================] - 0s 6ms/step - loss: 34304700.0000 - val_loss: 43086164.0000\n",
            "Epoch 39/200\n",
            "77/77 [==============================] - 0s 6ms/step - loss: 18884780.0000 - val_loss: 6719042.5000\n",
            "Epoch 40/200\n",
            "77/77 [==============================] - 0s 5ms/step - loss: 14454611.0000 - val_loss: 4862573.0000\n",
            "Epoch 41/200\n",
            "77/77 [==============================] - 0s 5ms/step - loss: 69943432.0000 - val_loss: 59333416.0000\n",
            "Epoch 42/200\n",
            "77/77 [==============================] - 0s 5ms/step - loss: 44608020.0000 - val_loss: 182000752.0000\n",
            "Epoch 43/200\n",
            "77/77 [==============================] - 0s 5ms/step - loss: 51172492.0000 - val_loss: 4814248.0000\n",
            "Epoch 44/200\n",
            "77/77 [==============================] - 0s 5ms/step - loss: 8269137.5000 - val_loss: 5997377.0000\n",
            "Epoch 45/200\n",
            "77/77 [==============================] - 0s 5ms/step - loss: 7223101.5000 - val_loss: 7001041.0000\n",
            "Epoch 46/200\n",
            "77/77 [==============================] - 0s 6ms/step - loss: 17353998.0000 - val_loss: 8610903.0000\n",
            "Epoch 47/200\n",
            "77/77 [==============================] - 0s 5ms/step - loss: 10474950.0000 - val_loss: 5864149.5000\n",
            "Epoch 48/200\n",
            "77/77 [==============================] - 0s 5ms/step - loss: 198730512.0000 - val_loss: 221349472.0000\n",
            "Epoch 49/200\n",
            "77/77 [==============================] - 0s 6ms/step - loss: 39843300.0000 - val_loss: 12130576.0000\n",
            "Epoch 50/200\n",
            "77/77 [==============================] - 0s 5ms/step - loss: 9979183.0000 - val_loss: 6157516.5000\n",
            "Epoch 51/200\n",
            "77/77 [==============================] - 0s 5ms/step - loss: 8137893.5000 - val_loss: 11213226.0000\n",
            "Epoch 52/200\n",
            "77/77 [==============================] - 0s 5ms/step - loss: 6437987.0000 - val_loss: 5146209.0000\n",
            "Epoch 53/200\n",
            "77/77 [==============================] - 0s 5ms/step - loss: 6233036.0000 - val_loss: 3561811.7500\n",
            "Epoch 54/200\n",
            "77/77 [==============================] - 0s 6ms/step - loss: 7477343.0000 - val_loss: 6236639.0000\n",
            "Epoch 55/200\n",
            "77/77 [==============================] - 0s 6ms/step - loss: 6289525.0000 - val_loss: 4843536.5000\n",
            "Epoch 56/200\n",
            "77/77 [==============================] - 0s 6ms/step - loss: 5631922.5000 - val_loss: 4332544.5000\n",
            "Epoch 57/200\n",
            "77/77 [==============================] - 0s 5ms/step - loss: 7234613.0000 - val_loss: 4429593.5000\n",
            "Epoch 58/200\n",
            "77/77 [==============================] - 0s 5ms/step - loss: 6460839.5000 - val_loss: 5804645.5000\n",
            "Epoch 59/200\n",
            "77/77 [==============================] - 1s 7ms/step - loss: 6157069.0000 - val_loss: 4754771.5000\n",
            "Epoch 60/200\n",
            "77/77 [==============================] - 0s 6ms/step - loss: 5551708.0000 - val_loss: 4293516.5000\n",
            "Epoch 61/200\n",
            "77/77 [==============================] - 0s 5ms/step - loss: 9924538.0000 - val_loss: 4564398.0000\n",
            "Epoch 62/200\n",
            "77/77 [==============================] - 0s 5ms/step - loss: 3910279.5000 - val_loss: 3672356.5000\n",
            "Epoch 63/200\n",
            "77/77 [==============================] - 0s 6ms/step - loss: 4423586.5000 - val_loss: 3594537.5000\n",
            "Epoch 64/200\n",
            "77/77 [==============================] - 0s 5ms/step - loss: 4310086.5000 - val_loss: 4530731.0000\n"
          ]
        }
      ]
    },
    {
      "cell_type": "code",
      "metadata": {
        "id": "Koif0MdKzhin",
        "colab": {
          "base_uri": "https://localhost:8080/"
        },
        "outputId": "841d9f82-fe99-4248-d447-96f1ebeaa5d1"
      },
      "source": [
        "#model save& model testing\n",
        "from keras.models import load_model\n",
        "model.save('/content/gdrive/My Drive/lstm_tx.h5')\n",
        "x_test = test[x_cols]\n",
        "y_test = test[y_cols]\n",
        "model=load_model('/content/gdrive/My Drive/lstm_tx.h5')\n",
        "x_test, y_test = monitor_day(x_test, y_test, 7)\n",
        "x_test.shape, y_test.shape\n",
        "\n",
        "pred = model.predict(x_test)"
      ],
      "execution_count": null,
      "outputs": [
        {
          "output_type": "stream",
          "name": "stderr",
          "text": [
            "WARNING:tensorflow:Layer lstm will not use cuDNN kernels since it doesn't meet the criteria. It will use a generic GPU kernel as fallback when running on GPU.\n"
          ]
        },
        {
          "output_type": "stream",
          "name": "stdout",
          "text": [
            "2/2 [==============================] - 0s 8ms/step\n"
          ]
        }
      ]
    },
    {
      "cell_type": "code",
      "metadata": {
        "colab": {
          "base_uri": "https://localhost:8080/",
          "height": 537
        },
        "id": "aW7C6ap7zyiQ",
        "outputId": "83ab7a38-b194-4f5f-f264-b215c8e47047"
      },
      "source": [
        "#test modeling plot\n",
        "import matplotlib.pyplot as plt\n",
        "\n",
        "plt.figure(figsize=(12, 9))\n",
        "plt.plot(y_test, label='actual')\n",
        "plt.plot(pred, label='prediction')\n",
        "plt.legend()\n",
        "plt.show()"
      ],
      "execution_count": null,
      "outputs": [
        {
          "output_type": "display_data",
          "data": {
            "text/plain": [
              "<Figure size 864x648 with 1 Axes>"
            ],
            "image/png": "[encoded data removed]"
          },
          "metadata": {
            "needs_background": "light"
          }
        }
      ]
    },
    {
      "cell_type": "code",
      "metadata": {
        "id": "UduLPM-uJEWk"
      },
      "source": [
        "#predict function\n",
        "def predict_days(x,y,z) :\n",
        "  temp_arr = np.array([x])\n",
        "  temp_acc = np.array([y+x])\n",
        "  temp_arr = np.append(temp_arr,temp_acc)\n",
        "  temp_rt = np.array([z])\n",
        "  temp_arr= np.append(temp_arr,temp_rt)\n",
        "  return temp_arr"
      ],
      "execution_count": null,
      "outputs": []
    },
    {
      "cell_type": "code",
      "metadata": {
        "id": "nYWskDKQJElD",
        "colab": {
          "base_uri": "https://localhost:8080/"
        },
        "outputId": "e0406f52-c49d-4a94-93ec-e83b84ffd791"
      },
      "source": [
        "#predict\n",
        "x_predict=np.zeros((30))\n",
        "x_temp= df_cov[245:]\n",
        "x_temp = x_temp[x_cols]\n",
        "x_temp = np.array(x_temp)\n",
        "x_temp = x_temp.reshape(1,7,3)\n",
        "for i in range(30) :\n",
        "  temp_predict = model.predict(x_temp.reshape(1,7,3))\n",
        "  new_data = predict_days(temp_predict,x_temp[0,6,1],x_temp[0,6,2])\n",
        "  x_predict[i]= temp_predict\n",
        "  x_temp = np.append(x_temp, new_data.reshape(1,1,3), axis=1)\n",
        "  x_temp = np.delete(x_temp,0,axis=1)\n"
      ],
      "execution_count": null,
      "outputs": [
        {
          "output_type": "stream",
          "name": "stdout",
          "text": [
            "1/1 [==============================] - 0s 18ms/step\n",
            "1/1 [==============================] - 0s 15ms/step\n",
            "1/1 [==============================] - 0s 18ms/step\n",
            "1/1 [==============================] - 0s 17ms/step\n",
            "1/1 [==============================] - 0s 14ms/step\n",
            "1/1 [==============================] - 0s 14ms/step\n",
            "1/1 [==============================] - 0s 15ms/step\n",
            "1/1 [==============================] - 0s 15ms/step\n",
            "1/1 [==============================] - 0s 16ms/step\n",
            "1/1 [==============================] - 0s 18ms/step\n",
            "1/1 [==============================] - 0s 17ms/step\n",
            "1/1 [==============================] - 0s 15ms/step\n",
            "1/1 [==============================] - 0s 14ms/step\n",
            "1/1 [==============================] - 0s 17ms/step\n",
            "1/1 [==============================] - 0s 17ms/step\n",
            "1/1 [==============================] - 0s 18ms/step\n",
            "1/1 [==============================] - 0s 16ms/step\n",
            "1/1 [==============================] - 0s 18ms/step\n",
            "1/1 [==============================] - 0s 18ms/step\n",
            "1/1 [==============================] - 0s 17ms/step\n",
            "1/1 [==============================] - 0s 16ms/step\n",
            "1/1 [==============================] - 0s 19ms/step\n",
            "1/1 [==============================] - 0s 17ms/step\n",
            "1/1 [==============================] - 0s 14ms/step\n",
            "1/1 [==============================] - 0s 14ms/step\n",
            "1/1 [==============================] - 0s 14ms/step\n",
            "1/1 [==============================] - 0s 18ms/step\n",
            "1/1 [==============================] - 0s 14ms/step\n",
            "1/1 [==============================] - 0s 14ms/step\n",
            "1/1 [==============================] - 0s 15ms/step\n"
          ]
        }
      ]
    },
    {
      "cell_type": "code",
      "metadata": {
        "colab": {
          "base_uri": "https://localhost:8080/",
          "height": 537
        },
        "id": "W7willTFJE0K",
        "outputId": "8390e777-d495-41f6-b216-838b2702b227"
      },
      "source": [
        "#predict plot\n",
        "plt.figure(figsize=(12,9))\n",
        "plt.plot(x_predict, label='predict')\n",
        "plt.legend()\n",
        "plt.show\n",
        "plt.savefig('/content/gdrive/My Drive/test_tx.png')"
      ],
      "execution_count": null,
      "outputs": [
        {
          "output_type": "display_data",
          "data": {
            "text/plain": [
              "<Figure size 864x648 with 1 Axes>"
            ],
            "image/png": "[encoded data removed]"
          },
          "metadata": {
            "needs_background": "light"
          }
        }
      ]
    },
    {
      "cell_type": "markdown",
      "metadata": {
        "id": "vmmZGaeMLSh-"
      },
      "source": []
    }
  ]
}