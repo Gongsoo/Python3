{
  "nbformat": 4,
  "nbformat_minor": 0,
  "metadata": {
    "colab": {
      "provenance": [],
      "include_colab_link": true
    },
    "kernelspec": {
      "name": "python3",
      "display_name": "Python 3"
    },
    "accelerator": "GPU",
    "gpuClass": "standard"
  },
  "cells": [
    {
      "cell_type": "markdown",
      "metadata": {
        "id": "view-in-github",
        "colab_type": "text"
      },
      "source": [
        "<a href=\"https://colab.research.google.com/github/Gongsoo/Python3/blob/main/lympa.ipynb\" target=\"_parent\"><img src=\"https://colab.research.google.com/assets/colab-badge.svg\" alt=\"Open In Colab\"/></a>"
      ]
    },
    {
      "cell_type": "code",
      "source": [
        "from google.colab import drive\n",
        "drive.mount('/content/drive')"
      ],
      "metadata": {
        "id": "PyapyyUpBQdc",
        "outputId": "0c335d2f-2c20-49bd-bab4-ecbc65bde9d4",
        "colab": {
          "base_uri": "https://localhost:8080/"
        }
      },
      "execution_count": 2,
      "outputs": [
        {
          "output_type": "stream",
          "name": "stdout",
          "text": [
            "Drive already mounted at /content/drive; to attempt to forcibly remount, call drive.mount(\"/content/drive\", force_remount=True).\n"
          ]
        }
      ]
    },
    {
      "cell_type": "code",
      "source": [
        "import random\n",
        "import pandas as pd\n",
        "import numpy as np\n",
        "import os\n",
        "import cv2\n",
        "from tqdm.auto import tqdm\n",
        "\n",
        "import torch\n",
        "import torch.nn as nn\n",
        "import torch.optim as optim\n",
        "import torch.nn.functional as F\n",
        "from torch.utils.data import Dataset, DataLoader\n",
        "\n",
        "import albumentations as A\n",
        "from albumentations.pytorch.transforms import ToTensorV2\n",
        "\n",
        "import torchvision.models as models\n",
        "\n",
        "from sklearn import metrics\n",
        "from sklearn.preprocessing import StandardScaler, LabelEncoder\n",
        "\n",
        "from sklearn.model_selection import train_test_split\n",
        "\n",
        "import warnings\n",
        "warnings.filterwarnings(action='ignore') "
      ],
      "metadata": {
        "id": "wAxGf7q0I9pl"
      },
      "execution_count": 3,
      "outputs": []
    },
    {
      "cell_type": "code",
      "source": [
        "device = 'cuda' if torch.cuda.is_available() else 'cpu'\n",
        "print(device)"
      ],
      "metadata": {
        "id": "IGgJSYQaI_5x",
        "outputId": "1a75d7ab-7077-4e80-8bcf-f4c907c396e9",
        "colab": {
          "base_uri": "https://localhost:8080/"
        }
      },
      "execution_count": 5,
      "outputs": [
        {
          "output_type": "stream",
          "name": "stdout",
          "text": [
            "cuda\n"
          ]
        }
      ]
    },
    {
      "cell_type": "code",
      "source": [
        "#Hyperparameter Setting\n",
        "CFG = {\n",
        "    'IMG_SIZE':512,\n",
        "    'EPOCHS':5,\n",
        "    'LEARNING_RATE':1e-4,\n",
        "    'BATCH_SIZE':16,\n",
        "    'SEED':41\n",
        "}"
      ],
      "metadata": {
        "id": "kC8j41lVJHdb"
      },
      "execution_count": 6,
      "outputs": []
    },
    {
      "cell_type": "code",
      "source": [
        "#Random Seed Fix (실험을 재현가능하게 하기 위해 seed를 고정해 ranomness 제어)\n",
        "def seed_everything(seed):\n",
        "    deterministic = False\n",
        "    random.seed(seed)\n",
        "    #os.environ['PYTHONHASHSEED'] = str(seed)\n",
        "    #os.environ['TF_DETERMINISTIC_OPS'] = '1'\n",
        "    np.random.seed(seed)\n",
        "    torch.manual_seed(seed)\n",
        "    torch.cuda.manual_seed(seed)\n",
        "    if deterministic : # 학습이 느려지기 때문에 마무리단계에서 사용\n",
        "      torch.backends.cudnn.deterministic = True\n",
        "      torch.backends.cudnn.benchmark = False\n",
        "\n",
        "seed_everything(CFG['SEED']) # Seed 고정"
      ],
      "metadata": {
        "id": "hpBN6BkpJKcH"
      },
      "execution_count": 7,
      "outputs": []
    },
    {
      "cell_type": "markdown",
      "source": [
        "#Data Pre-processing"
      ],
      "metadata": {
        "id": "85vJEVTDJa7b"
      }
    },
    {
      "cell_type": "code",
      "source": [
        "train_df = pd.read_csv('/content/drive/MyDrive/lympha/train.csv')\n",
        "test_df = pd.read_csv('/content/drive/MyDrive/lympha/test.csv')"
      ],
      "metadata": {
        "id": "uxTKLpRnJYdj"
      },
      "execution_count": 23,
      "outputs": []
    },
    {
      "cell_type": "code",
      "source": [
        "train_df['암의 장경'] = train_df['암의 장경'].fillna(train_df['암의 장경'].mean())\n",
        "train_df = train_df.fillna(0)\n",
        "\n",
        "test_df['암의 장경'] = test_df['암의 장경'].fillna(train_df['암의 장경'].mean())\n",
        "test_df = test_df.fillna(0)"
      ],
      "metadata": {
        "id": "7rEL2gi9JnA7"
      },
      "execution_count": 24,
      "outputs": []
    },
    {
      "cell_type": "code",
      "source": [
        "train_df, val_df, train_labels, val_labels = train_test_split(\n",
        "                                                    train_df.drop(columns=['N_category']), \n",
        "                                                    train_df['N_category'], \n",
        "                                                    test_size=0.2, \n",
        "                                                    random_state=CFG['SEED']\n",
        "                                                )"
      ],
      "metadata": {
        "id": "eH-O32ALJpBG"
      },
      "execution_count": 25,
      "outputs": []
    },
    {
      "cell_type": "code",
      "source": [
        "def get_values(value):\n",
        "    return value.values.reshape(-1, 1)\n",
        "\n",
        "numeric_cols = ['나이', '암의 장경', 'ER_Allred_score', 'PR_Allred_score', 'KI-67_LI_percent', 'HER2_SISH_ratio']\n",
        "ignore_cols = ['ID', 'img_path', 'mask_path', '수술연월일', 'N_category']\n",
        "\n",
        "for col in train_df.columns:\n",
        "    if col in ignore_cols:\n",
        "        continue\n",
        "    if col in numeric_cols:\n",
        "        scaler = StandardScaler()\n",
        "        train_df[col] = scaler.fit_transform(get_values(train_df[col]))\n",
        "        val_df[col] = scaler.transform(get_values(val_df[col]))\n",
        "        test_df[col] = scaler.transform(get_values(test_df[col]))\n",
        "    else:\n",
        "        le = LabelEncoder()\n",
        "        train_df[col] = le.fit_transform(get_values(train_df[col]))\n",
        "        val_df[col] = le.transform(get_values(val_df[col]))\n",
        "        test_df[col] = le.transform(get_values(test_df[col]))"
      ],
      "metadata": {
        "id": "NxwoLzkQJr1D"
      },
      "execution_count": 26,
      "outputs": []
    },
    {
      "cell_type": "code",
      "source": [
        "print(train_df.head())"
      ],
      "metadata": {
        "id": "k0Bocjr5WqTq",
        "outputId": "9e19a33f-ddb9-41da-fa29-5ab77d1424fc",
        "colab": {
          "base_uri": "https://localhost:8080/"
        }
      },
      "execution_count": 27,
      "outputs": [
        {
          "output_type": "stream",
          "name": "stdout",
          "text": [
            "             ID                     img_path mask_path        나이       수술연월일  \\\n",
            "976  BC_01_3277  ./train_imgs/BC_01_3277.png         - -2.522114  2010-02-05   \n",
            "668  BC_01_2734  ./train_imgs/BC_01_2734.png         - -1.208969  2011-10-13   \n",
            "836  BC_01_2962  ./train_imgs/BC_01_2962.png         - -0.596168  2007-11-13   \n",
            "479  BC_01_2228  ./train_imgs/BC_01_2228.png         -  0.716977  2013-12-09   \n",
            "83   BC_01_0405  ./train_imgs/BC_01_0405.png         - -0.946340  2020-05-07   \n",
            "\n",
            "     진단명  암의 위치  암의 개수     암의 장경  NG  ...  ER  ER_Allred_score  PR  \\\n",
            "976    0      1      0 -0.793655   3  ...   1         0.017689   1   \n",
            "668    3      0      0 -0.881586   1  ...   1         0.619883   1   \n",
            "836    0      1      0 -0.617792   0  ...   1        -1.487795   1   \n",
            "479    0      2      0 -1.233311   1  ...   1         0.920980   1   \n",
            "83     0      0      1 -0.705724   2  ...   1         0.318786   1   \n",
            "\n",
            "     PR_Allred_score  KI-67_LI_percent  HER2  HER2_IHC  HER2_SISH  \\\n",
            "976        -0.367095         -0.784134     0         0          0   \n",
            "668         1.237691         -0.784134     1         2          0   \n",
            "836        -0.902024         -0.784134     0         0          0   \n",
            "479         0.435298         -0.512041     1         2          0   \n",
            "83          0.167834          0.938215     0         0          0   \n",
            "\n",
            "     HER2_SISH_ratio  BRCA_mutation  \n",
            "976         -0.25997              0  \n",
            "668         -0.25997              0  \n",
            "836         -0.25997              0  \n",
            "479         -0.25997              0  \n",
            "83          -0.25997              0  \n",
            "\n",
            "[5 rows x 27 columns]\n"
          ]
        }
      ]
    },
    {
      "cell_type": "code",
      "source": [
        "print(train_df.head())"
      ],
      "metadata": {
        "id": "CU1V6AW1V3Bm",
        "outputId": "f911dcfc-6ea4-471b-ccda-7524ce220550",
        "colab": {
          "base_uri": "https://localhost:8080/"
        }
      },
      "execution_count": 22,
      "outputs": [
        {
          "output_type": "stream",
          "name": "stdout",
          "text": [
            "             ID                     img_path mask_path        나이       수술연월일  \\\n",
            "976  BC_01_3277  ./train_imgs/BC_01_3277.png         - -2.522114  2010-02-05   \n",
            "668  BC_01_2734  ./train_imgs/BC_01_2734.png         - -1.208969  2011-10-13   \n",
            "836  BC_01_2962  ./train_imgs/BC_01_2962.png         - -0.596168  2007-11-13   \n",
            "479  BC_01_2228  ./train_imgs/BC_01_2228.png         -  0.716977  2013-12-09   \n",
            "83   BC_01_0405  ./train_imgs/BC_01_0405.png         - -0.946340  2020-05-07   \n",
            "\n",
            "     진단명  암의 위치  암의 개수     암의 장경  NG  ...  ER  ER_Allred_score  PR  \\\n",
            "976    0      1      0 -0.793655   3  ...   1         0.017689   1   \n",
            "668    3      0      0 -0.881586   1  ...   1         0.619883   1   \n",
            "836    0      1      0 -0.617792   0  ...   1        -1.487795   1   \n",
            "479    0      2      0 -1.233311   1  ...   1         0.920980   1   \n",
            "83     0      0      1 -0.705724   2  ...   1         0.318786   1   \n",
            "\n",
            "     PR_Allred_score  KI-67_LI_percent  HER2  HER2_IHC  HER2_SISH  \\\n",
            "976        -0.367095         -0.784134     0         0          0   \n",
            "668         1.237691         -0.784134     1         2          0   \n",
            "836        -0.902024         -0.784134     0         0          0   \n",
            "479         0.435298         -0.512041     1         2          0   \n",
            "83          0.167834          0.938215     0         0          0   \n",
            "\n",
            "     HER2_SISH_ratio  BRCA_mutation  \n",
            "976         -0.25997              0  \n",
            "668         -0.25997              0  \n",
            "836         -0.25997              0  \n",
            "479         -0.25997              0  \n",
            "83          -0.25997              0  \n",
            "\n",
            "[5 rows x 27 columns]\n"
          ]
        }
      ]
    },
    {
      "cell_type": "markdown",
      "source": [
        "#CustomDataset"
      ],
      "metadata": {
        "id": "Pn14atEoKEZ4"
      }
    },
    {
      "cell_type": "code",
      "source": [
        "class CustomDataset(Dataset):\n",
        "    def __init__(self, medical_df, labels, transforms=None):\n",
        "        self.medical_df = medical_df\n",
        "        self.transforms = transforms\n",
        "        self.labels = labels\n",
        "        \n",
        "    def __getitem__(self, index):\n",
        "        img_path = self.medical_df['img_path'].iloc[index]\n",
        "        image = cv2.imread(img_path)\n",
        "        image = cv2.cvtColor(image, cv2.COLOR_BGR2RGB)\n",
        "        \n",
        "        if self.transforms is not None:\n",
        "            image = self.transforms(image=image)['image']\n",
        "                \n",
        "        if self.labels is not None:\n",
        "            tabular = torch.Tensor(self.medical_df.drop(columns=['ID', 'img_path', 'mask_path', '수술연월일']).iloc[index])\n",
        "            label = self.labels[index]\n",
        "            return image, tabular, label\n",
        "        else:\n",
        "            tabular = torch.Tensor(self.medical_df.drop(columns=['ID', 'img_path', '수술연월일']).iloc[index])\n",
        "            return image, tabular\n",
        "        \n",
        "    def __len__(self):\n",
        "        return len(self.medical_df)"
      ],
      "metadata": {
        "id": "KWl4AIIxJv3C"
      },
      "execution_count": null,
      "outputs": []
    },
    {
      "cell_type": "code",
      "source": [
        "train_transforms = A.Compose([\n",
        "                            A.HorizontalFlip(),\n",
        "                            A.VerticalFlip(),\n",
        "                            A.Rotate(limit=90, border_mode=cv2.BORDER_CONSTANT,p=0.3),\n",
        "                            A.Resize(CFG['IMG_SIZE'],CFG['IMG_SIZE']),\n",
        "                            A.Normalize(mean=(0.485, 0.456, 0.406), std=(0.229, 0.224, 0.225), max_pixel_value=255.0, always_apply=False, p=1.0),\n",
        "                            ToTensorV2()\n",
        "                            ])\n",
        "\n",
        "test_transforms = A.Compose([\n",
        "                            A.Resize(CFG['IMG_SIZE'],CFG['IMG_SIZE']),\n",
        "                            A.Normalize(mean=(0.485, 0.456, 0.406), std=(0.229, 0.224, 0.225), max_pixel_value=255.0, always_apply=False, p=1.0),\n",
        "                            ToTensorV2()\n",
        "                            ])"
      ],
      "metadata": {
        "id": "WLrV0UAIJyyN"
      },
      "execution_count": null,
      "outputs": []
    },
    {
      "cell_type": "code",
      "source": [
        "train_dataset = CustomDataset(train_df, train_labels.values, train_transforms)\n",
        "train_loader = DataLoader(train_dataset, batch_size = CFG['BATCH_SIZE'], shuffle=True, num_workers=0)\n",
        "\n",
        "val_dataset = CustomDataset(val_df, val_labels.values, test_transforms)\n",
        "val_loader = DataLoader(val_dataset, batch_size=CFG['BATCH_SIZE'], shuffle=False, num_workers=0)"
      ],
      "metadata": {
        "id": "E_4r0reYJ1SB"
      },
      "execution_count": null,
      "outputs": []
    },
    {
      "cell_type": "markdown",
      "source": [
        "#Model Architecture"
      ],
      "metadata": {
        "id": "SHcYQa9_KLKj"
      }
    },
    {
      "cell_type": "code",
      "source": [
        "class ImgFeatureExtractor(nn.Module):\n",
        "    def __init__(self):\n",
        "        super(ImgFeatureExtractor, self).__init__()\n",
        "        self.backbone = models.efficientnet_b0(pretrained=True)\n",
        "        self.embedding = nn.Linear(1000,512)\n",
        "        \n",
        "    def forward(self, x):\n",
        "        x = self.backbone(x)\n",
        "        x = self.embedding(x)\n",
        "        return x"
      ],
      "metadata": {
        "id": "Dx3EQecFJyrw"
      },
      "execution_count": null,
      "outputs": []
    },
    {
      "cell_type": "code",
      "source": [
        "class TabularFeatureExtractor(nn.Module):\n",
        "    def __init__(self):\n",
        "        super(TabularFeatureExtractor, self).__init__()\n",
        "        self.embedding = nn.Sequential(\n",
        "            nn.Linear(in_features=23, out_features=128),\n",
        "            nn.BatchNorm1d(128),\n",
        "            nn.LeakyReLU(),\n",
        "            nn.Linear(in_features=128, out_features=256),\n",
        "            nn.BatchNorm1d(256),\n",
        "            nn.LeakyReLU(),\n",
        "            nn.Linear(in_features=256, out_features=512),\n",
        "            nn.BatchNorm1d(512),\n",
        "            nn.LeakyReLU(),\n",
        "            nn.Linear(in_features=512, out_features=512)\n",
        "        )\n",
        "        \n",
        "    def forward(self, x):\n",
        "        x = self.embedding(x)\n",
        "        return x"
      ],
      "metadata": {
        "id": "0ayhwkqNKPlo"
      },
      "execution_count": null,
      "outputs": []
    },
    {
      "cell_type": "code",
      "source": [
        "class ClassificationModel(nn.Module):\n",
        "    def __init__(self):\n",
        "        super(ClassificationModel, self).__init__()\n",
        "        self.img_feature_extractor = ImgFeatureExtractor()\n",
        "        self.tabular_feature_extractor = TabularFeatureExtractor()\n",
        "        self.classifier = nn.Sequential(\n",
        "            nn.Linear(in_features=1024, out_features=1),\n",
        "            nn.Sigmoid(),\n",
        "        )\n",
        "        \n",
        "    def forward(self, img, tabular):\n",
        "        img_feature = self.img_feature_extractor(img)\n",
        "        tabular_feature = self.tabular_feature_extractor(tabular)\n",
        "        feature = torch.cat([img_feature, tabular_feature], dim=-1)\n",
        "        output = self.classifier(feature)\n",
        "        return output"
      ],
      "metadata": {
        "id": "-utdMpgRKRiB"
      },
      "execution_count": null,
      "outputs": []
    },
    {
      "cell_type": "markdown",
      "source": [
        "#Train"
      ],
      "metadata": {
        "id": "jXA47QRwKTF_"
      }
    },
    {
      "cell_type": "code",
      "source": [
        "def train(model, optimizer, train_loader, val_loader, scheduler, device):\n",
        "    model.to(device)\n",
        "    criterion = nn.BCEWithLogitsLoss().to(device)# 이거쓰면 model 마지막에 Sigmoid를 안써야하는거아닌가?? 흠..\n",
        "    \n",
        "    best_score = 0\n",
        "    best_model = None\n",
        "    \n",
        "    for epoch in range(1, CFG['EPOCHS']+1):\n",
        "        model.train()\n",
        "        train_loss = []\n",
        "        for img, tabular, label in tqdm(iter(train_loader)):\n",
        "            img = img.float().to(device)\n",
        "            tabular = tabular.float().to(device)\n",
        "            label = label.float().to(device)\n",
        "            \n",
        "            optimizer.zero_grad()\n",
        "            \n",
        "            model_pred = model(img, tabular)\n",
        "            \n",
        "            loss = criterion(model_pred, label.reshape(-1,1))\n",
        "            \n",
        "            loss.backward()\n",
        "            optimizer.step()\n",
        "            \n",
        "            train_loss.append(loss.item())\n",
        "        \n",
        "        val_loss, val_score = validation(model, criterion, val_loader, device)\n",
        "        print(f'Epoch [{epoch}], Train Loss : [{np.mean(train_loss):.5f}] Val Loss : [{val_loss:.5f}] Val Score : [{val_score:.5f}]')\n",
        "        \n",
        "        if scheduler is not None:\n",
        "            scheduler.step(val_score)\n",
        "        \n",
        "        if best_score < val_score:\n",
        "            best_score = val_score\n",
        "            best_model = model\n",
        "    \n",
        "    return best_model"
      ],
      "metadata": {
        "id": "PFujYYW_KUKE"
      },
      "execution_count": null,
      "outputs": []
    },
    {
      "cell_type": "code",
      "source": [
        "def validation(model, criterion, val_loader, device):\n",
        "    model.eval()\n",
        "    pred_labels = []\n",
        "    true_labels = []\n",
        "    val_loss = []\n",
        "    threshold = 0.5\n",
        "    with torch.no_grad():\n",
        "        for img, tabular, label in tqdm(iter(val_loader)):\n",
        "            true_labels += label.tolist()\n",
        "            \n",
        "            img = img.float().to(device)\n",
        "            tabular = tabular.float().to(device)\n",
        "            label = label.float().to(device)\n",
        "            \n",
        "            model_pred = model(img, tabular)\n",
        "            \n",
        "            loss = criterion(model_pred, label.reshape(-1,1))\n",
        "            \n",
        "            val_loss.append(loss.item())\n",
        "            \n",
        "            model_pred = model_pred.squeeze(1).to('cpu')  \n",
        "            pred_labels += model_pred.tolist()\n",
        "    \n",
        "    pred_labels = np.where(np.array(pred_labels) > threshold, 1, 0)\n",
        "    val_score = metrics.f1_score(y_true=true_labels, y_pred=pred_labels, average='macro')\n",
        "    return np.mean(val_loss), val_score"
      ],
      "metadata": {
        "id": "20ts9drwKXOd"
      },
      "execution_count": null,
      "outputs": []
    },
    {
      "cell_type": "code",
      "source": [
        "model = nn.DataParallel(ClassificationModel())\n",
        "model.eval()\n",
        "optimizer = torch.optim.Adam(params = model.parameters(), lr = CFG[\"LEARNING_RATE\"])\n",
        "scheduler = torch.optim.lr_scheduler.ReduceLROnPlateau(optimizer, mode='max', factor=0.5, patience=1, threshold_mode='abs',min_lr=1e-8, verbose=True)\n",
        "#ReduceLROnPlateau: 성능향상이 없을때 lr 조절 mode 를 max로 해야지 loss가 감소하면서 lr도 줄어드는거같음음\n",
        "infer_model = train(model, optimizer, train_loader, val_loader, scheduler, device)"
      ],
      "metadata": {
        "id": "l1yRul-gKcdL"
      },
      "execution_count": null,
      "outputs": []
    },
    {
      "cell_type": "markdown",
      "source": [
        "#Inference"
      ],
      "metadata": {
        "id": "NjQdYaXMKgou"
      }
    },
    {
      "cell_type": "code",
      "source": [
        "test_dataset = CustomDataset(test_df, None, test_transforms)\n",
        "test_loader = DataLoader(test_dataset, batch_size=CFG['BATCH_SIZE'], shuffle=False, num_workers=0)"
      ],
      "metadata": {
        "id": "yuPr7QTYKi6Z"
      },
      "execution_count": null,
      "outputs": []
    },
    {
      "cell_type": "code",
      "source": [
        "def inference(model, test_loader, device):\n",
        "    model.to(device)\n",
        "    model.eval()\n",
        "    preds = []\n",
        "    threshold = 0.5\n",
        "    \n",
        "    with torch.no_grad():\n",
        "        for img, tabular in tqdm(iter(test_loader)):\n",
        "            img = img.float().to(device)\n",
        "            tabular = tabular.float().to(device)\n",
        "            \n",
        "            model_pred = model(img, tabular)\n",
        "            \n",
        "            model_pred = model_pred.squeeze(1).to('cpu')\n",
        "            \n",
        "            preds += model_pred.tolist()\n",
        "    \n",
        "    preds = np.where(np.array(preds) > threshold, 1, 0)\n",
        "    \n",
        "    return preds"
      ],
      "metadata": {
        "id": "T-4aP6HzKl_u"
      },
      "execution_count": null,
      "outputs": []
    },
    {
      "cell_type": "code",
      "source": [
        "preds = inference(infer_model, test_loader, device)"
      ],
      "metadata": {
        "id": "b-bDp0NUKn5T"
      },
      "execution_count": null,
      "outputs": []
    },
    {
      "cell_type": "markdown",
      "source": [
        "#Submission"
      ],
      "metadata": {
        "id": "o-qtHP-UKp17"
      }
    },
    {
      "cell_type": "code",
      "source": [
        "submit = pd.read_csv('./sample_submission.csv')"
      ],
      "metadata": {
        "id": "2K9lfFkuKuhY"
      },
      "execution_count": null,
      "outputs": []
    },
    {
      "cell_type": "code",
      "source": [
        "submit['N_category'] = preds\n",
        "submit.to_csv('./submit.csv', index=False)"
      ],
      "metadata": {
        "id": "_kI8PH2uKwbD"
      },
      "execution_count": null,
      "outputs": []
    }
  ]
}