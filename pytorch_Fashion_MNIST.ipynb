{
  "nbformat": 4,
  "nbformat_minor": 0,
  "metadata": {
    "colab": {
      "provenance": [],
      "authorship_tag": "ABX9TyN4XjJosAQ9sejZFypLXVm/",
      "include_colab_link": true
    },
    "kernelspec": {
      "name": "python3",
      "display_name": "Python 3"
    },
    "language_info": {
      "name": "python"
    }
  },
  "cells": [
    {
      "cell_type": "markdown",
      "metadata": {
        "id": "view-in-github",
        "colab_type": "text"
      },
      "source": [
        "<a href=\"https://colab.research.google.com/github/Gongsoo/Python3/blob/main/pytorch_Fashion_MNIST.ipynb\" target=\"_parent\"><img src=\"https://colab.research.google.com/assets/colab-badge.svg\" alt=\"Open In Colab\"/></a>"
      ]
    },
    {
      "cell_type": "code",
      "execution_count": 16,
      "metadata": {
        "id": "lKyBbZU-JQgc"
      },
      "outputs": [],
      "source": [
        "import torch\n",
        "from torch.utils.data import Dataset\n",
        "from torchvision import datasets\n",
        "from torchvision.transforms import ToTensor, Lambda\n",
        "import matplotlib.pyplot as plt\n",
        "\n",
        "\n",
        "training_data = datasets.FashionMNIST(\n",
        "    root = \"data\",\n",
        "    train = True,\n",
        "    download=True,\n",
        "    transform = ToTensor(),\n",
        "    target_transform=Lambda(lambda y: torch.zeros(10, dtype=torch.float).scatter_(0,torch.tensor(y),value=1))\n",
        ")\n",
        "\n",
        "test_data = datasets.FashionMNIST(\n",
        "    root = \"data\",\n",
        "    train = False,\n",
        "    download=True,\n",
        "    transform = ToTensor()\n",
        ")"
      ]
    },
    {
      "cell_type": "code",
      "source": [
        "labels_map = {\n",
        "    0:'T-Shirt',\n",
        "    1:'Trouser',\n",
        "    2:'Pullover',\n",
        "    3:'Dress',\n",
        "    4:'Coat',\n",
        "    5:'Sandal',\n",
        "    6:'Shirt',\n",
        "    7:'Sneaker',\n",
        "    8:'Bag',\n",
        "    9:'Ankle Boot',\n",
        "}\n",
        "\n",
        "figure = plt.figure(figsize=(8,8))\n",
        "cols, rows = 3,3\n",
        "for i in range(1,cols*rows +1) :\n",
        "  sample_idx = torch.randint(len(training_data), size = (1,)).item()\n",
        "  img, label= training_data[sample_idx]\n",
        "  figure.add_subplot(rows,cols,i)\n",
        "  plt.title(labels_map[label])\n",
        "  plt.axis(\"off\")\n",
        "  plt.imshow(img.squeeze(),cmap=\"gray\")\n",
        "plt.show()"
      ],
      "metadata": {
        "colab": {
          "base_uri": "https://localhost:8080/",
          "height": 482
        },
        "id": "hdMZs_0ENeEx",
        "outputId": "f38e3d9d-0f64-4918-f21c-571c0f8276c8"
      },
      "execution_count": 11,
      "outputs": [
        {
          "output_type": "display_data",
          "data": {
            "text/plain": [
              "<Figure size 576x576 with 9 Axes>"
            ],
            "image/png": "[encoded data removed]"
          },
          "metadata": {
            "needs_background": "light"
          }
        }
      ]
    },
    {
      "cell_type": "code",
      "source": [
        "import os\n",
        "import pandas as pd\n",
        "from torchvision.io import read_image\n",
        "\n",
        "class CustomImageDataset(Dataset):\n",
        "    def __init__(self, annotations_file, img_dir, transform=None, target_transform=None):\n",
        "        self.img_labels = pd.read_csv(annotations_file, names=['file_name', 'label'])\n",
        "        self.img_dir = img_dir\n",
        "        self.transform = transform\n",
        "        self.target_transform = target_transform\n",
        "\n",
        "    def __len__(self):\n",
        "        return len(self.img_labels)\n",
        "\n",
        "    def __getitem__(self, idx):\n",
        "        img_path = os.path.join(self.img_dir, self.img_labels.iloc[idx, 0])\n",
        "        image = read_image(img_path)\n",
        "        label = self.img_labels.iloc[idx, 1]\n",
        "        if self.transform:\n",
        "            image = self.transform(image)\n",
        "        if self.target_transform:\n",
        "            label = self.target_transform(label)\n",
        "        return image, label"
      ],
      "metadata": {
        "id": "4Q4ryIW0PeNY"
      },
      "execution_count": 13,
      "outputs": []
    },
    {
      "cell_type": "code",
      "source": [
        "from torch.utils.data import DataLoader\n",
        "\n",
        "train_dataloader = DataLoader(training_data, batch_size=64, shuffle=True)\n",
        "test_dataloader = DataLoader(test_data, batch_size=64, shuffle=True)"
      ],
      "metadata": {
        "id": "V10N0JEgPhTJ"
      },
      "execution_count": 14,
      "outputs": []
    },
    {
      "cell_type": "code",
      "source": [
        "import os\n",
        "import torch\n",
        "from torch import nn\n",
        "from torch.utils.data import DataLoader\n",
        "from torchvision import datasets, transforms\n",
        "\n",
        "device =  \"cpu\"\n",
        "print(f\"Using {device} device\")"
      ],
      "metadata": {
        "colab": {
          "base_uri": "https://localhost:8080/"
        },
        "id": "pcx0YVMnPwfY",
        "outputId": "d5696e21-56c7-4110-f45f-774b2e091839"
      },
      "execution_count": 40,
      "outputs": [
        {
          "output_type": "stream",
          "name": "stdout",
          "text": [
            "Using cpu device\n"
          ]
        }
      ]
    },
    {
      "cell_type": "code",
      "source": [
        "class NeuralNetwork(nn.Module) :\n",
        "  def __init__(self) :\n",
        "    super(NeuralNetwork, self).__init__()\n",
        "    self.flatten = nn.Flatten()\n",
        "    self.linear_relu_stack = nn.Sequential(\n",
        "        nn.Linear(28*28,512),\n",
        "        nn.ReLU(),\n",
        "        nn.Linear(512,512),\n",
        "        nn.ReLU(),\n",
        "        nn.Linear(512,10),\n",
        "    )\n",
        "  def forward(self, x) :\n",
        "    x = self.flatten(x)\n",
        "    logits = self.linear_relu_stack(x)\n",
        "    return logits"
      ],
      "metadata": {
        "id": "cUB3pidgRGsZ"
      },
      "execution_count": 38,
      "outputs": []
    },
    {
      "cell_type": "code",
      "source": [
        "model = NeuralNetwork().to(device)\n",
        "print(model)"
      ],
      "metadata": {
        "colab": {
          "base_uri": "https://localhost:8080/"
        },
        "id": "p8t1Nme9SAH1",
        "outputId": "1683881e-97cd-4dad-ffe7-fddcd86cc055"
      },
      "execution_count": 41,
      "outputs": [
        {
          "output_type": "stream",
          "name": "stdout",
          "text": [
            "NeuralNetwork(\n",
            "  (flatten): Flatten(start_dim=1, end_dim=-1)\n",
            "  (linear_relu_stack): Sequential(\n",
            "    (0): Linear(in_features=784, out_features=512, bias=True)\n",
            "    (1): ReLU()\n",
            "    (2): Linear(in_features=512, out_features=512, bias=True)\n",
            "    (3): ReLU()\n",
            "    (4): Linear(in_features=512, out_features=10, bias=True)\n",
            "  )\n",
            ")\n"
          ]
        }
      ]
    },
    {
      "cell_type": "code",
      "source": [
        "X = torch.rand(1, 28, 28)\n",
        "logits = model(X)\n",
        "pred_probab = nn.Softmax(dim=1)(logits)\n",
        "y_pred = pred_probab.argmax(1)\n",
        "print(f\"Predicted class: {y_pred}\")"
      ],
      "metadata": {
        "colab": {
          "base_uri": "https://localhost:8080/"
        },
        "id": "3kti-4aISvv6",
        "outputId": "8be2af62-a4b7-4aeb-face-0f648c5caf95"
      },
      "execution_count": 42,
      "outputs": [
        {
          "output_type": "stream",
          "name": "stdout",
          "text": [
            "Predicted class: tensor([8])\n"
          ]
        }
      ]
    },
    {
      "cell_type": "code",
      "source": [
        "import torch\n",
        "from torch import nn\n",
        "from torch.utils.data import DataLoader\n",
        "from torchvision import datasets\n",
        "from torchvision.transforms import ToTensor, Lambda\n",
        "\n",
        "training_data = datasets.FashionMNIST(\n",
        "    root=\"data\",\n",
        "    train=True,\n",
        "    download=True,\n",
        "    transform=ToTensor()\n",
        ")\n",
        "\n",
        "test_data = datasets.FashionMNIST(\n",
        "    root=\"data\",\n",
        "    train=False,\n",
        "    download=True,\n",
        "    transform=ToTensor()\n",
        ")\n",
        "\n",
        "train_dataloader = DataLoader(training_data, batch_size=64)\n",
        "test_dataloader = DataLoader(test_data, batch_size=64)\n",
        "\n",
        "class NeuralNetwork(nn.Module):\n",
        "    def __init__(self):\n",
        "        super(NeuralNetwork, self).__init__()\n",
        "        self.flatten = nn.Flatten()\n",
        "        self.linear_relu_stack = nn.Sequential(\n",
        "            nn.Linear(28*28, 512),\n",
        "            nn.ReLU(),\n",
        "            nn.Linear(512, 512),\n",
        "            nn.ReLU(),\n",
        "            nn.Linear(512, 10),\n",
        "        )\n",
        "\n",
        "    def forward(self, x):\n",
        "        x = self.flatten(x)\n",
        "        logits = self.linear_relu_stack(x)\n",
        "        return logits\n",
        "\n",
        "model = NeuralNetwork()\n",
        "\n",
        "learning_rate = 1e-3\n",
        "batch_size = 64\n",
        "def train_loop(dataloader, model, loss_fn, optimizer):\n",
        "    size = len(dataloader.dataset)\n",
        "    for batch, (X, y) in enumerate(dataloader):\n",
        "        # 예측(prediction)과 손실(loss) 계산\n",
        "        pred = model(X)\n",
        "        loss = loss_fn(pred, y)\n",
        "\n",
        "        # 역전파\n",
        "        optimizer.zero_grad()\n",
        "        loss.backward()\n",
        "        optimizer.step()\n",
        "\n",
        "        if batch % 100 == 0:\n",
        "            loss, current = loss.item(), batch * len(X)\n",
        "            print(f\"loss: {loss:>7f}  [{current:>5d}/{size:>5d}]\")\n",
        "\n",
        "\n",
        "def test_loop(dataloader, model, loss_fn):\n",
        "    size = len(dataloader.dataset)\n",
        "    num_batches = len(dataloader)\n",
        "    test_loss, correct = 0, 0\n",
        "\n",
        "    with torch.no_grad():\n",
        "        for X, y in dataloader:\n",
        "            pred = model(X)\n",
        "            test_loss += loss_fn(pred, y).item()\n",
        "            correct += (pred.argmax(1) == y).type(torch.float).sum().item()\n",
        "\n",
        "    test_loss /= num_batches\n",
        "    correct /= size\n",
        "    print(f\"Test Error: \\n Accuracy: {(100*correct):>0.1f}%, Avg loss: {test_loss:>8f} \\n\")"
      ],
      "metadata": {
        "id": "3x19ZK0IVOPr"
      },
      "execution_count": 48,
      "outputs": []
    },
    {
      "cell_type": "code",
      "source": [
        "loss_fn = nn.CrossEntropyLoss()\n",
        "optimizer = torch.optim.Adam(model.parameters(), lr=learning_rate)\n",
        "\n",
        "epochs = 10\n",
        "for t in range(epochs):\n",
        "    print(f\"Epoch {t+1}\\n-------------------------------\")\n",
        "    train_loop(train_dataloader, model, loss_fn, optimizer)\n",
        "    test_loop(test_dataloader, model, loss_fn)\n",
        "print(\"Done!\")"
      ],
      "metadata": {
        "colab": {
          "base_uri": "https://localhost:8080/"
        },
        "id": "R_4AdbyrWD5u",
        "outputId": "14c3f818-0acd-4fb9-f14f-13902fc97938"
      },
      "execution_count": 49,
      "outputs": [
        {
          "output_type": "stream",
          "name": "stdout",
          "text": [
            "Epoch 1\n",
            "-------------------------------\n",
            "loss: 2.296139  [    0/60000]\n",
            "loss: 0.556885  [ 6400/60000]\n",
            "loss: 0.388063  [12800/60000]\n",
            "loss: 0.499986  [19200/60000]\n",
            "loss: 0.433638  [25600/60000]\n",
            "loss: 0.419906  [32000/60000]\n",
            "loss: 0.360760  [38400/60000]\n",
            "loss: 0.515290  [44800/60000]\n",
            "loss: 0.481023  [51200/60000]\n",
            "loss: 0.500064  [57600/60000]\n",
            "Test Error: \n",
            " Accuracy: 84.5%, Avg loss: 0.422807 \n",
            "\n",
            "Epoch 2\n",
            "-------------------------------\n",
            "loss: 0.280841  [    0/60000]\n",
            "loss: 0.363613  [ 6400/60000]\n",
            "loss: 0.293424  [12800/60000]\n",
            "loss: 0.412354  [19200/60000]\n",
            "loss: 0.423361  [25600/60000]\n",
            "loss: 0.388932  [32000/60000]\n",
            "loss: 0.313770  [38400/60000]\n",
            "loss: 0.453531  [44800/60000]\n",
            "loss: 0.392982  [51200/60000]\n",
            "loss: 0.472265  [57600/60000]\n",
            "Test Error: \n",
            " Accuracy: 85.0%, Avg loss: 0.398086 \n",
            "\n",
            "Epoch 3\n",
            "-------------------------------\n",
            "loss: 0.230252  [    0/60000]\n",
            "loss: 0.345882  [ 6400/60000]\n",
            "loss: 0.235083  [12800/60000]\n",
            "loss: 0.302539  [19200/60000]\n",
            "loss: 0.363283  [25600/60000]\n",
            "loss: 0.338294  [32000/60000]\n",
            "loss: 0.261754  [38400/60000]\n",
            "loss: 0.371582  [44800/60000]\n",
            "loss: 0.346855  [51200/60000]\n",
            "loss: 0.411008  [57600/60000]\n",
            "Test Error: \n",
            " Accuracy: 85.5%, Avg loss: 0.390468 \n",
            "\n",
            "Epoch 4\n",
            "-------------------------------\n",
            "loss: 0.240264  [    0/60000]\n",
            "loss: 0.318338  [ 6400/60000]\n",
            "loss: 0.229569  [12800/60000]\n",
            "loss: 0.273979  [19200/60000]\n",
            "loss: 0.372859  [25600/60000]\n",
            "loss: 0.302376  [32000/60000]\n",
            "loss: 0.235586  [38400/60000]\n",
            "loss: 0.347458  [44800/60000]\n",
            "loss: 0.308320  [51200/60000]\n",
            "loss: 0.358350  [57600/60000]\n",
            "Test Error: \n",
            " Accuracy: 86.4%, Avg loss: 0.360492 \n",
            "\n",
            "Epoch 5\n",
            "-------------------------------\n",
            "loss: 0.205950  [    0/60000]\n",
            "loss: 0.292445  [ 6400/60000]\n",
            "loss: 0.214693  [12800/60000]\n",
            "loss: 0.281177  [19200/60000]\n",
            "loss: 0.346666  [25600/60000]\n",
            "loss: 0.292878  [32000/60000]\n",
            "loss: 0.222091  [38400/60000]\n",
            "loss: 0.337658  [44800/60000]\n",
            "loss: 0.337372  [51200/60000]\n",
            "loss: 0.397658  [57600/60000]\n",
            "Test Error: \n",
            " Accuracy: 86.5%, Avg loss: 0.370985 \n",
            "\n",
            "Epoch 6\n",
            "-------------------------------\n",
            "loss: 0.250418  [    0/60000]\n",
            "loss: 0.281976  [ 6400/60000]\n",
            "loss: 0.187046  [12800/60000]\n",
            "loss: 0.240720  [19200/60000]\n",
            "loss: 0.312526  [25600/60000]\n",
            "loss: 0.263199  [32000/60000]\n",
            "loss: 0.231618  [38400/60000]\n",
            "loss: 0.324790  [44800/60000]\n",
            "loss: 0.283329  [51200/60000]\n",
            "loss: 0.319552  [57600/60000]\n",
            "Test Error: \n",
            " Accuracy: 87.5%, Avg loss: 0.346802 \n",
            "\n",
            "Epoch 7\n",
            "-------------------------------\n",
            "loss: 0.178761  [    0/60000]\n",
            "loss: 0.266979  [ 6400/60000]\n",
            "loss: 0.174910  [12800/60000]\n",
            "loss: 0.251059  [19200/60000]\n",
            "loss: 0.410698  [25600/60000]\n",
            "loss: 0.285408  [32000/60000]\n",
            "loss: 0.207275  [38400/60000]\n",
            "loss: 0.294800  [44800/60000]\n",
            "loss: 0.253854  [51200/60000]\n",
            "loss: 0.276061  [57600/60000]\n",
            "Test Error: \n",
            " Accuracy: 87.4%, Avg loss: 0.350627 \n",
            "\n",
            "Epoch 8\n",
            "-------------------------------\n",
            "loss: 0.160192  [    0/60000]\n",
            "loss: 0.261119  [ 6400/60000]\n",
            "loss: 0.161827  [12800/60000]\n",
            "loss: 0.256390  [19200/60000]\n",
            "loss: 0.311637  [25600/60000]\n",
            "loss: 0.261261  [32000/60000]\n",
            "loss: 0.168462  [38400/60000]\n",
            "loss: 0.274355  [44800/60000]\n",
            "loss: 0.220550  [51200/60000]\n",
            "loss: 0.304350  [57600/60000]\n",
            "Test Error: \n",
            " Accuracy: 87.4%, Avg loss: 0.359316 \n",
            "\n",
            "Epoch 9\n",
            "-------------------------------\n",
            "loss: 0.143750  [    0/60000]\n",
            "loss: 0.224145  [ 6400/60000]\n",
            "loss: 0.159800  [12800/60000]\n",
            "loss: 0.188625  [19200/60000]\n",
            "loss: 0.326007  [25600/60000]\n",
            "loss: 0.232767  [32000/60000]\n",
            "loss: 0.186899  [38400/60000]\n",
            "loss: 0.249095  [44800/60000]\n",
            "loss: 0.185323  [51200/60000]\n",
            "loss: 0.286763  [57600/60000]\n",
            "Test Error: \n",
            " Accuracy: 86.8%, Avg loss: 0.399080 \n",
            "\n",
            "Epoch 10\n",
            "-------------------------------\n",
            "loss: 0.193797  [    0/60000]\n",
            "loss: 0.177880  [ 6400/60000]\n",
            "loss: 0.172360  [12800/60000]\n",
            "loss: 0.233213  [19200/60000]\n",
            "loss: 0.402568  [25600/60000]\n",
            "loss: 0.254953  [32000/60000]\n",
            "loss: 0.146487  [38400/60000]\n",
            "loss: 0.245344  [44800/60000]\n",
            "loss: 0.212486  [51200/60000]\n",
            "loss: 0.231917  [57600/60000]\n",
            "Test Error: \n",
            " Accuracy: 87.0%, Avg loss: 0.398447 \n",
            "\n",
            "Done!\n"
          ]
        }
      ]
    }
  ]
}