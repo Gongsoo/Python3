{
  "nbformat": 4,
  "nbformat_minor": 0,
  "metadata": {
    "colab": {
      "provenance": [],
      "authorship_tag": "ABX9TyMmJNwQEiSWO4+yy5tTgjRz",
      "include_colab_link": true
    },
    "kernelspec": {
      "name": "python3",
      "display_name": "Python 3"
    },
    "language_info": {
      "name": "python"
    },
    "accelerator": "GPU",
    "gpuClass": "standard"
  },
  "cells": [
    {
      "cell_type": "markdown",
      "metadata": {
        "id": "view-in-github",
        "colab_type": "text"
      },
      "source": [
        "<a href=\"https://colab.research.google.com/github/Gongsoo/Python3/blob/main/MNIST_CNN_STUDY.ipynb\" target=\"_parent\"><img src=\"https://colab.research.google.com/assets/colab-badge.svg\" alt=\"Open In Colab\"/></a>"
      ]
    },
    {
      "cell_type": "code",
      "execution_count": 1,
      "metadata": {
        "id": "YK0D9iRL9Cuh"
      },
      "outputs": [],
      "source": [
        "import torch\n",
        "import torch.nn as nn\n",
        "\n",
        "inputs = torch.Tensor(1,1,28,28)\n",
        "\n",
        "conv1 = nn.Conv2d(1,32,3,padding=1)\n",
        "conv2 = nn.Conv2d(32,64,kernel_size = 3,padding=1)\n",
        "pool = nn.MaxPool2d(2)\n",
        "fc = nn.Linear(3136,10)\n",
        "out = conv1(inputs)\n",
        "out = pool(out)\n",
        "out = conv2(out)\n",
        "out = pool(out)\n",
        "\n",
        "out = out.view(out.size(0),-1)\n",
        "out = fc(out)"
      ]
    },
    {
      "cell_type": "code",
      "source": [
        "import torch\n",
        "import torchvision.datasets as dsets\n",
        "import torchvision.transforms as transforms\n",
        "import torch.nn.init\n",
        "\n",
        "device = 'cuda' if torch.cuda.is_available() else 'cpu'\n",
        "print(device)\n",
        "\n",
        "torch.manual_seed(777)\n",
        "\n",
        "if device == 'cuda' :\n",
        "  torch.cuda.manual_seed_all(777)"
      ],
      "metadata": {
        "colab": {
          "base_uri": "https://localhost:8080/"
        },
        "id": "ycIv8XV1_bFu",
        "outputId": "9221fdf8-02e2-4ebe-e674-3e5557a67dfc"
      },
      "execution_count": 2,
      "outputs": [
        {
          "output_type": "stream",
          "name": "stdout",
          "text": [
            "cuda\n"
          ]
        }
      ]
    },
    {
      "cell_type": "code",
      "source": [
        "lr = 0.0001\n",
        "epochs = 50\n",
        "batch_size = 100\n",
        "\n",
        "mnist_train = dsets.MNIST(root = 'MNIST_data', train = True, transform = transforms.ToTensor(),download=True)\n",
        "mnist_test = dsets.MNIST(root = 'MNIST_data', train = False, transform = transforms.ToTensor(),download=True)\n",
        "data_loader = torch.utils.data.DataLoader(dataset = mnist_train,batch_size = batch_size,shuffle = True,drop_last = True)\n",
        "\n"
      ],
      "metadata": {
        "id": "AGInlZIKAMU-"
      },
      "execution_count": 4,
      "outputs": []
    },
    {
      "cell_type": "code",
      "source": [
        "x,y = mnist_train[0]\n",
        "\n",
        "print(x.shape)"
      ],
      "metadata": {
        "id": "kLyUoLkOUls3",
        "outputId": "1e535205-cf55-41ab-a7e7-8dddcacebd62",
        "colab": {
          "base_uri": "https://localhost:8080/"
        }
      },
      "execution_count": 40,
      "outputs": [
        {
          "output_type": "stream",
          "name": "stdout",
          "text": [
            "torch.Size([1, 28, 28])\n"
          ]
        }
      ]
    },
    {
      "cell_type": "code",
      "source": [
        "class CNN(torch.nn.Module) :\n",
        "  def __init__(self) :\n",
        "    super(CNN, self).__init__()\n",
        "    self.keep_prob = 0.5\n",
        "    self.layer1 = torch.nn.Sequential(\n",
        "        torch.nn.Conv2d(1,32,kernel_size = 3, stride = 1, padding = 1),\n",
        "        torch.nn.ReLU(),\n",
        "        torch.nn.MaxPool2d(kernel_size=2, stride=2)\n",
        "    )\n",
        "    self.layer2 = torch.nn.Sequential(\n",
        "        torch.nn.Conv2d(32,64,kernel_size = 3, stride = 1, padding = 1),\n",
        "        torch.nn.ReLU(),\n",
        "        torch.nn.MaxPool2d(kernel_size=2, stride=2)\n",
        "    )\n",
        "    self.layer3 = torch.nn.Sequential(\n",
        "        torch.nn.Conv2d(64,128,kernel_size = 3, stride = 1, padding = 1),\n",
        "        torch.nn.ReLU(),\n",
        "        torch.nn.MaxPool2d(kernel_size=2, stride=2,padding=1)\n",
        "    )\n",
        "    self.fc1 = torch.nn.Linear(4*4*128,625,bias=True)\n",
        "    torch.nn.init.xavier_uniform_(self.fc1.weight)\n",
        "    self.layer4 = torch.nn.Sequential(\n",
        "        self.fc1,\n",
        "        torch.nn.ReLU(),\n",
        "        torch.nn.Dropout(p=1-self.keep_prob)\n",
        "    )\n",
        "    self.fc2 = torch.nn.Linear(625,10,bias = True)\n",
        "    torch.nn.init.xavier_uniform_(self.fc2.weight)\n",
        "\n",
        "  def forward(self, x) :\n",
        "    out = self.layer1(x)\n",
        "    out = self.layer2(out)\n",
        "    out = self.layer3(out)\n",
        "    out = out.view(out.size(0),-1)\n",
        "    out = self.layer4(out)\n",
        "    out = self.fc2(out)\n",
        "    return out"
      ],
      "metadata": {
        "id": "pwnJB9hpBNEO"
      },
      "execution_count": 33,
      "outputs": []
    },
    {
      "cell_type": "code",
      "source": [
        "class AlexNet(nn.Module) :\n",
        "    def __init__(self) -> None :\n",
        "        super(AlexNet, self).__init__()\n",
        "        self.features = nn.Sequential(\n",
        "            nn.Conv2d(1, 64, kernel_size=3, stride=1, padding=1),\n",
        "            nn.ReLU(inplace=True),\n",
        "            nn.MaxPool2d(kernel_size=2, stride=2),\n",
        "            nn.Conv2d(64, 192, kernel_size=3, padding=1),\n",
        "            nn.ReLU(inplace=True),\n",
        "            nn.MaxPool2d(kernel_size=2, stride=2),\n",
        "            nn.Conv2d(192, 384, kernel_size=3, padding=1),\n",
        "            nn.ReLU(inplace=True),\n",
        "            nn.Conv2d(384, 256, kernel_size=3, padding=1),\n",
        "            nn.ReLU(inplace=True),\n",
        "            nn.Conv2d(256, 256, kernel_size=3, padding=1),\n",
        "            nn.ReLU(inplace=True),\n",
        "            nn.MaxPool2d(kernel_size=2, stride=2),\n",
        "        )\n",
        "        \n",
        "        self.avgpool = nn.AdaptiveAvgPool2d((6, 6))\n",
        "        self.classifier = nn.Sequential(\n",
        "            nn.Dropout(),\n",
        "            nn.Linear(256*6*6, 4096),\n",
        "            nn.ReLU(inplace=True),\n",
        "            nn.Dropout(),\n",
        "            nn.Linear(4096, 512),\n",
        "            nn.ReLU(inplace=True),\n",
        "            nn.Linear(512, 10),)\n",
        "        \n",
        "    def forward(self, x :torch.Tensor) -> torch.Tensor :\n",
        "        x = self.features(x)\n",
        "        x = self.avgpool(x)\n",
        "        x = torch.flatten(x, 1)\n",
        "        x = self.classifier(x)\n",
        "        return x"
      ],
      "metadata": {
        "id": "I48_hmOYTNvO"
      },
      "execution_count": 41,
      "outputs": []
    },
    {
      "cell_type": "code",
      "source": [
        "#model = CNN().to(device)\n",
        "model = AlexNet().to(device)\n",
        "criterion = torch.nn.CrossEntropyLoss().to(device)\n",
        "optimizer = torch.optim.Adam(model.parameters(), lr = lr)"
      ],
      "metadata": {
        "id": "GTXw8_AWCaMe"
      },
      "execution_count": 42,
      "outputs": []
    },
    {
      "cell_type": "code",
      "source": [
        "from torchsummary import summary\n",
        "\n",
        "summary(model,(1,28,28))"
      ],
      "metadata": {
        "id": "v8q2d8ggTyKP",
        "outputId": "9c613a1f-6fb4-46d7-bfca-ad006173336b",
        "colab": {
          "base_uri": "https://localhost:8080/"
        }
      },
      "execution_count": 43,
      "outputs": [
        {
          "output_type": "stream",
          "name": "stdout",
          "text": [
            "----------------------------------------------------------------\n",
            "        Layer (type)               Output Shape         Param #\n",
            "================================================================\n",
            "            Conv2d-1           [-1, 64, 28, 28]             640\n",
            "              ReLU-2           [-1, 64, 28, 28]               0\n",
            "         MaxPool2d-3           [-1, 64, 14, 14]               0\n",
            "            Conv2d-4          [-1, 192, 14, 14]         110,784\n",
            "              ReLU-5          [-1, 192, 14, 14]               0\n",
            "         MaxPool2d-6            [-1, 192, 7, 7]               0\n",
            "            Conv2d-7            [-1, 384, 7, 7]         663,936\n",
            "              ReLU-8            [-1, 384, 7, 7]               0\n",
            "            Conv2d-9            [-1, 256, 7, 7]         884,992\n",
            "             ReLU-10            [-1, 256, 7, 7]               0\n",
            "           Conv2d-11            [-1, 256, 7, 7]         590,080\n",
            "             ReLU-12            [-1, 256, 7, 7]               0\n",
            "        MaxPool2d-13            [-1, 256, 3, 3]               0\n",
            "AdaptiveAvgPool2d-14            [-1, 256, 6, 6]               0\n",
            "          Dropout-15                 [-1, 9216]               0\n",
            "           Linear-16                 [-1, 4096]      37,752,832\n",
            "             ReLU-17                 [-1, 4096]               0\n",
            "          Dropout-18                 [-1, 4096]               0\n",
            "           Linear-19                  [-1, 512]       2,097,664\n",
            "             ReLU-20                  [-1, 512]               0\n",
            "           Linear-21                   [-1, 10]           5,130\n",
            "================================================================\n",
            "Total params: 42,106,058\n",
            "Trainable params: 42,106,058\n",
            "Non-trainable params: 0\n",
            "----------------------------------------------------------------\n",
            "Input size (MB): 0.00\n",
            "Forward/backward pass size (MB): 2.44\n",
            "Params size (MB): 160.62\n",
            "Estimated Total Size (MB): 163.06\n",
            "----------------------------------------------------------------\n"
          ]
        }
      ]
    },
    {
      "cell_type": "code",
      "source": [
        "for epoch in range(epochs) :\n",
        "  avg_cost = 0\n",
        "\n",
        "  for X,Y in data_loader :\n",
        "    X = X.to(device)\n",
        "    Y = Y.to(device)\n",
        "\n",
        "    optimizer.zero_grad()\n",
        "    hypothesis = model(X)\n",
        "    cost = criterion(hypothesis,Y)\n",
        "    cost.backward()\n",
        "    optimizer.step()\n",
        "\n",
        "    avg_cost += cost/len(data_loader)\n",
        "  \n",
        "  print('[Epoch: {:>4} cost = {:>.9}'.format(epoch+1,avg_cost))"
      ],
      "metadata": {
        "colab": {
          "base_uri": "https://localhost:8080/"
        },
        "id": "IzeQocw2Cuuw",
        "outputId": "73b14a4a-159d-406e-c5b6-4041142df1c2"
      },
      "execution_count": 44,
      "outputs": [
        {
          "output_type": "stream",
          "name": "stdout",
          "text": [
            "[Epoch:    1 cost = 0.315992147\n",
            "[Epoch:    2 cost = 0.0694760531\n",
            "[Epoch:    3 cost = 0.0495758839\n",
            "[Epoch:    4 cost = 0.0382314399\n",
            "[Epoch:    5 cost = 0.0307157524\n",
            "[Epoch:    6 cost = 0.0247671884\n",
            "[Epoch:    7 cost = 0.0228599478\n",
            "[Epoch:    8 cost = 0.0184384622\n",
            "[Epoch:    9 cost = 0.0149625847\n",
            "[Epoch:   10 cost = 0.0153318401\n",
            "[Epoch:   11 cost = 0.0137417205\n",
            "[Epoch:   12 cost = 0.0114611713\n",
            "[Epoch:   13 cost = 0.0106107723\n",
            "[Epoch:   14 cost = 0.00952898711\n",
            "[Epoch:   15 cost = 0.00762051623\n",
            "[Epoch:   16 cost = 0.008436542\n",
            "[Epoch:   17 cost = 0.00720271422\n",
            "[Epoch:   18 cost = 0.00822198018\n",
            "[Epoch:   19 cost = 0.00618436141\n",
            "[Epoch:   20 cost = 0.00571927195\n",
            "[Epoch:   21 cost = 0.00667660171\n",
            "[Epoch:   22 cost = 0.00615458982\n",
            "[Epoch:   23 cost = 0.00445455639\n",
            "[Epoch:   24 cost = 0.00470802328\n",
            "[Epoch:   25 cost = 0.00435771095\n",
            "[Epoch:   26 cost = 0.00444895914\n",
            "[Epoch:   27 cost = 0.00575901289\n",
            "[Epoch:   28 cost = 0.00272086449\n",
            "[Epoch:   29 cost = 0.00345087447\n",
            "[Epoch:   30 cost = 0.00518601853\n",
            "[Epoch:   31 cost = 0.00307351677\n",
            "[Epoch:   32 cost = 0.00306890835\n",
            "[Epoch:   33 cost = 0.00364983617\n",
            "[Epoch:   34 cost = 0.00335865049\n",
            "[Epoch:   35 cost = 0.00437316671\n",
            "[Epoch:   36 cost = 0.00276973215\n",
            "[Epoch:   37 cost = 0.00337277888\n",
            "[Epoch:   38 cost = 0.00352659286\n",
            "[Epoch:   39 cost = 0.0012226922\n",
            "[Epoch:   40 cost = 0.00339111383\n",
            "[Epoch:   41 cost = 0.0030183997\n",
            "[Epoch:   42 cost = 0.00306208688\n",
            "[Epoch:   43 cost = 0.00279097632\n",
            "[Epoch:   44 cost = 0.00274642883\n",
            "[Epoch:   45 cost = 0.00157762808\n",
            "[Epoch:   46 cost = 0.00326465978\n",
            "[Epoch:   47 cost = 0.00231494405\n",
            "[Epoch:   48 cost = 0.000673152739\n",
            "[Epoch:   49 cost = 0.00261209859\n",
            "[Epoch:   50 cost = 0.00248165918\n"
          ]
        }
      ]
    },
    {
      "cell_type": "code",
      "source": [
        "# 학습을 진행하지 않을 것이므로 torch.no_grad()\n",
        "with torch.no_grad():\n",
        "    X_test = mnist_test.test_data.view(len(mnist_test), 1, 28, 28).float().to(device)\n",
        "    Y_test = mnist_test.test_labels.to(device)\n",
        "\n",
        "    prediction = model(X_test)\n",
        "    correct_prediction = torch.argmax(prediction, 1) == Y_test\n",
        "    accuracy = correct_prediction.float().mean()\n",
        "    print('Accuracy: {:.2f} %'.format(accuracy.item()*100))"
      ],
      "metadata": {
        "colab": {
          "base_uri": "https://localhost:8080/"
        },
        "id": "icP0pycsFKa0",
        "outputId": "eb09cc04-8d81-418c-9527-2fe4da47bef4"
      },
      "execution_count": 48,
      "outputs": [
        {
          "output_type": "stream",
          "name": "stdout",
          "text": [
            "Accuracy: 98.98 %\n"
          ]
        }
      ]
    },
    {
      "cell_type": "code",
      "source": [
        "import matplotlib.pyplot as plt\n",
        "import numpy as np\n",
        "test_loader = torch.utils.data.DataLoader(mnist_test,batch_size,shuffle=True)\n",
        "samples, labels = next(iter(test_loader))\n",
        "\n",
        "figure = plt.figure(figsize = (12,12))\n",
        "\n",
        "for i in range(16) :\n",
        "  sample = np.squeeze(samples[i])\n",
        "  a = figure.add_subplot(2,8,i+1)\n",
        "  a.set_title(int(labels[i]))\n",
        "  a.axis('off')\n",
        "  a.imshow(sample.numpy())\n",
        "\n",
        "plt.subplots_adjust(bottom=0.2, top=0.6, hspace=0)"
      ],
      "metadata": {
        "id": "dvBCbJu6cVud",
        "outputId": "5e07a801-1563-4592-a12c-8a032a580c80",
        "colab": {
          "base_uri": "https://localhost:8080/",
          "height": 291
        }
      },
      "execution_count": 73,
      "outputs": [
        {
          "output_type": "display_data",
          "data": {
            "text/plain": [
              "<Figure size 864x864 with 16 Axes>"
            ],
            "image/png": "[encoded data removed]"
          },
          "metadata": {
            "needs_background": "light"
          }
        }
      ]
    }
  ]
}