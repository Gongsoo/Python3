{
  "nbformat": 4,
  "nbformat_minor": 0,
  "metadata": {
    "colab": {
      "provenance": [],
      "include_colab_link": true
    },
    "kernelspec": {
      "name": "python3",
      "display_name": "Python 3"
    },
    "accelerator": "GPU",
    "gpuClass": "standard"
  },
  "cells": [
    {
      "cell_type": "markdown",
      "metadata": {
        "id": "view-in-github",
        "colab_type": "text"
      },
      "source": [
        "<a href=\"https://colab.research.google.com/github/Gongsoo/Python3/blob/main/titanic2.ipynb\" target=\"_parent\"><img src=\"https://colab.research.google.com/assets/colab-badge.svg\" alt=\"Open In Colab\"/></a>"
      ]
    },
    {
      "cell_type": "code",
      "source": [
        "from google.colab import drive\n",
        "drive.mount('/content/drive')"
      ],
      "metadata": {
        "id": "PyapyyUpBQdc",
        "outputId": "c9835d7b-ed19-4c76-a0ed-c6d0807d8b3a",
        "colab": {
          "base_uri": "https://localhost:8080/"
        }
      },
      "execution_count": 1,
      "outputs": [
        {
          "output_type": "stream",
          "name": "stdout",
          "text": [
            "Drive already mounted at /content/drive; to attempt to forcibly remount, call drive.mount(\"/content/drive\", force_remount=True).\n"
          ]
        }
      ]
    },
    {
      "cell_type": "code",
      "source": [
        "cd \"/content/drive/MyDrive/\""
      ],
      "metadata": {
        "id": "h6mb5B93Be-i",
        "outputId": "cf20c2ba-f187-4060-f9a4-2400be421d40",
        "colab": {
          "base_uri": "https://localhost:8080/"
        }
      },
      "execution_count": 1,
      "outputs": [
        {
          "output_type": "stream",
          "name": "stdout",
          "text": [
            "/content/drive/MyDrive\n"
          ]
        }
      ]
    },
    {
      "cell_type": "code",
      "source": [
        "!unzip -qq \"/content/drive/MyDrive/타이타닉.zip\""
      ],
      "metadata": {
        "id": "J5lqGt68CQii"
      },
      "execution_count": null,
      "outputs": []
    },
    {
      "cell_type": "code",
      "source": [
        "!mkdir titanic_pytorch\n"
      ],
      "metadata": {
        "id": "Z3pErZd7Cpbb"
      },
      "execution_count": null,
      "outputs": []
    },
    {
      "cell_type": "code",
      "source": [
        "import shutil\n",
        "shutil.move('/content/drive/MyDrive/train.csv','/content/drive/MyDrive/titanic_pytorch/train.csv')\n",
        "shutil.move('/content/drive/MyDrive/test.csv','/content/drive/MyDrive/titanic_pytorch/test.csv')\n",
        "shutil.move('/content/drive/MyDrive/submission.csv','/content/drive/MyDrive/titanic_pytorch/submission.csv')"
      ],
      "metadata": {
        "id": "UXuAtq95CtfZ",
        "outputId": "9c142583-9b13-4041-d359-53b4a48d740f",
        "colab": {
          "base_uri": "https://localhost:8080/",
          "height": 35
        }
      },
      "execution_count": null,
      "outputs": [
        {
          "output_type": "execute_result",
          "data": {
            "text/plain": [
              "'/content/drive/MyDrive/titanic_pytorch/submission.csv'"
            ],
            "application/vnd.google.colaboratory.intrinsic+json": {
              "type": "string"
            }
          },
          "metadata": {},
          "execution_count": 8
        }
      ]
    },
    {
      "cell_type": "code",
      "source": [
        "shutil.move('/content/drive/MyDrive/타이타닉.zip','/content/drive/MyDrive/titanic_pytorch/titanic_data.zip')"
      ],
      "metadata": {
        "id": "kEzOmeA2DV0s",
        "outputId": "7332b887-2c90-4729-f794-792ca59255bb",
        "colab": {
          "base_uri": "https://localhost:8080/",
          "height": 35
        }
      },
      "execution_count": null,
      "outputs": [
        {
          "output_type": "execute_result",
          "data": {
            "text/plain": [
              "'/content/drive/MyDrive/titanic_pytorch/titanic_data.zip'"
            ],
            "application/vnd.google.colaboratory.intrinsic+json": {
              "type": "string"
            }
          },
          "metadata": {},
          "execution_count": 9
        }
      ]
    },
    {
      "cell_type": "code",
      "source": [
        "import pandas as pd\n",
        "import numpy as np"
      ],
      "metadata": {
        "id": "1WWupEEgDhyC"
      },
      "execution_count": 2,
      "outputs": []
    },
    {
      "cell_type": "code",
      "source": [
        "train = pd.read_csv('/content/drive/MyDrive/titanic_pytorch/train.csv')\n",
        "test = pd.read_csv('/content/drive/MyDrive/titanic_pytorch/test.csv')\n",
        "sub = pd.read_csv('/content/drive/MyDrive/titanic_pytorch/submission.csv')"
      ],
      "metadata": {
        "id": "rbYArzUOISIR"
      },
      "execution_count": 3,
      "outputs": []
    },
    {
      "cell_type": "code",
      "source": [
        "train = train.drop('Ticket',axis = 1)\n",
        "train = train.drop('Cabin',axis = 1)\n",
        "test = test.drop('Ticket',axis = 1)\n",
        "test = test.drop('Cabin',axis = 1)"
      ],
      "metadata": {
        "id": "xKfJrfA_Iw3F"
      },
      "execution_count": 4,
      "outputs": []
    },
    {
      "cell_type": "code",
      "source": [
        "train = train.fillna({'Embarked':'S'})\n",
        "test = test.fillna({'Embarked':'S','Fare':20})"
      ],
      "metadata": {
        "id": "DtjoMOtfJMb9"
      },
      "execution_count": 5,
      "outputs": []
    },
    {
      "cell_type": "code",
      "source": [
        "em_map = {'S':1,'Q':2,'C':3}\n",
        "\n",
        "for t in [train] :\n",
        "  t['Embarked'] = t['Embarked'].map(em_map)\n",
        "for t in [test] :\n",
        "  t['Embarked'] = t['Embarked'].map(em_map)"
      ],
      "metadata": {
        "id": "4WWyRmQaKqGk"
      },
      "execution_count": 6,
      "outputs": []
    },
    {
      "cell_type": "code",
      "source": [
        "s_map = {'male':1, 'female':2}\n",
        "\n",
        "for t in [train] :\n",
        "  t['Sex'] = t['Sex'].map(s_map)\n",
        "for t in [test] :\n",
        "  t['Sex'] = t['Sex'].map(s_map)"
      ],
      "metadata": {
        "id": "kZUxK3idLPFd"
      },
      "execution_count": 7,
      "outputs": []
    },
    {
      "cell_type": "code",
      "source": [
        "age_map = {'Mr.':20,'Miss.':15,'Mrs.':20,'Ms.':10,'Mme.':30,'Mlle.':15,'Dona.':30,'Countess.':30,'Sir.':25,'Lady.':20,'Jonkheer.':20,'Don.':20,'Col.':35,'Major.':30,'Capt.':23,'Dr.':30,'Master.':25,'Rev.':35}\n",
        "\n",
        "for t in [train] :\n",
        "  for i in range(len(t['Age'])) :\n",
        "    if np.isnan(t['Age'][i]) :\n",
        "      for j in age_map :\n",
        "        if j in t['Name'][i] :\n",
        "          t['Age'][i] = age_map[j]\n",
        "for t in [test] :\n",
        "  for i in range(len(t['Age'])) :\n",
        "    if np.isnan(t['Age'][i]) :\n",
        "      for j in age_map :\n",
        "        if j in t['Name'][i] :\n",
        "          t['Age'][i] = age_map[j]"
      ],
      "metadata": {
        "id": "YRcFZNHSOqBw",
        "outputId": "98b6deef-d249-4709-9956-13c445c3fc2f",
        "colab": {
          "base_uri": "https://localhost:8080/"
        }
      },
      "execution_count": 8,
      "outputs": [
        {
          "output_type": "stream",
          "name": "stderr",
          "text": [
            "<ipython-input-8-69fb9fd690b4>:8: SettingWithCopyWarning: \n",
            "A value is trying to be set on a copy of a slice from a DataFrame\n",
            "\n",
            "See the caveats in the documentation: https://pandas.pydata.org/pandas-docs/stable/user_guide/indexing.html#returning-a-view-versus-a-copy\n",
            "  t['Age'][i] = age_map[j]\n",
            "<ipython-input-8-69fb9fd690b4>:14: SettingWithCopyWarning: \n",
            "A value is trying to be set on a copy of a slice from a DataFrame\n",
            "\n",
            "See the caveats in the documentation: https://pandas.pydata.org/pandas-docs/stable/user_guide/indexing.html#returning-a-view-versus-a-copy\n",
            "  t['Age'][i] = age_map[j]\n"
          ]
        }
      ]
    },
    {
      "cell_type": "code",
      "source": [
        "train = train.drop(['Name'], axis=1)\n",
        "test = test.drop(['Name'], axis=1)"
      ],
      "metadata": {
        "id": "_SCFRED1-0E7"
      },
      "execution_count": 9,
      "outputs": []
    },
    {
      "cell_type": "code",
      "source": [
        "train = train.drop(['PassengerId'], axis=1)\n",
        "test = test.drop(['PassengerId'], axis=1)"
      ],
      "metadata": {
        "id": "4xfCYzajDtdN"
      },
      "execution_count": 10,
      "outputs": []
    },
    {
      "cell_type": "code",
      "source": [
        "x = train.drop(['Survived'],axis=1)\n",
        "y = train['Survived']"
      ],
      "metadata": {
        "id": "1cVbqMvUDtiq"
      },
      "execution_count": 11,
      "outputs": []
    },
    {
      "cell_type": "code",
      "source": [
        "from sklearn.preprocessing import StandardScaler\n",
        "import torch\n",
        "from torch import nn\n",
        "from torch.utils.data import TensorDataset\n",
        "from torch.utils.data import DataLoader"
      ],
      "metadata": {
        "id": "1Dj_WV3zJXR3"
      },
      "execution_count": 12,
      "outputs": []
    },
    {
      "cell_type": "code",
      "source": [
        "scaler = StandardScaler()\n",
        "scaler.fit(x)\n",
        "x_scaled = scaler.transform(x)\n",
        "\n",
        "scaler.fit(test)\n",
        "test_scaled = scaler.transform(test)"
      ],
      "metadata": {
        "id": "f-FNut6ZEzr8"
      },
      "execution_count": 13,
      "outputs": []
    },
    {
      "cell_type": "code",
      "source": [
        "print(type(y))"
      ],
      "metadata": {
        "id": "esa-aEbUKmYM",
        "outputId": "96896ceb-3c85-437c-84b8-c78387f38f98",
        "colab": {
          "base_uri": "https://localhost:8080/"
        }
      },
      "execution_count": 44,
      "outputs": [
        {
          "output_type": "stream",
          "name": "stdout",
          "text": [
            "<class 'pandas.core.series.Series'>\n"
          ]
        }
      ]
    },
    {
      "cell_type": "code",
      "source": [
        "train_x = torch.Tensor(x_scaled).float()\n",
        "train_y = torch.Tensor(y).float()\n",
        "test_x = torch.Tensor(test.values).float()\n",
        "\n",
        "train_dataset = TensorDataset(train_x,train_y)\n",
        "train_data_loader = DataLoader(train_dataset,batch_size = 64, shuffle = True,drop_last = True)\n"
      ],
      "metadata": {
        "id": "JuKMbW5lJ_Sc"
      },
      "execution_count": 14,
      "outputs": []
    },
    {
      "cell_type": "code",
      "source": [
        "class LiModel(nn.Module) :\n",
        "  def __init__(self):\n",
        "    super(LiModel,self).__init__()\n",
        "    self.layer1 = nn.Sequential(\n",
        "        nn.Linear(7,512),\n",
        "        nn.ReLU(),\n",
        "        nn.Dropout(0.2)\n",
        "    )\n",
        "    self.layer2 = nn.Sequential(\n",
        "        nn.Linear(512,512),\n",
        "        nn.ReLU(),\n",
        "        nn.Dropout()\n",
        "    )\n",
        "    self.layer3 = nn.Sequential(\n",
        "        nn.Linear(512,2)\n",
        "    )\n",
        "    \n",
        "  \n",
        "  def forward(self, x) :\n",
        "    x = self.layer1(x)\n",
        "    x = self.layer2(x)\n",
        "    x = self.layer3(x)\n",
        "    return x\n",
        "model = LiModel()\n",
        "model"
      ],
      "metadata": {
        "id": "3e2OhloS9tp2",
        "outputId": "14b4cae4-c14f-42d9-d916-2edaca8d688b",
        "colab": {
          "base_uri": "https://localhost:8080/"
        }
      },
      "execution_count": 15,
      "outputs": [
        {
          "output_type": "execute_result",
          "data": {
            "text/plain": [
              "LiModel(\n",
              "  (layer1): Sequential(\n",
              "    (0): Linear(in_features=7, out_features=512, bias=True)\n",
              "    (1): ReLU()\n",
              "    (2): Dropout(p=0.2, inplace=False)\n",
              "  )\n",
              "  (layer2): Sequential(\n",
              "    (0): Linear(in_features=512, out_features=512, bias=True)\n",
              "    (1): ReLU()\n",
              "    (2): Dropout(p=0.5, inplace=False)\n",
              "  )\n",
              "  (layer3): Sequential(\n",
              "    (0): Linear(in_features=512, out_features=2, bias=True)\n",
              "  )\n",
              ")"
            ]
          },
          "metadata": {},
          "execution_count": 15
        }
      ]
    },
    {
      "cell_type": "code",
      "source": [
        "\n",
        "epochs = 500\n",
        "optimizer = torch.optim.Adam(model.parameters(),lr=0.01)\n",
        "criterion = torch.nn.CrossEntropyLoss()\n",
        "train_loss_min = np.inf\n",
        "for epoch in range(epochs) :\n",
        "  train_loss = 0\n",
        "  correct = 0\n",
        "  for x,y in train_data_loader :\n",
        "    \n",
        "    model.train()\n",
        "    optimizer.zero_grad()\n",
        "    pred = model(x)\n",
        "    loss = criterion(pred,y.long())\n",
        "\n",
        "    \n",
        "    loss.backward()\n",
        "    optimizer.step()\n",
        "    output = torch.argmax(pred, dim=1)\n",
        "    correct += output.float() == y\n",
        "    train_loss += loss.item() * len(x)\n",
        "  train_loss = train_loss / len(train_x)\n",
        "  if (epoch + 1) % 20 == 0:\n",
        "      print('Epoch {}/{}, Prediction : {}/{}, Cost : {}'.format(epoch+1, epochs, sum(correct), len(train_x), train_loss))\n",
        "  if train_loss < train_loss_min:\n",
        "      print('=*=*=*= Loss decreased ({:10f} ===> {:10f}). Saving the model! =*=*=*='.format(train_loss_min, train_loss))\n",
        "      torch.save(model.state_dict(), 'model.pt')\n",
        "      train_loss_min = train_loss"
      ],
      "metadata": {
        "id": "EjdSZo2TNhL9",
        "outputId": "4c62a4aa-4ea3-4e2f-f0fa-7a601e95cb14",
        "colab": {
          "base_uri": "https://localhost:8080/"
        }
      },
      "execution_count": 16,
      "outputs": [
        {
          "output_type": "stream",
          "name": "stdout",
          "text": [
            "=*=*=*= Loss decreased (       inf ===>   0.715587). Saving the model! =*=*=*=\n",
            "=*=*=*= Loss decreased (  0.715587 ===>   0.418927). Saving the model! =*=*=*=\n",
            "=*=*=*= Loss decreased (  0.418927 ===>   0.408882). Saving the model! =*=*=*=\n",
            "=*=*=*= Loss decreased (  0.408882 ===>   0.406069). Saving the model! =*=*=*=\n",
            "=*=*=*= Loss decreased (  0.406069 ===>   0.386640). Saving the model! =*=*=*=\n",
            "=*=*=*= Loss decreased (  0.386640 ===>   0.379643). Saving the model! =*=*=*=\n",
            "=*=*=*= Loss decreased (  0.379643 ===>   0.379469). Saving the model! =*=*=*=\n",
            "=*=*=*= Loss decreased (  0.379469 ===>   0.377122). Saving the model! =*=*=*=\n",
            "=*=*=*= Loss decreased (  0.377122 ===>   0.364861). Saving the model! =*=*=*=\n",
            "=*=*=*= Loss decreased (  0.364861 ===>   0.354287). Saving the model! =*=*=*=\n",
            "Epoch 20/500, Prediction : 690/891, Cost : 0.37985830381930746\n",
            "=*=*=*= Loss decreased (  0.354287 ===>   0.349403). Saving the model! =*=*=*=\n",
            "=*=*=*= Loss decreased (  0.349403 ===>   0.345565). Saving the model! =*=*=*=\n",
            "=*=*=*= Loss decreased (  0.345565 ===>   0.344690). Saving the model! =*=*=*=\n",
            "Epoch 40/500, Prediction : 702/891, Cost : 0.351741100401188\n",
            "=*=*=*= Loss decreased (  0.344690 ===>   0.335092). Saving the model! =*=*=*=\n",
            "=*=*=*= Loss decreased (  0.335092 ===>   0.329568). Saving the model! =*=*=*=\n",
            "=*=*=*= Loss decreased (  0.329568 ===>   0.326336). Saving the model! =*=*=*=\n",
            "Epoch 60/500, Prediction : 700/891, Cost : 0.3564685988506484\n",
            "=*=*=*= Loss decreased (  0.326336 ===>   0.322577). Saving the model! =*=*=*=\n",
            "=*=*=*= Loss decreased (  0.322577 ===>   0.316746). Saving the model! =*=*=*=\n",
            "Epoch 80/500, Prediction : 701/891, Cost : 0.32696157941379395\n",
            "=*=*=*= Loss decreased (  0.316746 ===>   0.315853). Saving the model! =*=*=*=\n",
            "Epoch 100/500, Prediction : 704/891, Cost : 0.34059249244287493\n",
            "=*=*=*= Loss decreased (  0.315853 ===>   0.310231). Saving the model! =*=*=*=\n",
            "=*=*=*= Loss decreased (  0.310231 ===>   0.309984). Saving the model! =*=*=*=\n",
            "=*=*=*= Loss decreased (  0.309984 ===>   0.305516). Saving the model! =*=*=*=\n",
            "=*=*=*= Loss decreased (  0.305516 ===>   0.289916). Saving the model! =*=*=*=\n",
            "Epoch 120/500, Prediction : 713/891, Cost : 0.3255592468210342\n",
            "=*=*=*= Loss decreased (  0.289916 ===>   0.288366). Saving the model! =*=*=*=\n",
            "Epoch 140/500, Prediction : 719/891, Cost : 0.3121988251554444\n",
            "Epoch 160/500, Prediction : 713/891, Cost : 0.3134425053023864\n",
            "=*=*=*= Loss decreased (  0.288366 ===>   0.284652). Saving the model! =*=*=*=\n",
            "Epoch 180/500, Prediction : 723/891, Cost : 0.3051826592647668\n",
            "=*=*=*= Loss decreased (  0.284652 ===>   0.277323). Saving the model! =*=*=*=\n",
            "Epoch 200/500, Prediction : 708/891, Cost : 0.3087236348761185\n",
            "=*=*=*= Loss decreased (  0.277323 ===>   0.270701). Saving the model! =*=*=*=\n",
            "Epoch 220/500, Prediction : 727/891, Cost : 0.2948816472833807\n",
            "=*=*=*= Loss decreased (  0.270701 ===>   0.264305). Saving the model! =*=*=*=\n",
            "Epoch 240/500, Prediction : 715/891, Cost : 0.28417912878171364\n",
            "Epoch 260/500, Prediction : 716/891, Cost : 0.29078431669978044\n",
            "=*=*=*= Loss decreased (  0.264305 ===>   0.261621). Saving the model! =*=*=*=\n",
            "=*=*=*= Loss decreased (  0.261621 ===>   0.257174). Saving the model! =*=*=*=\n",
            "Epoch 280/500, Prediction : 725/891, Cost : 0.26885473099354273\n",
            "Epoch 300/500, Prediction : 716/891, Cost : 0.3188656112294138\n",
            "=*=*=*= Loss decreased (  0.257174 ===>   0.254621). Saving the model! =*=*=*=\n",
            "Epoch 320/500, Prediction : 721/891, Cost : 0.2830752170447147\n",
            "Epoch 340/500, Prediction : 729/891, Cost : 0.25503519381470685\n",
            "=*=*=*= Loss decreased (  0.254621 ===>   0.243160). Saving the model! =*=*=*=\n",
            "Epoch 360/500, Prediction : 729/891, Cost : 0.24841836165097425\n",
            "Epoch 380/500, Prediction : 725/891, Cost : 0.288142634561969\n",
            "Epoch 400/500, Prediction : 730/891, Cost : 0.2658246529490324\n",
            "Epoch 420/500, Prediction : 737/891, Cost : 0.2546697037522373\n",
            "Epoch 440/500, Prediction : 745/891, Cost : 0.25482456558347416\n",
            "=*=*=*= Loss decreased (  0.243160 ===>   0.242353). Saving the model! =*=*=*=\n",
            "Epoch 460/500, Prediction : 738/891, Cost : 0.2536779857511338\n",
            "Epoch 480/500, Prediction : 732/891, Cost : 0.27074214879644976\n",
            "Epoch 500/500, Prediction : 727/891, Cost : 0.27065091395351354\n"
          ]
        }
      ]
    },
    {
      "cell_type": "code",
      "source": [
        "with torch.no_grad():\n",
        "  test_y_pred = model(test_x)\n",
        "test_y_pred = torch.argmax(test_y_pred, dim = 1)"
      ],
      "metadata": {
        "id": "eUl4vz_mPuu0"
      },
      "execution_count": 24,
      "outputs": []
    },
    {
      "cell_type": "code",
      "source": [
        "print(test_y_pred)"
      ],
      "metadata": {
        "id": "jUo_AcMOP78N",
        "outputId": "25132622-eab5-4e78-a965-469f5e8c687a",
        "colab": {
          "base_uri": "https://localhost:8080/"
        }
      },
      "execution_count": 25,
      "outputs": [
        {
          "output_type": "stream",
          "name": "stdout",
          "text": [
            "tensor([0, 1, 1, 1, 1, 1, 1, 1, 1, 1, 1, 1, 1, 1, 1, 1, 1, 1, 1, 1, 1, 1, 1, 1,\n",
            "        1, 1, 1, 1, 1, 1, 1, 1, 1, 1, 1, 1, 1, 1, 1, 1, 1, 1, 0, 1, 1, 1, 1, 1,\n",
            "        1, 1, 1, 1, 1, 1, 1, 1, 1, 1, 1, 1, 0, 1, 1, 1, 1, 1, 1, 1, 1, 1, 1, 1,\n",
            "        1, 1, 1, 1, 1, 1, 1, 1, 1, 1, 1, 1, 1, 1, 1, 1, 1, 1, 1, 1, 1, 1, 1, 1,\n",
            "        1, 1, 1, 1, 1, 1, 1, 1, 1, 1, 1, 1, 1, 1, 1, 1, 1, 1, 1, 1, 0, 1, 1, 1,\n",
            "        1, 1, 1, 1, 1, 1, 1, 1, 1, 1, 1, 1, 1, 1, 1, 1, 1, 1, 1, 1, 1, 1, 1, 1,\n",
            "        1, 1, 1, 1, 1, 1, 1, 1, 1, 1, 1, 1, 1, 1, 1, 1, 1, 1, 1, 1, 1, 1, 1, 1,\n",
            "        1, 1, 1, 1, 1, 1, 1, 1, 1, 1, 1, 1, 1, 1, 1, 1, 1, 1, 1, 1, 1, 1, 1, 1,\n",
            "        1, 1, 1, 1, 1, 1, 1, 1, 1, 1, 1, 1, 1, 1, 1, 1, 1, 1, 1, 1, 1, 1, 1, 1,\n",
            "        1, 1, 1, 1, 1, 1, 1, 1, 1, 1, 1, 1, 1, 1, 1, 1, 1, 0, 1, 1, 1, 1, 1, 1,\n",
            "        1, 1, 1, 1, 1, 1, 1, 1, 1, 1, 1, 1, 1, 1, 1, 1, 1, 1, 1, 1, 1, 1, 1, 1,\n",
            "        1, 1, 0, 1, 1, 1, 1, 1, 1, 1, 1, 1, 1, 1, 1, 1, 1, 1, 1, 1, 1, 1, 1, 1,\n",
            "        1, 1, 1, 1, 1, 1, 1, 1, 1, 1, 1, 1, 1, 1, 1, 1, 1, 1, 1, 1, 1, 1, 1, 1,\n",
            "        1, 1, 1, 1, 1, 1, 1, 1, 1, 1, 1, 1, 1, 1, 1, 1, 1, 1, 1, 1, 0, 1, 0, 1,\n",
            "        1, 1, 1, 1, 1, 1, 1, 1, 1, 1, 1, 0, 1, 1, 1, 1, 1, 1, 1, 1, 1, 1, 1, 1,\n",
            "        1, 1, 1, 1, 1, 1, 1, 1, 1, 1, 1, 1, 1, 1, 1, 1, 1, 1, 1, 1, 1, 1, 1, 1,\n",
            "        1, 1, 1, 1, 1, 1, 1, 1, 1, 1, 1, 1, 1, 1, 1, 0, 1, 1, 1, 1, 1, 1, 1, 1,\n",
            "        1, 1, 1, 1, 1, 1, 1, 1, 1, 1])\n"
          ]
        }
      ]
    },
    {
      "cell_type": "code",
      "source": [
        "sub['Survived'] = torch.Tensor.detach(test_y_pred)\n",
        "sub.to_csv('베이스 라인 .csv', index = False)"
      ],
      "metadata": {
        "id": "74ftZpgoPf5T"
      },
      "execution_count": 26,
      "outputs": []
    }
  ]
}