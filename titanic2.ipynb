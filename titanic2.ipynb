{
  "nbformat": 4,
  "nbformat_minor": 0,
  "metadata": {
    "colab": {
      "provenance": [],
      "include_colab_link": true
    },
    "kernelspec": {
      "name": "python3",
      "display_name": "Python 3"
    },
    "accelerator": "GPU",
    "gpuClass": "standard"
  },
  "cells": [
    {
      "cell_type": "markdown",
      "metadata": {
        "id": "view-in-github",
        "colab_type": "text"
      },
      "source": [
        "<a href=\"https://colab.research.google.com/github/Gongsoo/Python3/blob/main/titanic2.ipynb\" target=\"_parent\"><img src=\"https://colab.research.google.com/assets/colab-badge.svg\" alt=\"Open In Colab\"/></a>"
      ]
    },
    {
      "cell_type": "code",
      "source": [
        "from google.colab import drive\n",
        "drive.mount('/content/drive')"
      ],
      "metadata": {
        "id": "PyapyyUpBQdc",
        "outputId": "62765a3e-4dc8-404f-ef72-0efd0544d09d",
        "colab": {
          "base_uri": "https://localhost:8080/"
        }
      },
      "execution_count": 1,
      "outputs": [
        {
          "output_type": "stream",
          "name": "stdout",
          "text": [
            "Mounted at /content/drive\n"
          ]
        }
      ]
    },
    {
      "cell_type": "code",
      "source": [
        "cd \"/content/drive/MyDrive/\""
      ],
      "metadata": {
        "id": "h6mb5B93Be-i",
        "outputId": "301cfbae-21f8-4533-ae7d-e09ce6b7aaf1",
        "colab": {
          "base_uri": "https://localhost:8080/"
        }
      },
      "execution_count": 2,
      "outputs": [
        {
          "output_type": "stream",
          "name": "stdout",
          "text": [
            "/content/drive/MyDrive\n"
          ]
        }
      ]
    },
    {
      "cell_type": "code",
      "source": [
        "!unzip -qq \"/content/drive/MyDrive/타이타닉.zip\""
      ],
      "metadata": {
        "id": "J5lqGt68CQii"
      },
      "execution_count": null,
      "outputs": []
    },
    {
      "cell_type": "code",
      "source": [
        "!mkdir titanic_pytorch\n"
      ],
      "metadata": {
        "id": "Z3pErZd7Cpbb"
      },
      "execution_count": null,
      "outputs": []
    },
    {
      "cell_type": "code",
      "source": [
        "import shutil\n",
        "shutil.move('/content/drive/MyDrive/train.csv','/content/drive/MyDrive/titanic_pytorch/train.csv')\n",
        "shutil.move('/content/drive/MyDrive/test.csv','/content/drive/MyDrive/titanic_pytorch/test.csv')\n",
        "shutil.move('/content/drive/MyDrive/submission.csv','/content/drive/MyDrive/titanic_pytorch/submission.csv')"
      ],
      "metadata": {
        "id": "UXuAtq95CtfZ",
        "outputId": "9c142583-9b13-4041-d359-53b4a48d740f",
        "colab": {
          "base_uri": "https://localhost:8080/",
          "height": 35
        }
      },
      "execution_count": null,
      "outputs": [
        {
          "output_type": "execute_result",
          "data": {
            "text/plain": [
              "'/content/drive/MyDrive/titanic_pytorch/submission.csv'"
            ],
            "application/vnd.google.colaboratory.intrinsic+json": {
              "type": "string"
            }
          },
          "metadata": {},
          "execution_count": 8
        }
      ]
    },
    {
      "cell_type": "code",
      "source": [
        "shutil.move('/content/drive/MyDrive/타이타닉.zip','/content/drive/MyDrive/titanic_pytorch/titanic_data.zip')"
      ],
      "metadata": {
        "id": "kEzOmeA2DV0s",
        "outputId": "7332b887-2c90-4729-f794-792ca59255bb",
        "colab": {
          "base_uri": "https://localhost:8080/",
          "height": 35
        }
      },
      "execution_count": null,
      "outputs": [
        {
          "output_type": "execute_result",
          "data": {
            "text/plain": [
              "'/content/drive/MyDrive/titanic_pytorch/titanic_data.zip'"
            ],
            "application/vnd.google.colaboratory.intrinsic+json": {
              "type": "string"
            }
          },
          "metadata": {},
          "execution_count": 9
        }
      ]
    },
    {
      "cell_type": "code",
      "source": [
        "import pandas as pd\n",
        "import numpy as np"
      ],
      "metadata": {
        "id": "1WWupEEgDhyC"
      },
      "execution_count": 3,
      "outputs": []
    },
    {
      "cell_type": "code",
      "source": [
        "train = pd.read_csv('/content/drive/MyDrive/titanic_pytorch/train.csv')\n",
        "test = pd.read_csv('/content/drive/MyDrive/titanic_pytorch/test.csv')\n",
        "sub = pd.read_csv('/content/drive/MyDrive/titanic_pytorch/submission.csv')"
      ],
      "metadata": {
        "id": "rbYArzUOISIR"
      },
      "execution_count": 4,
      "outputs": []
    },
    {
      "cell_type": "code",
      "source": [
        "train = train.drop('Ticket',axis = 1)\n",
        "train = train.drop('Cabin',axis = 1)\n",
        "test = test.drop('Ticket',axis = 1)\n",
        "test = test.drop('Cabin',axis = 1)"
      ],
      "metadata": {
        "id": "xKfJrfA_Iw3F"
      },
      "execution_count": 5,
      "outputs": []
    },
    {
      "cell_type": "code",
      "source": [
        "train = train.fillna({'Embarked':'S'})\n",
        "test = test.fillna({'Embarked':'S','Fare':20})"
      ],
      "metadata": {
        "id": "DtjoMOtfJMb9"
      },
      "execution_count": 6,
      "outputs": []
    },
    {
      "cell_type": "code",
      "source": [
        "em_map = {'S':1,'Q':2,'C':3}\n",
        "\n",
        "for t in [train] :\n",
        "  t['Embarked'] = t['Embarked'].map(em_map)\n",
        "for t in [test] :\n",
        "  t['Embarked'] = t['Embarked'].map(em_map)"
      ],
      "metadata": {
        "id": "4WWyRmQaKqGk"
      },
      "execution_count": 7,
      "outputs": []
    },
    {
      "cell_type": "code",
      "source": [
        "s_map = {'male':1, 'female':2}\n",
        "\n",
        "for t in [train] :\n",
        "  t['Sex'] = t['Sex'].map(s_map)\n",
        "for t in [test] :\n",
        "  t['Sex'] = t['Sex'].map(s_map)"
      ],
      "metadata": {
        "id": "kZUxK3idLPFd"
      },
      "execution_count": 8,
      "outputs": []
    },
    {
      "cell_type": "code",
      "source": [
        "age_map = {'Mr.':20,'Miss.':15,'Mrs.':20,'Ms.':10,'Mme.':30,'Mlle.':15,'Dona.':30,'Countess.':30,'Sir.':25,'Lady.':20,'Jonkheer.':20,'Don.':20,'Col.':35,'Major.':30,'Capt.':23,'Dr.':30,'Master.':25,'Rev.':35}\n",
        "\n",
        "for t in [train] :\n",
        "  for i in range(len(t['Age'])) :\n",
        "    if np.isnan(t['Age'][i]) :\n",
        "      for j in age_map :\n",
        "        if j in t['Name'][i] :\n",
        "          t['Age'][i] = age_map[j]\n",
        "for t in [test] :\n",
        "  for i in range(len(t['Age'])) :\n",
        "    if np.isnan(t['Age'][i]) :\n",
        "      for j in age_map :\n",
        "        if j in t['Name'][i] :\n",
        "          t['Age'][i] = age_map[j]"
      ],
      "metadata": {
        "id": "YRcFZNHSOqBw",
        "outputId": "a2862661-9bf8-4b27-800d-0373cb6cb067",
        "colab": {
          "base_uri": "https://localhost:8080/"
        }
      },
      "execution_count": 9,
      "outputs": [
        {
          "output_type": "stream",
          "name": "stderr",
          "text": [
            "<ipython-input-9-69fb9fd690b4>:8: SettingWithCopyWarning: \n",
            "A value is trying to be set on a copy of a slice from a DataFrame\n",
            "\n",
            "See the caveats in the documentation: https://pandas.pydata.org/pandas-docs/stable/user_guide/indexing.html#returning-a-view-versus-a-copy\n",
            "  t['Age'][i] = age_map[j]\n",
            "<ipython-input-9-69fb9fd690b4>:14: SettingWithCopyWarning: \n",
            "A value is trying to be set on a copy of a slice from a DataFrame\n",
            "\n",
            "See the caveats in the documentation: https://pandas.pydata.org/pandas-docs/stable/user_guide/indexing.html#returning-a-view-versus-a-copy\n",
            "  t['Age'][i] = age_map[j]\n"
          ]
        }
      ]
    },
    {
      "cell_type": "code",
      "source": [
        "train = train.drop(['Name'], axis=1)\n",
        "test = test.drop(['Name'], axis=1)"
      ],
      "metadata": {
        "id": "_SCFRED1-0E7"
      },
      "execution_count": 10,
      "outputs": []
    },
    {
      "cell_type": "code",
      "source": [
        "train = train.drop(['PassengerId'], axis=1)\n",
        "test = test.drop(['PassengerId'], axis=1)"
      ],
      "metadata": {
        "id": "4xfCYzajDtdN"
      },
      "execution_count": 11,
      "outputs": []
    },
    {
      "cell_type": "code",
      "source": [
        "x = train.drop(['Survived'],axis=1)\n",
        "y = train['Survived']"
      ],
      "metadata": {
        "id": "1cVbqMvUDtiq"
      },
      "execution_count": 28,
      "outputs": []
    },
    {
      "cell_type": "code",
      "source": [
        "from sklearn.preprocessing import StandardScaler\n",
        "import torch\n",
        "from torch import nn\n",
        "from torch.utils.data import TensorDataset\n",
        "from torch.utils.data import DataLoader"
      ],
      "metadata": {
        "id": "1Dj_WV3zJXR3"
      },
      "execution_count": 13,
      "outputs": []
    },
    {
      "cell_type": "code",
      "source": [
        "scaler = StandardScaler()\n",
        "scaler.fit(x)\n",
        "x_scaled = scaler.transform(x)\n",
        "\n",
        "scaler.fit(test)\n",
        "test_scaled = scaler.transform(test)"
      ],
      "metadata": {
        "id": "f-FNut6ZEzr8"
      },
      "execution_count": 29,
      "outputs": []
    },
    {
      "cell_type": "code",
      "source": [
        "print(type(y))"
      ],
      "metadata": {
        "id": "esa-aEbUKmYM",
        "outputId": "96896ceb-3c85-437c-84b8-c78387f38f98",
        "colab": {
          "base_uri": "https://localhost:8080/"
        }
      },
      "execution_count": null,
      "outputs": [
        {
          "output_type": "stream",
          "name": "stdout",
          "text": [
            "<class 'pandas.core.series.Series'>\n"
          ]
        }
      ]
    },
    {
      "cell_type": "code",
      "source": [
        "train_x = torch.Tensor(x_scaled).float()\n",
        "train_y = torch.Tensor(y).float()\n",
        "test_x = torch.Tensor(test.values).float()\n",
        "\n",
        "train_dataset = TensorDataset(train_x,train_y)\n",
        "train_data_loader = DataLoader(train_dataset,batch_size = 64, shuffle = True,drop_last = True)\n"
      ],
      "metadata": {
        "id": "JuKMbW5lJ_Sc"
      },
      "execution_count": 30,
      "outputs": []
    },
    {
      "cell_type": "code",
      "source": [
        "class LiModel(nn.Module) :\n",
        "  def __init__(self):\n",
        "    super(LiModel,self).__init__()\n",
        "    self.layer1 = nn.Sequential(\n",
        "        nn.Linear(7,1),\n",
        "        nn.Sigmoid()\n",
        "    )\n",
        "    \n",
        "  \n",
        "  def forward(self, x) :\n",
        "    x = self.layer1(x)\n",
        "    return x\n",
        "model = LiModel()\n",
        "model"
      ],
      "metadata": {
        "id": "3e2OhloS9tp2",
        "outputId": "0d10f2c2-ff09-4e08-f337-f86bef80aa61",
        "colab": {
          "base_uri": "https://localhost:8080/"
        }
      },
      "execution_count": 31,
      "outputs": [
        {
          "output_type": "execute_result",
          "data": {
            "text/plain": [
              "LiModel(\n",
              "  (layer1): Sequential(\n",
              "    (0): Linear(in_features=7, out_features=1, bias=True)\n",
              "    (1): Sigmoid()\n",
              "  )\n",
              ")"
            ]
          },
          "metadata": {},
          "execution_count": 31
        }
      ]
    },
    {
      "cell_type": "code",
      "source": [
        "\n",
        "epochs = 500\n",
        "optimizer = torch.optim.Adam(model.parameters(),lr=0.01)\n",
        "train_loss_min = np.inf\n",
        "for epoch in range(epochs) :\n",
        "  train_loss = 0\n",
        "  correct = 0\n",
        "  for x,y in train_data_loader :\n",
        "    \n",
        "    model.train()\n",
        "    optimizer.zero_grad()\n",
        "    pred = model(x).view(-1)\n",
        "    loss = torch.nn.functional.binary_cross_entropy(pred,y)\n",
        "\n",
        "    \n",
        "    loss.backward()\n",
        "    optimizer.step()\n",
        "    output = pred >= torch.FloatTensor([0.5])\n",
        "    correct += output.float() == y\n",
        "    train_loss += loss.item() * len(x)\n",
        "  train_loss = train_loss / len(train_x)\n",
        "  if (epoch + 1) % 20 == 0:\n",
        "      print('Epoch {}/{}, Prediction : {}/{}, Cost : {}'.format(epoch+1, epochs, sum(correct), len(train_x), train_loss))\n",
        "  if train_loss < train_loss_min:\n",
        "      print('=*=*=*= Loss decreased ({:10f} ===> {:10f}). Saving the model! =*=*=*='.format(train_loss_min, train_loss))\n",
        "      torch.save(model.state_dict(), 'model.pt')\n",
        "      train_loss_min = train_loss"
      ],
      "metadata": {
        "id": "EjdSZo2TNhL9",
        "outputId": "6b911730-a1db-47e3-970c-16b8014d7f7f",
        "colab": {
          "base_uri": "https://localhost:8080/"
        }
      },
      "execution_count": 32,
      "outputs": [
        {
          "output_type": "stream",
          "name": "stdout",
          "text": [
            "=*=*=*= Loss decreased (       inf ===>   0.571712). Saving the model! =*=*=*=\n",
            "=*=*=*= Loss decreased (  0.571712 ===>   0.520107). Saving the model! =*=*=*=\n",
            "=*=*=*= Loss decreased (  0.520107 ===>   0.482525). Saving the model! =*=*=*=\n",
            "=*=*=*= Loss decreased (  0.482525 ===>   0.459285). Saving the model! =*=*=*=\n",
            "=*=*=*= Loss decreased (  0.459285 ===>   0.441142). Saving the model! =*=*=*=\n",
            "=*=*=*= Loss decreased (  0.441142 ===>   0.430444). Saving the model! =*=*=*=\n",
            "=*=*=*= Loss decreased (  0.430444 ===>   0.421234). Saving the model! =*=*=*=\n",
            "=*=*=*= Loss decreased (  0.421234 ===>   0.413332). Saving the model! =*=*=*=\n",
            "=*=*=*= Loss decreased (  0.413332 ===>   0.411757). Saving the model! =*=*=*=\n",
            "=*=*=*= Loss decreased (  0.411757 ===>   0.405402). Saving the model! =*=*=*=\n",
            "Epoch 20/500, Prediction : 660/891, Cost : 0.4210702829756988\n",
            "Epoch 40/500, Prediction : 666/891, Cost : 0.41491275149429957\n",
            "=*=*=*= Loss decreased (  0.405402 ===>   0.404113). Saving the model! =*=*=*=\n",
            "Epoch 60/500, Prediction : 661/891, Cost : 0.4141304945169742\n",
            "Epoch 80/500, Prediction : 662/891, Cost : 0.4180026391539911\n",
            "Epoch 100/500, Prediction : 659/891, Cost : 0.4188228097695159\n",
            "Epoch 120/500, Prediction : 665/891, Cost : 0.4206819973141791\n",
            "Epoch 140/500, Prediction : 663/891, Cost : 0.41072416466093226\n",
            "Epoch 160/500, Prediction : 662/891, Cost : 0.41933580520578506\n",
            "Epoch 180/500, Prediction : 655/891, Cost : 0.41920810703744255\n",
            "Epoch 200/500, Prediction : 666/891, Cost : 0.4200976036748233\n",
            "Epoch 220/500, Prediction : 662/891, Cost : 0.4194627284468491\n",
            "=*=*=*= Loss decreased (  0.404113 ===>   0.403181). Saving the model! =*=*=*=\n",
            "Epoch 240/500, Prediction : 663/891, Cost : 0.4105386530643896\n",
            "=*=*=*= Loss decreased (  0.403181 ===>   0.400327). Saving the model! =*=*=*=\n",
            "Epoch 260/500, Prediction : 661/891, Cost : 0.42128466168370443\n",
            "Epoch 280/500, Prediction : 672/891, Cost : 0.4117056036370103\n",
            "Epoch 300/500, Prediction : 662/891, Cost : 0.417732782503036\n",
            "Epoch 320/500, Prediction : 664/891, Cost : 0.4153828861737492\n",
            "Epoch 340/500, Prediction : 669/891, Cost : 0.4082900110452397\n",
            "=*=*=*= Loss decreased (  0.400327 ===>   0.398585). Saving the model! =*=*=*=\n",
            "Epoch 360/500, Prediction : 666/891, Cost : 0.41770164412681504\n",
            "Epoch 380/500, Prediction : 662/891, Cost : 0.417329935915141\n",
            "Epoch 400/500, Prediction : 661/891, Cost : 0.4230687647690008\n",
            "Epoch 420/500, Prediction : 662/891, Cost : 0.414192289615721\n",
            "Epoch 440/500, Prediction : 667/891, Cost : 0.41498727509469696\n",
            "Epoch 460/500, Prediction : 663/891, Cost : 0.4154417035823184\n",
            "Epoch 480/500, Prediction : 663/891, Cost : 0.41640460210215763\n",
            "Epoch 500/500, Prediction : 663/891, Cost : 0.41081415469665183\n"
          ]
        }
      ]
    },
    {
      "cell_type": "code",
      "source": [
        "model.eval()\n",
        "with torch.no_grad():\n",
        "  test_y_pred = model(test_x)"
      ],
      "metadata": {
        "id": "eUl4vz_mPuu0"
      },
      "execution_count": 34,
      "outputs": []
    },
    {
      "cell_type": "code",
      "source": [
        "print(test_y_pred)"
      ],
      "metadata": {
        "id": "jUo_AcMOP78N",
        "outputId": "0fedf41b-ad3a-4aad-fc29-13893d4b4cf9",
        "colab": {
          "base_uri": "https://localhost:8080/"
        }
      },
      "execution_count": 35,
      "outputs": [
        {
          "output_type": "stream",
          "name": "stdout",
          "text": [
            "tensor([[1.9981e-08],\n",
            "        [8.0742e-11],\n",
            "        [7.7662e-14],\n",
            "        [8.0421e-07],\n",
            "        [3.9629e-05],\n",
            "        [5.4769e-04],\n",
            "        [6.6541e-07],\n",
            "        [4.0343e-05],\n",
            "        [2.7716e-04],\n",
            "        [7.0904e-05],\n",
            "        [2.3140e-05],\n",
            "        [4.8179e-09],\n",
            "        [7.8074e-01],\n",
            "        [2.9810e-13],\n",
            "        [1.1767e-06],\n",
            "        [4.6338e-04],\n",
            "        [7.3808e-08],\n",
            "        [1.7002e-05],\n",
            "        [1.8616e-06],\n",
            "        [4.2722e-10],\n",
            "        [6.2358e-09],\n",
            "        [2.6089e-03],\n",
            "        [1.5605e-02],\n",
            "        [1.9087e-01],\n",
            "        [1.0000e+00],\n",
            "        [1.4539e-11],\n",
            "        [3.6587e-01],\n",
            "        [8.0841e-06],\n",
            "        [1.0956e-07],\n",
            "        [1.0842e-04],\n",
            "        [1.8737e-10],\n",
            "        [1.1386e-04],\n",
            "        [5.3299e-07],\n",
            "        [5.0588e-04],\n",
            "        [1.1829e-03],\n",
            "        [5.8735e-05],\n",
            "        [1.0378e-03],\n",
            "        [5.7967e-05],\n",
            "        [2.4439e-06],\n",
            "        [2.4163e-02],\n",
            "        [5.2695e-09],\n",
            "        [2.0555e-03],\n",
            "        [6.9363e-10],\n",
            "        [3.0874e-06],\n",
            "        [9.2006e-07],\n",
            "        [1.9494e-06],\n",
            "        [1.7863e-08],\n",
            "        [2.6115e-05],\n",
            "        [3.1162e-08],\n",
            "        [8.8174e-08],\n",
            "        [2.3534e-02],\n",
            "        [6.5921e-06],\n",
            "        [8.5792e-04],\n",
            "        [1.0000e+00],\n",
            "        [2.2896e-04],\n",
            "        [1.7814e-02],\n",
            "        [1.3662e-08],\n",
            "        [1.8740e-06],\n",
            "        [5.2475e-05],\n",
            "        [1.0000e+00],\n",
            "        [1.0235e-04],\n",
            "        [3.3416e-07],\n",
            "        [6.1063e-05],\n",
            "        [3.5571e-05],\n",
            "        [1.0000e+00],\n",
            "        [1.3811e-03],\n",
            "        [2.6402e-04],\n",
            "        [3.0893e-08],\n",
            "        [1.5598e-05],\n",
            "        [9.9983e-01],\n",
            "        [1.3248e-05],\n",
            "        [1.4097e-05],\n",
            "        [9.8896e-07],\n",
            "        [4.7896e-05],\n",
            "        [1.0000e+00],\n",
            "        [1.0000e+00],\n",
            "        [2.3658e-05],\n",
            "        [9.5837e-11],\n",
            "        [8.3811e-07],\n",
            "        [1.3248e-05],\n",
            "        [5.7260e-02],\n",
            "        [1.3962e-01],\n",
            "        [1.0891e-09],\n",
            "        [2.3140e-05],\n",
            "        [9.8760e-05],\n",
            "        [5.5027e-05],\n",
            "        [3.0510e-06],\n",
            "        [2.3480e-04],\n",
            "        [1.3485e-02],\n",
            "        [7.1429e-01],\n",
            "        [5.2311e-05],\n",
            "        [2.2742e-05],\n",
            "        [5.7707e-03],\n",
            "        [2.3658e-05],\n",
            "        [2.1201e-04],\n",
            "        [1.9136e-06],\n",
            "        [8.5107e-12],\n",
            "        [2.6846e-07],\n",
            "        [8.4730e-05],\n",
            "        [3.7640e-08],\n",
            "        [4.9834e-06],\n",
            "        [1.6734e-05],\n",
            "        [2.6115e-05],\n",
            "        [1.1623e-06],\n",
            "        [5.9907e-04],\n",
            "        [3.5827e-06],\n",
            "        [1.6071e-05],\n",
            "        [2.6115e-05],\n",
            "        [2.6018e-05],\n",
            "        [2.5041e-04],\n",
            "        [6.4004e-09],\n",
            "        [1.1502e-03],\n",
            "        [7.5671e-06],\n",
            "        [1.8919e-04],\n",
            "        [8.1276e-01],\n",
            "        [1.4827e-04],\n",
            "        [2.4927e-05],\n",
            "        [7.1218e-01],\n",
            "        [1.0656e-03],\n",
            "        [2.2876e-05],\n",
            "        [3.3187e-02],\n",
            "        [1.8243e-05],\n",
            "        [3.6586e-04],\n",
            "        [4.0001e-07],\n",
            "        [2.6115e-05],\n",
            "        [1.1675e-03],\n",
            "        [8.4650e-06],\n",
            "        [5.1499e-03],\n",
            "        [2.1889e-09],\n",
            "        [3.2581e-06],\n",
            "        [6.1788e-08],\n",
            "        [2.8517e-10],\n",
            "        [8.8153e-04],\n",
            "        [1.7413e-05],\n",
            "        [2.5910e-10],\n",
            "        [3.1678e-06],\n",
            "        [1.1133e-06],\n",
            "        [6.0859e-06],\n",
            "        [1.9702e-05],\n",
            "        [1.6378e-07],\n",
            "        [3.3148e-01],\n",
            "        [9.9866e-01],\n",
            "        [9.9920e-01],\n",
            "        [1.4593e-05],\n",
            "        [3.7859e-08],\n",
            "        [1.4421e-07],\n",
            "        [7.2284e-02],\n",
            "        [8.7795e-06],\n",
            "        [2.0555e-03],\n",
            "        [3.6121e-06],\n",
            "        [8.8018e-01],\n",
            "        [3.0731e-05],\n",
            "        [2.5175e-13],\n",
            "        [5.1721e-08],\n",
            "        [4.6785e-03],\n",
            "        [3.0324e-06],\n",
            "        [1.0000e+00],\n",
            "        [1.9156e-05],\n",
            "        [3.7859e-08],\n",
            "        [9.2352e-06],\n",
            "        [1.1427e-03],\n",
            "        [3.5680e-02],\n",
            "        [2.4087e-05],\n",
            "        [2.0348e-05],\n",
            "        [3.5931e-09],\n",
            "        [2.2078e-05],\n",
            "        [7.9884e-08],\n",
            "        [1.2392e-03],\n",
            "        [1.1780e-02],\n",
            "        [3.6866e-05],\n",
            "        [2.2020e-05],\n",
            "        [8.6892e-07],\n",
            "        [8.6510e-06],\n",
            "        [2.7927e-05],\n",
            "        [1.8509e-08],\n",
            "        [1.6601e-01],\n",
            "        [1.3088e-02],\n",
            "        [5.7998e-09],\n",
            "        [5.7344e-06],\n",
            "        [1.0482e-08],\n",
            "        [8.3811e-07],\n",
            "        [1.3483e-03],\n",
            "        [3.9221e-01],\n",
            "        [2.6115e-05],\n",
            "        [1.0000e+00],\n",
            "        [9.0726e-09],\n",
            "        [8.0380e-04],\n",
            "        [5.1066e-05],\n",
            "        [2.6795e-01],\n",
            "        [5.8984e-09],\n",
            "        [5.2096e-07],\n",
            "        [1.8998e-03],\n",
            "        [2.6834e-03],\n",
            "        [1.8682e-13],\n",
            "        [4.0576e-01],\n",
            "        [3.6597e-08],\n",
            "        [1.0000e+00],\n",
            "        [2.2571e-04],\n",
            "        [1.8804e-05],\n",
            "        [8.7930e-05],\n",
            "        [3.4757e-03],\n",
            "        [4.7915e-01],\n",
            "        [9.9990e-01],\n",
            "        [4.1993e-01],\n",
            "        [6.9782e-06],\n",
            "        [2.4299e-03],\n",
            "        [5.6798e-08],\n",
            "        [1.1455e-05],\n",
            "        [1.8965e-05],\n",
            "        [1.9413e-06],\n",
            "        [4.9338e-07],\n",
            "        [2.0495e-05],\n",
            "        [7.5671e-01],\n",
            "        [4.8576e-12],\n",
            "        [2.4275e-09],\n",
            "        [3.7358e-07],\n",
            "        [1.1669e-03],\n",
            "        [6.2014e-03],\n",
            "        [9.9874e-01],\n",
            "        [2.3658e-05],\n",
            "        [3.2397e-06],\n",
            "        [1.4412e-05],\n",
            "        [1.1370e-04],\n",
            "        [1.3896e-05],\n",
            "        [9.0299e-10],\n",
            "        [2.9631e-04],\n",
            "        [5.1567e-06],\n",
            "        [1.1454e-03],\n",
            "        [2.5158e-09],\n",
            "        [4.2831e-08],\n",
            "        [8.0245e-01],\n",
            "        [4.6009e-03],\n",
            "        [8.0547e-06],\n",
            "        [2.6603e-05],\n",
            "        [9.5430e-05],\n",
            "        [2.3002e-05],\n",
            "        [7.0076e-10],\n",
            "        [2.7910e-05],\n",
            "        [7.8787e-04],\n",
            "        [6.2942e-04],\n",
            "        [3.4859e-10],\n",
            "        [1.9066e-08],\n",
            "        [3.9025e-02],\n",
            "        [2.3113e-05],\n",
            "        [1.1526e-05],\n",
            "        [1.6422e-06],\n",
            "        [5.1297e-04],\n",
            "        [2.3980e-08],\n",
            "        [2.2876e-05],\n",
            "        [2.0268e-04],\n",
            "        [9.6742e-01],\n",
            "        [2.3237e-05],\n",
            "        [9.9774e-01],\n",
            "        [3.9123e-06],\n",
            "        [5.9383e-08],\n",
            "        [2.2020e-05],\n",
            "        [2.6115e-05],\n",
            "        [4.4868e-07],\n",
            "        [7.1962e-04],\n",
            "        [1.3854e-05],\n",
            "        [1.7753e-08],\n",
            "        [1.4013e-05],\n",
            "        [1.9410e-05],\n",
            "        [5.6408e-01],\n",
            "        [1.0719e-06],\n",
            "        [2.3140e-05],\n",
            "        [4.5587e-05],\n",
            "        [2.2020e-05],\n",
            "        [1.0378e-03],\n",
            "        [1.1426e-04],\n",
            "        [7.5070e-06],\n",
            "        [2.6115e-05],\n",
            "        [9.9963e-01],\n",
            "        [2.4305e-03],\n",
            "        [2.7910e-05],\n",
            "        [1.9762e-03],\n",
            "        [1.5775e-06],\n",
            "        [2.6624e-08],\n",
            "        [1.8457e-06],\n",
            "        [3.0868e-05],\n",
            "        [2.1512e-05],\n",
            "        [3.3318e-01],\n",
            "        [1.1454e-03],\n",
            "        [4.8145e-02],\n",
            "        [7.1392e-01],\n",
            "        [7.5860e-09],\n",
            "        [2.1092e-05],\n",
            "        [3.7061e-01],\n",
            "        [2.7927e-05],\n",
            "        [2.3658e-05],\n",
            "        [1.3228e-02],\n",
            "        [6.0360e-07],\n",
            "        [2.7927e-05],\n",
            "        [3.0340e-07],\n",
            "        [1.0478e-08],\n",
            "        [1.1826e-06],\n",
            "        [9.9639e-01],\n",
            "        [1.0842e-04],\n",
            "        [2.1997e-04],\n",
            "        [2.6575e-07],\n",
            "        [5.9397e-08],\n",
            "        [2.1208e-04],\n",
            "        [4.0138e-09],\n",
            "        [3.5575e-06],\n",
            "        [1.1454e-03],\n",
            "        [1.7097e-12],\n",
            "        [9.9825e-01],\n",
            "        [2.6701e-01],\n",
            "        [5.9865e-07],\n",
            "        [6.0353e-10],\n",
            "        [6.9607e-05],\n",
            "        [1.0358e-05],\n",
            "        [2.2099e-05],\n",
            "        [2.1078e-08],\n",
            "        [1.8538e-03],\n",
            "        [4.2436e-04],\n",
            "        [6.2323e-04],\n",
            "        [1.3653e-04],\n",
            "        [7.1612e-07],\n",
            "        [3.0675e-04],\n",
            "        [1.1623e-06],\n",
            "        [2.3429e-06],\n",
            "        [6.0859e-06],\n",
            "        [3.2770e-06],\n",
            "        [1.0000e+00],\n",
            "        [4.6332e-06],\n",
            "        [3.1034e-01],\n",
            "        [1.3249e-05],\n",
            "        [6.2099e-06],\n",
            "        [7.2540e-05],\n",
            "        [1.1356e-08],\n",
            "        [3.4954e-07],\n",
            "        [2.7910e-05],\n",
            "        [3.8208e-04],\n",
            "        [7.2041e-07],\n",
            "        [1.3395e-05],\n",
            "        [3.1102e-07],\n",
            "        [2.0702e-09],\n",
            "        [1.4213e-04],\n",
            "        [2.3429e-06],\n",
            "        [2.2410e-04],\n",
            "        [5.7751e-08],\n",
            "        [6.9165e-02],\n",
            "        [1.0000e+00],\n",
            "        [3.3410e-06],\n",
            "        [5.9719e-04],\n",
            "        [6.0859e-06],\n",
            "        [1.3731e-08],\n",
            "        [1.7620e-05],\n",
            "        [5.9293e-06],\n",
            "        [7.8742e-06],\n",
            "        [6.9782e-06],\n",
            "        [6.5455e-01],\n",
            "        [7.5650e-08],\n",
            "        [8.6144e-01],\n",
            "        [6.6348e-10],\n",
            "        [5.3384e-10],\n",
            "        [2.3085e-05],\n",
            "        [2.6115e-05],\n",
            "        [1.2572e-06],\n",
            "        [1.1293e-01],\n",
            "        [1.6750e-03],\n",
            "        [5.9293e-06],\n",
            "        [8.0421e-07],\n",
            "        [3.5994e-02],\n",
            "        [2.1490e-01],\n",
            "        [5.5059e-05],\n",
            "        [3.0236e-03],\n",
            "        [4.4614e-06],\n",
            "        [2.0667e-06],\n",
            "        [4.0859e-05],\n",
            "        [9.9570e-01],\n",
            "        [2.6086e-11],\n",
            "        [8.1228e-10],\n",
            "        [6.8086e-07],\n",
            "        [1.0000e+00],\n",
            "        [1.7232e-05],\n",
            "        [5.8490e-05],\n",
            "        [1.7440e-09],\n",
            "        [1.9862e-01],\n",
            "        [2.6115e-05],\n",
            "        [1.3596e-06],\n",
            "        [2.1991e-04],\n",
            "        [3.1724e-04],\n",
            "        [1.1696e-04],\n",
            "        [6.2853e-02],\n",
            "        [3.1320e-06],\n",
            "        [1.2923e-12],\n",
            "        [1.5909e-05],\n",
            "        [4.8998e-02],\n",
            "        [8.7403e-01],\n",
            "        [9.7287e-09],\n",
            "        [3.9753e-03],\n",
            "        [1.2826e-10],\n",
            "        [6.6117e-07],\n",
            "        [6.3468e-01],\n",
            "        [3.3473e-06],\n",
            "        [1.2081e-05],\n",
            "        [8.4397e-06],\n",
            "        [1.1169e-07],\n",
            "        [9.9996e-01],\n",
            "        [3.5004e-08],\n",
            "        [2.8493e-01],\n",
            "        [1.4821e-01],\n",
            "        [2.5310e-08],\n",
            "        [1.7896e-04],\n",
            "        [1.3136e-05],\n",
            "        [9.9537e-01],\n",
            "        [1.1407e-03],\n",
            "        [3.7634e-01],\n",
            "        [1.1454e-03],\n",
            "        [1.1923e-02],\n",
            "        [1.5889e-06],\n",
            "        [2.3658e-05],\n",
            "        [1.0017e-01],\n",
            "        [2.1972e-09],\n",
            "        [2.3658e-05],\n",
            "        [1.3706e-05]])\n"
          ]
        }
      ]
    },
    {
      "cell_type": "code",
      "source": [
        "sub['Survived'] = torch.Tensor.detach(test_y_pred)\n",
        "sub.to_csv('베이스 라인 .csv', index = False)"
      ],
      "metadata": {
        "id": "74ftZpgoPf5T"
      },
      "execution_count": 36,
      "outputs": []
    }
  ]
}